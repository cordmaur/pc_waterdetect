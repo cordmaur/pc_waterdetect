{
 "cells": [
  {
   "cell_type": "markdown",
   "id": "262b7084-1a1a-453c-9588-f51e7c17dc90",
   "metadata": {},
   "source": [
    "## Install Dependencies"
   ]
  },
  {
   "cell_type": "code",
   "execution_count": 1,
   "id": "bc1b8eb3-4fa7-4023-bf79-b4b729100a7b",
   "metadata": {},
   "outputs": [],
   "source": [
    "# %pip install earthengine-api -q\n",
    "# %pip install git+https://github.com/cordmaur/GEES2Downloader.git@main -q\n",
    "# %pip install geemap -q"
   ]
  },
  {
   "cell_type": "code",
   "execution_count": 2,
   "id": "815582b4-c3a8-4d2f-b6ce-92272c97d42c",
   "metadata": {},
   "outputs": [],
   "source": [
    "# %pip install pympler"
   ]
  },
  {
   "cell_type": "code",
   "execution_count": 3,
   "id": "5dfd9913-dce2-42a5-a64b-0d442c20e100",
   "metadata": {},
   "outputs": [],
   "source": [
    "%load_ext autoreload\n",
    "%autoreload 2"
   ]
  },
  {
   "cell_type": "code",
   "execution_count": 4,
   "id": "7bcf7e12-cd42-4e9e-9343-55fa30af0d51",
   "metadata": {},
   "outputs": [],
   "source": [
    "import ee\n",
    "import matplotlib.pyplot as plt\n",
    "from pathlib import Path\n",
    "\n",
    "import xarray as xr\n",
    "import rasterio as rio\n",
    "\n",
    "from waterdetect.engine import search_tiles, WaterDetect\n",
    "from waterdetect.cloudless import get_gee_img"
   ]
  },
  {
   "cell_type": "code",
   "execution_count": 5,
   "id": "7f0c122b-59d2-495b-a6ea-23e762226cc3",
   "metadata": {},
   "outputs": [],
   "source": [
    "# ee.Authenticate()\n",
    "ee.Initialize()"
   ]
  },
  {
   "cell_type": "code",
   "execution_count": 6,
   "id": "da37d17b-1552-4972-ac95-7235e07557a2",
   "metadata": {},
   "outputs": [],
   "source": [
    "# For memory tracking\n",
    "\n",
    "# %pip install pympler\n",
    "\n",
    "from IPython.display import clear_output\n",
    "\n",
    "# # from pympler.tracker import SummaryTracker\n",
    "# from pympler.classtracker import ClassTracker\n",
    "# # tracker = SummaryTracker()\n",
    "# tr = ClassTracker()\n",
    "# tr.track_class(WaterDetect)\n",
    "\n",
    "# tracker.print_diff()"
   ]
  },
  {
   "cell_type": "markdown",
   "id": "14295d86-ff14-4152-8392-c04b3722c7f0",
   "metadata": {},
   "source": [
    "# Getting the Images to be Processed"
   ]
  },
  {
   "cell_type": "code",
   "execution_count": 11,
   "id": "d5beb968-782e-4b4e-a150-0698a975e61d",
   "metadata": {},
   "outputs": [
    {
     "data": {
      "text/plain": [
       "[<Item id=S2A_MSIL2A_20200923T131251_R138_T23KLT_20200926T101107>,\n",
       " <Item id=S2B_MSIL2A_20200921T132239_R038_T23KLT_20200924T103835>,\n",
       " <Item id=S2B_MSIL2A_20200918T131249_R138_T23KLT_20200921T091822>,\n",
       " <Item id=S2A_MSIL2A_20200916T132241_R038_T23KLT_20200919T140006>,\n",
       " <Item id=S2A_MSIL2A_20200913T131251_R138_T23KLT_20200918T160725>,\n",
       " <Item id=S2B_MSIL2A_20200911T132239_R038_T23KLT_20200913T071206>,\n",
       " <Item id=S2B_MSIL2A_20200908T131249_R138_T23KLT_20200911T205608>,\n",
       " <Item id=S2A_MSIL2A_20200906T132241_R038_T23KLT_20200908T060055>,\n",
       " <Item id=S2A_MSIL2A_20200903T131251_R138_T23KLT_20201027T064157>,\n",
       " <Item id=S2B_MSIL2A_20200901T132239_R038_T23KLT_20201027T060941>,\n",
       " <Item id=S2B_MSIL2A_20200829T131249_R138_T23KLT_20200907T145047>,\n",
       " <Item id=S2A_MSIL2A_20200827T132241_R038_T23KLT_20200907T090447>,\n",
       " <Item id=S2A_MSIL2A_20200824T131251_R138_T23KLT_20200827T154015>,\n",
       " <Item id=S2B_MSIL2A_20200822T132239_R038_T23KLT_20200825T132753>,\n",
       " <Item id=S2B_MSIL2A_20200819T131249_R138_T23KLT_20200822T163759>,\n",
       " <Item id=S2A_MSIL2A_20200817T132241_R038_T23KLT_20200818T170259>,\n",
       " <Item id=S2A_MSIL2A_20200814T131251_R138_T23KLT_20200816T052007>,\n",
       " <Item id=S2B_MSIL2A_20200812T132239_R038_T23KLT_20200814T211057>,\n",
       " <Item id=S2B_MSIL2A_20200809T131249_R138_T23KLT_20200815T155404>,\n",
       " <Item id=S2A_MSIL2A_20200807T132241_R038_T23KLT_20200815T075858>,\n",
       " <Item id=S2A_MSIL2A_20200804T131251_R138_T23KLT_20200816T025644>,\n",
       " <Item id=S2B_MSIL2A_20200802T132239_R038_T23KLT_20200815T222726>,\n",
       " <Item id=S2B_MSIL2A_20200730T131249_R138_T23KLT_20200818T051045>,\n",
       " <Item id=S2A_MSIL2A_20200728T132241_R038_T23KLT_20200817T205700>,\n",
       " <Item id=S2A_MSIL2A_20200725T131251_R138_T23KLT_20200817T114211>,\n",
       " <Item id=S2B_MSIL2A_20200723T132239_R038_T23KLT_20200817T071457>,\n",
       " <Item id=S2B_MSIL2A_20200720T131249_R138_T23KLT_20200816T215508>,\n",
       " <Item id=S2A_MSIL2A_20200718T132241_R038_T23KLT_20200816T143332>,\n",
       " <Item id=S2A_MSIL2A_20200715T131251_R138_T23KLT_20200912T035714>,\n",
       " <Item id=S2B_MSIL2A_20200713T132239_R038_T23KLT_20200913T021514>,\n",
       " <Item id=S2B_MSIL2A_20200710T131249_R138_T23KLT_20200912T181134>,\n",
       " <Item id=S2A_MSIL2A_20200708T132241_R038_T23KLT_20200918T223010>,\n",
       " <Item id=S2A_MSIL2A_20200705T131251_R138_T23KLT_20200825T070827>,\n",
       " <Item id=S2B_MSIL2A_20200703T132239_R038_T23KLT_20200825T024750>,\n",
       " <Item id=S2B_MSIL2A_20200630T131249_R138_T23KLT_20200824T180331>,\n",
       " <Item id=S2A_MSIL2A_20200628T132241_R038_T23KLT_20200824T102621>,\n",
       " <Item id=S2A_MSIL2A_20200625T131251_R138_T23KLT_20200824T012001>,\n",
       " <Item id=S2B_MSIL2A_20200623T132239_R038_T23KLT_20200823T204954>,\n",
       " <Item id=S2B_MSIL2A_20200620T131249_R138_T23KLT_20200823T114357>,\n",
       " <Item id=S2A_MSIL2A_20200618T132241_R038_T23KLT_20200823T044057>,\n",
       " <Item id=S2A_MSIL2A_20200615T131251_R138_T23KLT_20200827T112040>,\n",
       " <Item id=S2B_MSIL2A_20200613T132239_R038_T23KLT_20200827T065506>,\n",
       " <Item id=S2B_MSIL2A_20200610T131249_R138_T23KLT_20200826T220055>,\n",
       " <Item id=S2A_MSIL2A_20200608T132241_R038_T23KLT_20200826T142840>,\n",
       " <Item id=S2A_MSIL2A_20200605T131251_R138_T23KLT_20200826T054002>,\n",
       " <Item id=S2B_MSIL2A_20200603T132239_R038_T23KLT_20200826T011111>,\n",
       " <Item id=S2B_MSIL2A_20200531T131249_R138_T23KLT_20200911T162648>,\n",
       " <Item id=S2A_MSIL2A_20200529T132241_R038_T23KLT_20200911T092353>,\n",
       " <Item id=S2A_MSIL2A_20200526T131251_R138_T23KLT_20200911T005152>,\n",
       " <Item id=S2B_MSIL2A_20200524T132239_R038_T23KLT_20200918T223007>,\n",
       " <Item id=S2B_MSIL2A_20200521T131249_R138_T23KLT_20200910T120057>,\n",
       " <Item id=S2A_MSIL2A_20200519T132241_R038_T23KLT_20200910T051032>,\n",
       " <Item id=S2A_MSIL2A_20200516T131251_R138_T23KLT_20200918T223007>,\n",
       " <Item id=S2B_MSIL2A_20200514T132229_R038_T23KLT_20200918T052950>,\n",
       " <Item id=S2B_MSIL2A_20200511T131239_R138_T23KLT_20200917T200458>,\n",
       " <Item id=S2A_MSIL2A_20200509T132241_R038_T23KLT_20200921T032713>,\n",
       " <Item id=S2A_MSIL2A_20200506T131251_R138_T23KLT_20200920T173915>,\n",
       " <Item id=S2B_MSIL2A_20200504T132229_R038_T23KLT_20200920T124808>,\n",
       " <Item id=S2B_MSIL2A_20200501T131239_R138_T23KLT_20200920T025401>,\n",
       " <Item id=S2A_MSIL2A_20200429T132241_R038_T23KLT_20200922T135025>,\n",
       " <Item id=S2A_MSIL2A_20200426T131251_R138_T23KLT_20200922T040614>,\n",
       " <Item id=S2B_MSIL2A_20200424T132229_R038_T23KLT_20200921T232236>,\n",
       " <Item id=S2B_MSIL2A_20200421T131239_R138_T23KLT_20200921T134353>,\n",
       " <Item id=S2A_MSIL2A_20200419T132231_R038_T23KLT_20200924T034854>,\n",
       " <Item id=S2A_MSIL2A_20200416T131241_R138_T23KLT_20200923T175545>,\n",
       " <Item id=S2B_MSIL2A_20200414T132229_R038_T23KLT_20200923T130318>,\n",
       " <Item id=S2B_MSIL2A_20200411T131239_R138_T23KLT_20200923T032306>,\n",
       " <Item id=S2A_MSIL2A_20200409T132231_R038_T23KLT_20200925T152813>,\n",
       " <Item id=S2A_MSIL2A_20200406T131241_R138_T23KLT_20200925T053723>,\n",
       " <Item id=S2B_MSIL2A_20200404T132229_R038_T23KLT_20200925T004804>,\n",
       " <Item id=S2B_MSIL2A_20200401T131239_R138_T23KLT_20200924T145929>,\n",
       " <Item id=S2A_MSIL2A_20200330T132231_R038_T23KLT_20201021T071923>,\n",
       " <Item id=S2A_MSIL2A_20200327T131241_R138_T23KLT_20201027T113202>,\n",
       " <Item id=S2B_MSIL2A_20200325T132229_R038_T23KLT_20201019T122208>,\n",
       " <Item id=S2B_MSIL2A_20200322T131239_R138_T23KLT_20201014T112521>,\n",
       " <Item id=S2A_MSIL2A_20200320T132231_R038_T23KLT_20201013T045657>,\n",
       " <Item id=S2A_MSIL2A_20200317T131241_R138_T23KLT_20201010T110410>,\n",
       " <Item id=S2B_MSIL2A_20200315T132229_R038_T23KLT_20201010T085749>,\n",
       " <Item id=S2B_MSIL2A_20200312T131239_R138_T23KLT_20201006T145812>,\n",
       " <Item id=S2A_MSIL2A_20200310T132231_R038_T23KLT_20201005T043018>,\n",
       " <Item id=S2A_MSIL2A_20200307T131241_R138_T23KLT_20201003T135553>,\n",
       " <Item id=S2B_MSIL2A_20200305T132229_R038_T23KLT_20200928T181130>,\n",
       " <Item id=S2B_MSIL2A_20200302T131239_R138_T23KLT_20200926T010942>,\n",
       " <Item id=S2A_MSIL2A_20200229T132231_R038_T23KLT_20200929T043354>,\n",
       " <Item id=S2A_MSIL2A_20200226T131241_R138_T23KLT_20200928T120300>,\n",
       " <Item id=S2B_MSIL2A_20200224T132229_R038_T23KLT_20200928T050540>,\n",
       " <Item id=S2B_MSIL2A_20200221T131239_R138_T23KLT_20200927T164045>,\n",
       " <Item id=S2A_MSIL2A_20200219T132231_R038_T23KLT_20200929T233751>,\n",
       " <Item id=S2A_MSIL2A_20200216T131241_R138_T23KLT_20200929T101730>,\n",
       " <Item id=S2B_MSIL2A_20200214T132229_R038_T23KLT_20201002T002531>,\n",
       " <Item id=S2B_MSIL2A_20200211T131239_R138_T23KLT_20201001T181534>,\n",
       " <Item id=S2A_MSIL2A_20200209T132231_R038_T23KLT_20201001T113547>,\n",
       " <Item id=S2A_MSIL2A_20200206T131231_R138_T23KLT_20201001T014224>,\n",
       " <Item id=S2B_MSIL2A_20200204T132229_R038_T23KLT_20200930T203447>,\n",
       " <Item id=S2B_MSIL2A_20200201T131239_R138_T23KLT_20200930T100255>,\n",
       " <Item id=S2A_MSIL2A_20200130T132231_R038_T23KLT_20201002T152116>,\n",
       " <Item id=S2A_MSIL2A_20200127T131241_R138_T23KLT_20201002T122640>,\n",
       " <Item id=S2B_MSIL2A_20200125T132229_R038_T23KLT_20201002T104345>,\n",
       " <Item id=S2B_MSIL2A_20200122T131239_R138_T23KLT_20201002T061135>,\n",
       " <Item id=S2A_MSIL2A_20200120T132231_R038_T23KLT_20201002T210711>,\n",
       " <Item id=S2A_MSIL2A_20200117T131241_R138_T23KLT_20201002T194707>,\n",
       " <Item id=S2B_MSIL2A_20200115T132229_R038_T23KLT_20201002T190730>,\n",
       " <Item id=S2B_MSIL2A_20200112T131239_R138_T23KLT_20201002T175750>,\n",
       " <Item id=S2A_MSIL2A_20200110T132231_R038_T23KLT_20201029T191913>,\n",
       " <Item id=S2A_MSIL2A_20200107T131241_R138_T23KLT_20201029T111859>,\n",
       " <Item id=S2B_MSIL2A_20200105T132229_R038_T23KLT_20201002T232350>,\n",
       " <Item id=S2B_MSIL2A_20200102T131239_R138_T23KLT_20201002T220704>]"
      ]
     },
     "execution_count": 11,
     "metadata": {},
     "output_type": "execute_result"
    }
   ],
   "source": [
    "tiles = search_tiles('23KLT', '2020-01/2020-09-23')\n",
    "tiles"
   ]
  },
  {
   "cell_type": "markdown",
   "id": "efdce791-6032-4d0e-89c6-3a1fe7380936",
   "metadata": {},
   "source": [
    "## Process the Images"
   ]
  },
  {
   "cell_type": "code",
   "execution_count": null,
   "id": "4dfd0ef8-41be-4766-a4fe-6d09a945962b",
   "metadata": {},
   "outputs": [
    {
     "name": "stdout",
     "output_type": "stream",
     "text": [
      "0:02:41.387079\n",
      "**************************************************\n",
      "Processing tile <Item id=S2B_MSIL2A_20200901T132239_R038_T23KLT_20201027T060941>\n",
      "Downloading s2cloudless for S2B_MSIL2A_20200901T132239_R038_T23KLT_20201027T060941\n",
      "Getting image: S2B_MSIL2A_20200901T132239_R038_T23KLT_20201027T060941\n",
      "Retrieving band info\n",
      "Downloading B02\n",
      "Dividing band in 4 tiles\n"
     ]
    },
    {
     "data": {
      "application/vnd.jupyter.widget-view+json": {
       "model_id": "e0e42c545e6b45e99571073a581e4ff8",
       "version_major": 2,
       "version_minor": 0
      },
      "text/plain": [
       "Tiles:   0%|          | 0/4 [00:00<?, ?tile/s]"
      ]
     },
     "metadata": {},
     "output_type": "display_data"
    },
    {
     "data": {
      "application/vnd.jupyter.widget-view+json": {
       "model_id": "03d3636e40e94129b2bae25849291227",
       "version_major": 2,
       "version_minor": 0
      },
      "text/plain": [
       "Tile[0:2896,0:2896]:   0%|          | 0.00/10.9M [00:00<?, ?b/s]"
      ]
     },
     "metadata": {},
     "output_type": "display_data"
    },
    {
     "data": {
      "application/vnd.jupyter.widget-view+json": {
       "model_id": "92956cf8e46140bf80f275df9aca449a",
       "version_major": 2,
       "version_minor": 0
      },
      "text/plain": [
       "Tile[0:2896,2896:5490]:   0%|          | 0.00/9.77M [00:00<?, ?b/s]"
      ]
     },
     "metadata": {},
     "output_type": "display_data"
    },
    {
     "data": {
      "application/vnd.jupyter.widget-view+json": {
       "model_id": "2e6095a66c974b388107d49f99f6359f",
       "version_major": 2,
       "version_minor": 0
      },
      "text/plain": [
       "Tile[2896:5490,0:2896]:   0%|          | 0.00/9.77M [00:00<?, ?b/s]"
      ]
     },
     "metadata": {},
     "output_type": "display_data"
    },
    {
     "data": {
      "application/vnd.jupyter.widget-view+json": {
       "model_id": "b9a356ed47e644d4af49d54ea7c334cc",
       "version_major": 2,
       "version_minor": 0
      },
      "text/plain": [
       "Tile[2896:5490,2896:5490]:   0%|          | 0.00/8.75M [00:00<?, ?b/s]"
      ]
     },
     "metadata": {},
     "output_type": "display_data"
    },
    {
     "name": "stdout",
     "output_type": "stream",
     "text": [
      "Downloading B03\n"
     ]
    }
   ],
   "source": [
    "import gc\n",
    "from datetime import datetime\n",
    "\n",
    "cluster_bands = ['mndwi', 'ndwi', 'B12']\n",
    "\n",
    "lap = datetime.now()\n",
    "\n",
    "for tile in tiles:\n",
    "    clear_output(wait=True)\n",
    "        \n",
    "    print(datetime.now() - lap)\n",
    "    lap = datetime.now()\n",
    "    \n",
    "    # tr.create_snapshot()\n",
    "    # tr.stats.print_summary()\n",
    "    \n",
    "    print('*'*50)\n",
    "    print(f'Processing tile {tile}')\n",
    "    wd = WaterDetect(tile, cluster_bands, s2clouds=True, n_jobs=7)\n",
    "    wd.run_detect_water()\n",
    "    \n",
    "    # save thumbnails\n",
    "    wd.plot_thumbs(cols=3, thumbs=['rgb', 'watermask', 'mndwi', 'mask', 'glint', 'ndwi'],  save_folder='./tmp')\n",
    "    \n",
    "    # save graphs\n",
    "    wd.plot_graphs([['ndwi', 'mndwi'], ['B12', 'mndwi']], cols=2, save_folder='./tmp')\n",
    "    \n",
    "    # save the watermask\n",
    "    wd.save_geotiff('nodata_watermask', Path('./tmp')/f'{wd.img_item.id[:38]}_watermask.tif')\n",
    "\n",
    "    del wd\n",
    "    gc.collect()"
   ]
  },
  {
   "cell_type": "code",
   "execution_count": null,
   "id": "d660763c-2bf8-4aac-8a89-6d0619b9c097",
   "metadata": {},
   "outputs": [],
   "source": []
  }
 ],
 "metadata": {
  "kernelspec": {
   "display_name": "Python 3",
   "language": "python",
   "name": "python3"
  },
  "language_info": {
   "codemirror_mode": {
    "name": "ipython",
    "version": 3
   },
   "file_extension": ".py",
   "mimetype": "text/x-python",
   "name": "python",
   "nbconvert_exporter": "python",
   "pygments_lexer": "ipython3",
   "version": "3.8.10"
  }
 },
 "nbformat": 4,
 "nbformat_minor": 5
}
