{
 "cells": [
  {
   "cell_type": "markdown",
   "id": "262b7084-1a1a-453c-9588-f51e7c17dc90",
   "metadata": {},
   "source": [
    "## Install Dependencies"
   ]
  },
  {
   "cell_type": "code",
   "execution_count": 2,
   "id": "bc1b8eb3-4fa7-4023-bf79-b4b729100a7b",
   "metadata": {},
   "outputs": [],
   "source": [
    "# %pip install earthengine-api -q\n",
    "# %pip install git+https://github.com/cordmaur/GEES2Downloader.git@main -q\n",
    "# %pip install geemap -q"
   ]
  },
  {
   "cell_type": "code",
   "execution_count": 2,
   "id": "3556580c-9e58-4334-9a00-0d99c99b2649",
   "metadata": {},
   "outputs": [],
   "source": [
    "# %pip install pympler"
   ]
  },
  {
   "cell_type": "code",
   "execution_count": 1,
   "id": "18f6dfc5-266f-4cef-acdf-553e8f93968c",
   "metadata": {},
   "outputs": [],
   "source": [
    "from IPython.display import clear_output\n",
    "\n",
    "from pympler.tracker import SummaryTracker\n",
    "# from pympler.classtracker import ClassTracker\n",
    "tracker = SummaryTracker()\n",
    "# tr = ClassTracker()"
   ]
  },
  {
   "cell_type": "code",
   "execution_count": 2,
   "id": "d404a349-96a1-45d6-8c30-295d92b9b801",
   "metadata": {},
   "outputs": [
    {
     "name": "stdout",
     "output_type": "stream",
     "text": [
      "                       types |   # objects |   total size\n",
      "============================ | =========== | ============\n",
      "                        list |       11832 |   1020.77 KB\n",
      "                         str |       11815 |    855.81 KB\n",
      "                         int |        2494 |     68.20 KB\n",
      "                        dict |           5 |      7.87 KB\n",
      "                       bytes |          13 |      1.25 KB\n",
      "  builtin_function_or_method |          10 |    720     B\n",
      "           collections.deque |           1 |    624     B\n",
      "                        code |           2 |    534     B\n",
      "                        cell |          12 |    480     B\n",
      "         function (<lambda>) |           2 |    272     B\n",
      "                        type |           0 |    256     B\n",
      "                      method |           4 |    256     B\n",
      "                     weakref |           2 |    144     B\n",
      "       function (_set_state) |           1 |    136     B\n",
      "  function (_call_set_state) |           1 |    136     B\n"
     ]
    }
   ],
   "source": [
    "tracker.print_diff()"
   ]
  },
  {
   "cell_type": "code",
   "execution_count": 3,
   "id": "5dfd9913-dce2-42a5-a64b-0d442c20e100",
   "metadata": {},
   "outputs": [],
   "source": [
    "%load_ext autoreload\n",
    "%autoreload 2"
   ]
  },
  {
   "cell_type": "code",
   "execution_count": 4,
   "id": "dad4fd0d-da09-4dbd-945d-dc2d67b305ea",
   "metadata": {},
   "outputs": [],
   "source": [
    "import ee\n",
    "import geemap\n",
    "import matplotlib.pyplot as plt\n",
    "from pathlib import Path\n",
    "\n",
    "import xarray as xr\n",
    "import rasterio as rio\n",
    "\n",
    "from waterdetect.engine import search_tiles, WaterDetect\n",
    "from waterdetect.cloudless import get_gee_img\n",
    "# ee.Authenticate()\n",
    "ee.Initialize()"
   ]
  },
  {
   "cell_type": "markdown",
   "id": "14295d86-ff14-4152-8392-c04b3722c7f0",
   "metadata": {},
   "source": [
    "# Getting the Images to be Processed"
   ]
  },
  {
   "cell_type": "code",
   "execution_count": 5,
   "id": "d5beb968-782e-4b4e-a150-0698a975e61d",
   "metadata": {},
   "outputs": [
    {
     "data": {
      "text/plain": [
       "[<Item id=S2B_MSIL2A_20201210T132229_R038_T22KFV_20201214T062248>,\n",
       " <Item id=S2A_MSIL2A_20201208T133221_R081_T22KFV_20201209T174840>,\n",
       " <Item id=S2A_MSIL2A_20201205T132231_R038_T22KFV_20201206T050528>,\n",
       " <Item id=S2B_MSIL2A_20201203T133229_R081_T22KFV_20201204T055129>,\n",
       " <Item id=S2B_MSIL2A_20201130T132229_R038_T22KFV_20201219T232037>,\n",
       " <Item id=S2A_MSIL2A_20201128T133231_R081_T22KFV_20201128T235114>,\n",
       " <Item id=S2A_MSIL2A_20201125T132231_R038_T22KFV_20201219T185307>,\n",
       " <Item id=S2B_MSIL2A_20201123T133229_R081_T22KFV_20201124T130335>,\n",
       " <Item id=S2B_MSIL2A_20201120T132239_R038_T22KFV_20201122T073957>,\n",
       " <Item id=S2A_MSIL2A_20201118T133231_R081_T22KFV_20201119T210428>,\n",
       " <Item id=S2A_MSIL2A_20201115T132241_R038_T22KFV_20201117T014213>,\n",
       " <Item id=S2B_MSIL2A_20201113T133229_R081_T22KFV_20201114T204853>,\n",
       " <Item id=S2B_MSIL2A_20201110T132239_R038_T22KFV_20201111T205757>,\n",
       " <Item id=S2A_MSIL2A_20201108T133231_R081_T22KFV_20201109T211700>,\n",
       " <Item id=S2A_MSIL2A_20201105T132241_R038_T22KFV_20201107T005528>,\n",
       " <Item id=S2B_MSIL2A_20201031T132239_R038_T22KFV_20201102T074643>,\n",
       " <Item id=S2A_MSIL2A_20201029T133231_R081_T22KFV_20201101T103750>,\n",
       " <Item id=S2A_MSIL2A_20201026T132241_R038_T22KFV_20201031T044959>,\n",
       " <Item id=S2B_MSIL2A_20201024T133229_R081_T22KFV_20201029T111644>,\n",
       " <Item id=S2B_MSIL2A_20201021T132239_R038_T22KFV_20201023T041341>,\n",
       " <Item id=S2A_MSIL2A_20201019T133231_R081_T22KFV_20201021T015843>,\n",
       " <Item id=S2A_MSIL2A_20201016T132241_R038_T22KFV_20201027T131317>,\n",
       " <Item id=S2B_MSIL2A_20201014T133229_R081_T22KFV_20210420T235833>,\n",
       " <Item id=S2B_MSIL2A_20201011T132239_R038_T22KFV_20201014T021032>,\n",
       " <Item id=S2A_MSIL2A_20201009T133231_R081_T22KFV_20201011T103017>,\n",
       " <Item id=S2A_MSIL2A_20201006T132241_R038_T22KFV_20201010T071303>,\n",
       " <Item id=S2B_MSIL2A_20201004T133229_R081_T22KFV_20201006T001941>,\n",
       " <Item id=S2B_MSIL2A_20201001T132239_R038_T22KFV_20201004T111855>,\n",
       " <Item id=S2A_MSIL2A_20200929T133231_R081_T22KFV_20201001T123612>,\n",
       " <Item id=S2A_MSIL2A_20200926T132241_R038_T22KFV_20200927T222914>,\n",
       " <Item id=S2B_MSIL2A_20200924T133229_R081_T22KFV_20200926T130526>,\n",
       " <Item id=S2B_MSIL2A_20200921T132239_R038_T22KFV_20200924T103926>,\n",
       " <Item id=S2A_MSIL2A_20200919T133231_R081_T22KFV_20200922T203411>,\n",
       " <Item id=S2A_MSIL2A_20200916T132241_R038_T22KFV_20201101T164936>,\n",
       " <Item id=S2B_MSIL2A_20200914T133229_R081_T22KFV_20200917T141717>,\n",
       " <Item id=S2B_MSIL2A_20200911T132239_R038_T22KFV_20200918T221508>,\n",
       " <Item id=S2A_MSIL2A_20200909T133231_R081_T22KFV_20200911T233518>,\n",
       " <Item id=S2A_MSIL2A_20200906T132241_R038_T22KFV_20200908T060201>,\n",
       " <Item id=S2B_MSIL2A_20200904T133229_R081_T22KFV_20201027T150938>,\n",
       " <Item id=S2B_MSIL2A_20200901T132239_R038_T22KFV_20201027T060924>,\n",
       " <Item id=S2A_MSIL2A_20200830T133231_R081_T22KFV_20200907T172941>,\n",
       " <Item id=S2A_MSIL2A_20200827T132241_R038_T22KFV_20200907T090438>,\n",
       " <Item id=S2B_MSIL2A_20200825T133229_R081_T22KFV_20200827T183317>,\n",
       " <Item id=S2B_MSIL2A_20200822T132239_R038_T22KFV_20200825T132734>,\n",
       " <Item id=S2A_MSIL2A_20200820T133231_R081_T22KFV_20200822T191103>,\n",
       " <Item id=S2A_MSIL2A_20200817T132241_R038_T22KFV_20200818T170320>,\n",
       " <Item id=S2B_MSIL2A_20200815T133229_R081_T22KFV_20200818T102653>,\n",
       " <Item id=S2B_MSIL2A_20200812T132239_R038_T22KFV_20200814T211227>,\n",
       " <Item id=S2A_MSIL2A_20200810T133231_R081_T22KFV_20200814T151430>,\n",
       " <Item id=S2A_MSIL2A_20200807T132241_R038_T22KFV_20200815T075818>,\n",
       " <Item id=S2B_MSIL2A_20200805T133229_R081_T22KFV_20200815T040245>,\n",
       " <Item id=S2B_MSIL2A_20200802T132239_R038_T22KFV_20200815T222700>,\n",
       " <Item id=S2A_MSIL2A_20200731T133231_R081_T22KFV_20200818T065144>,\n",
       " <Item id=S2A_MSIL2A_20200728T132241_R038_T22KFV_20200817T205631>,\n",
       " <Item id=S2B_MSIL2A_20200726T133229_R081_T22KFV_20200817T161925>,\n",
       " <Item id=S2B_MSIL2A_20200723T132239_R038_T22KFV_20200817T071431>,\n",
       " <Item id=S2A_MSIL2A_20200721T133231_R081_T22KFV_20200816T233423>,\n",
       " <Item id=S2A_MSIL2A_20200718T132241_R038_T22KFV_20200816T143231>,\n",
       " <Item id=S2B_MSIL2A_20200716T133229_R081_T22KFV_20200816T095251>,\n",
       " <Item id=S2B_MSIL2A_20200713T132239_R038_T22KFV_20200913T021455>,\n",
       " <Item id=S2A_MSIL2A_20200711T133231_R081_T22KFV_20200912T193835>,\n",
       " <Item id=S2A_MSIL2A_20200708T132241_R038_T22KFV_20200918T221503>,\n",
       " <Item id=S2B_MSIL2A_20200706T133229_R081_T22KFV_20200912T065435>,\n",
       " <Item id=S2B_MSIL2A_20200703T132239_R038_T22KFV_20200825T024712>,\n",
       " <Item id=S2A_MSIL2A_20200701T133231_R081_T22KFV_20200824T193427>,\n",
       " <Item id=S2A_MSIL2A_20200628T132241_R038_T22KFV_20200824T102539>,\n",
       " <Item id=S2B_MSIL2A_20200626T133229_R081_T22KFV_20200824T055417>,\n",
       " <Item id=S2B_MSIL2A_20200623T132239_R038_T22KFV_20200823T204913>,\n",
       " <Item id=S2A_MSIL2A_20200621T133231_R081_T22KFV_20200823T131438>,\n",
       " <Item id=S2A_MSIL2A_20200618T132241_R038_T22KFV_20200823T044021>,\n",
       " <Item id=S2B_MSIL2A_20200616T133229_R081_T22KFV_20200823T003810>,\n",
       " <Item id=S2B_MSIL2A_20200613T132239_R038_T22KFV_20200827T065422>,\n",
       " <Item id=S2A_MSIL2A_20200611T133231_R081_T22KFV_20200826T233109>,\n",
       " <Item id=S2A_MSIL2A_20200608T132241_R038_T22KFV_20200826T142802>,\n",
       " <Item id=S2B_MSIL2A_20200606T133229_R081_T22KFV_20200826T101551>,\n",
       " <Item id=S2B_MSIL2A_20200603T132239_R038_T22KFV_20200826T011046>,\n",
       " <Item id=S2A_MSIL2A_20200601T133231_R081_T22KFV_20200825T173756>,\n",
       " <Item id=S2A_MSIL2A_20200529T132241_R038_T22KFV_20200911T092334>,\n",
       " <Item id=S2B_MSIL2A_20200527T133229_R081_T22KFV_20200911T051050>,\n",
       " <Item id=S2B_MSIL2A_20200524T132239_R038_T22KFV_20200918T221503>,\n",
       " <Item id=S2A_MSIL2A_20200522T133231_R081_T22KFV_20200910T133009>,\n",
       " <Item id=S2A_MSIL2A_20200519T132241_R038_T22KFV_20200910T051013>,\n",
       " <Item id=S2B_MSIL2A_20200517T133229_R081_T22KFV_20200910T010813>,\n",
       " <Item id=S2B_MSIL2A_20200514T132229_R038_T22KFV_20200918T052915>,\n",
       " <Item id=S2A_MSIL2A_20200512T133231_R081_T22KFV_20200917T214002>,\n",
       " <Item id=S2A_MSIL2A_20200509T132241_R038_T22KFV_20200921T032627>,\n",
       " <Item id=S2B_MSIL2A_20200507T133219_R081_T22KFV_20200920T223844>,\n",
       " <Item id=S2B_MSIL2A_20200504T132229_R038_T22KFV_20200920T124729>,\n",
       " <Item id=S2A_MSIL2A_20200502T133231_R081_T22KFV_20200920T043359>,\n",
       " <Item id=S2A_MSIL2A_20200429T132241_R038_T22KFV_20200922T135010>,\n",
       " <Item id=S2B_MSIL2A_20200427T133219_R081_T22KFV_20200922T090035>,\n",
       " <Item id=S2B_MSIL2A_20200424T132229_R038_T22KFV_20200921T232157>,\n",
       " <Item id=S2A_MSIL2A_20200422T133231_R081_T22KFV_20200921T152144>,\n",
       " <Item id=S2A_MSIL2A_20200419T132231_R038_T22KFV_20201027T070313>,\n",
       " <Item id=S2B_MSIL2A_20200417T133219_R081_T22KFV_20200923T225622>,\n",
       " <Item id=S2B_MSIL2A_20200414T132229_R038_T22KFV_20200923T130205>,\n",
       " <Item id=S2A_MSIL2A_20200412T133221_R081_T22KFV_20200923T050032>,\n",
       " <Item id=S2A_MSIL2A_20200409T132231_R038_T22KFV_20200925T152735>,\n",
       " <Item id=S2B_MSIL2A_20200407T133219_R081_T22KFV_20200925T103829>,\n",
       " <Item id=S2B_MSIL2A_20200404T132229_R038_T22KFV_20200925T004708>,\n",
       " <Item id=S2A_MSIL2A_20200402T133221_R081_T22KFV_20200924T163817>,\n",
       " <Item id=S2A_MSIL2A_20200330T132231_R038_T22KFV_20201021T072057>,\n",
       " <Item id=S2B_MSIL2A_20200328T133219_R081_T22KFV_20201027T123149>,\n",
       " <Item id=S2B_MSIL2A_20200325T132229_R038_T22KFV_20201019T122336>,\n",
       " <Item id=S2A_MSIL2A_20200323T133221_R081_T22KFV_20201015T063007>,\n",
       " <Item id=S2A_MSIL2A_20200320T132231_R038_T22KFV_20201027T100524>,\n",
       " <Item id=S2B_MSIL2A_20200318T133219_R081_T22KFV_20201010T162940>,\n",
       " <Item id=S2B_MSIL2A_20200315T132229_R038_T22KFV_20201010T085755>,\n",
       " <Item id=S2A_MSIL2A_20200313T133221_R081_T22KFV_20201008T134641>,\n",
       " <Item id=S2A_MSIL2A_20200310T132231_R038_T22KFV_20201005T042908>,\n",
       " <Item id=S2B_MSIL2A_20200308T133219_R081_T22KFV_20200930T023701>,\n",
       " <Item id=S2B_MSIL2A_20200305T132229_R038_T22KFV_20200928T181349>,\n",
       " <Item id=S2A_MSIL2A_20200303T133221_R081_T22KFV_20200926T040332>,\n",
       " <Item id=S2A_MSIL2A_20200229T132231_R038_T22KFV_20200929T043238>,\n",
       " <Item id=S2B_MSIL2A_20200227T133219_R081_T22KFV_20200928T201212>,\n",
       " <Item id=S2B_MSIL2A_20200224T132229_R038_T22KFV_20200928T050431>,\n",
       " <Item id=S2A_MSIL2A_20200222T133221_R081_T22KFV_20200927T184127>,\n",
       " <Item id=S2A_MSIL2A_20200219T132231_R038_T22KFV_20200929T233631>,\n",
       " <Item id=S2B_MSIL2A_20200217T133219_R081_T22KFV_20200929T170706>,\n",
       " <Item id=S2B_MSIL2A_20200214T132229_R038_T22KFV_20201002T002500>,\n",
       " <Item id=S2A_MSIL2A_20200212T133221_R081_T22KFV_20201001T191853>,\n",
       " <Item id=S2A_MSIL2A_20200209T132231_R038_T22KFV_20201001T113507>,\n",
       " <Item id=S2B_MSIL2A_20200207T133219_R081_T22KFV_20210714T002355>,\n",
       " <Item id=S2B_MSIL2A_20200204T132229_R038_T22KFV_20200930T203350>,\n",
       " <Item id=S2A_MSIL2A_20200202T133221_R081_T22KFV_20200930T115515>,\n",
       " <Item id=S2A_MSIL2A_20200130T132231_R038_T22KFV_20201002T152107>,\n",
       " <Item id=S2B_MSIL2A_20200128T133219_R081_T22KFV_20201002T135836>,\n",
       " <Item id=S2B_MSIL2A_20200125T132229_R038_T22KFV_20201002T104324>,\n",
       " <Item id=S2A_MSIL2A_20200123T133221_R081_T22KFV_20201002T070803>,\n",
       " <Item id=S2A_MSIL2A_20200120T132231_R038_T22KFV_20201002T210708>,\n",
       " <Item id=S2B_MSIL2A_20200118T133219_R081_T22KFV_20201002T202719>,\n",
       " <Item id=S2B_MSIL2A_20200115T132229_R038_T22KFV_20201002T190725>,\n",
       " <Item id=S2A_MSIL2A_20200113T133221_R081_T22KFV_20201009T172537>,\n",
       " <Item id=S2A_MSIL2A_20200110T132231_R038_T22KFV_20201029T191831>,\n",
       " <Item id=S2B_MSIL2A_20200108T133219_R081_T22KFV_20201029T152127>,\n",
       " <Item id=S2B_MSIL2A_20200105T132229_R038_T22KFV_20201002T232342>,\n",
       " <Item id=S2A_MSIL2A_20200103T133221_R081_T22KFV_20201002T222025>,\n",
       " <Item id=S2A_MSIL2A_20191231T132231_R038_T22KFV_20201003T113053>,\n",
       " <Item id=S2B_MSIL2A_20191229T133219_R081_T22KFV_20201003T110331>,\n",
       " <Item id=S2B_MSIL2A_20191226T132229_R038_T22KFV_20201003T095758>,\n",
       " <Item id=S2A_MSIL2A_20191224T133221_R081_T22KFV_20201003T090144>,\n",
       " <Item id=S2A_MSIL2A_20191221T132231_R038_T22KFV_20201003T074524>,\n",
       " <Item id=S2B_MSIL2A_20191219T133219_R081_T22KFV_20201003T070737>,\n",
       " <Item id=S2B_MSIL2A_20191216T132229_R038_T22KFV_20201003T055130>,\n",
       " <Item id=S2A_MSIL2A_20191214T133221_R081_T22KFV_20201003T045023>,\n",
       " <Item id=S2A_MSIL2A_20191211T132231_R038_T22KFV_20201003T033036>,\n",
       " <Item id=S2B_MSIL2A_20191209T133219_R081_T22KFV_20201003T025242>,\n",
       " <Item id=S2B_MSIL2A_20191206T132229_R038_T22KFV_20201003T013642>,\n",
       " <Item id=S2A_MSIL2A_20191204T133221_R081_T22KFV_20201003T003328>,\n",
       " <Item id=S2A_MSIL2A_20191201T132231_R038_T22KFV_20201030T191722>,\n",
       " <Item id=S2B_MSIL2A_20191129T133219_R081_T22KFV_20201003T205223>,\n",
       " <Item id=S2B_MSIL2A_20191126T132229_R038_T22KFV_20201003T200205>,\n",
       " <Item id=S2A_MSIL2A_20191124T133231_R081_T22KFV_20201003T192918>,\n",
       " <Item id=S2A_MSIL2A_20191121T132231_R038_T22KFV_20201003T183448>,\n",
       " <Item id=S2B_MSIL2A_20191119T133219_R081_T22KFV_20201003T180915>,\n",
       " <Item id=S2B_MSIL2A_20191116T132229_R038_T22KFV_20201003T171313>,\n",
       " <Item id=S2A_MSIL2A_20191114T133231_R081_T22KFV_20201003T162231>,\n",
       " <Item id=S2A_MSIL2A_20191111T132241_R038_T22KFV_20201003T152239>,\n",
       " <Item id=S2B_MSIL2A_20191109T133229_R081_T22KFV_20201003T145200>,\n",
       " <Item id=S2B_MSIL2A_20191106T132239_R038_T22KFV_20201003T135035>,\n",
       " <Item id=S2A_MSIL2A_20191104T133231_R081_T22KFV_20201003T125843>,\n",
       " <Item id=S2A_MSIL2A_20191101T132241_R038_T22KFV_20201003T115158>,\n",
       " <Item id=S2B_MSIL2A_20191030T133229_R081_T22KFV_20201004T074719>,\n",
       " <Item id=S2B_MSIL2A_20191027T132239_R038_T22KFV_20201004T065003>,\n",
       " <Item id=S2A_MSIL2A_20191025T133231_R081_T22KFV_20201004T060431>,\n",
       " <Item id=S2A_MSIL2A_20191022T132241_R038_T22KFV_20201004T045948>,\n",
       " <Item id=S2B_MSIL2A_20191020T133229_R081_T22KFV_20201004T042823>,\n",
       " <Item id=S2B_MSIL2A_20191017T132239_R038_T22KFV_20201004T032642>,\n",
       " <Item id=S2A_MSIL2A_20191015T133231_R081_T22KFV_20201004T023230>,\n",
       " <Item id=S2A_MSIL2A_20191012T132241_R038_T22KFV_20201004T012531>,\n",
       " <Item id=S2B_MSIL2A_20191010T133229_R081_T22KFV_20201004T005150>,\n",
       " <Item id=S2B_MSIL2A_20191007T132239_R038_T22KFV_20201003T234537>,\n",
       " <Item id=S2A_MSIL2A_20191005T133231_R081_T22KFV_20201003T224936>,\n",
       " <Item id=S2A_MSIL2A_20191002T132241_R038_T22KFV_20201003T214143>]"
      ]
     },
     "execution_count": 5,
     "metadata": {},
     "output_type": "execute_result"
    }
   ],
   "source": [
    "tiles = search_tiles('22KFV', '2019-10/2020-12-12')\n",
    "tiles"
   ]
  },
  {
   "cell_type": "markdown",
   "id": "efdce791-6032-4d0e-89c6-3a1fe7380936",
   "metadata": {},
   "source": [
    "## Process the Images"
   ]
  },
  {
   "cell_type": "code",
   "execution_count": null,
   "id": "4dfd0ef8-41be-4766-a4fe-6d09a945962b",
   "metadata": {},
   "outputs": [
    {
     "name": "stdout",
     "output_type": "stream",
     "text": [
      "                                            types |   # objects |   total size\n",
      "================================================= | =========== | ============\n",
      "                        numpy.ma.core.MaskedArray |          12 |     23.00 MB\n",
      "                                    numpy.ndarray |        5514 |      9.96 MB\n",
      "                                             dict |       19298 |      5.67 MB\n",
      "                              function (<lambda>) |        4970 |    660.08 KB\n",
      "                       builtin_function_or_method |        5476 |    385.03 KB\n",
      "                                          weakref |        4978 |    350.02 KB\n",
      "                                              set |        1607 |    340.98 KB\n",
      "                                            tuple |        5745 |    311.16 KB\n",
      "                                              int |        9928 |    310.25 KB\n",
      "                                             list |        3989 |    245.82 KB\n",
      "                                  itertools.count |        1591 |     87.01 KB\n",
      "                        matplotlib.artist._XYPair |        1547 |     84.60 KB\n",
      "                matplotlib.cbook.CallbackRegistry |        1591 |     74.58 KB\n",
      "  matplotlib.transforms.CompositeGenericTransform |        1356 |     63.56 KB\n",
      "                       matplotlib.transforms.Bbox |        1256 |     58.88 KB\n",
      "****************************************************************************************************\n",
      "Processing tile <Item id=S2B_MSIL2A_20200723T132239_R038_T22KFV_20200817T071431>\n",
      "Downloading s2cloudless for S2B_MSIL2A_20200723T132239_R038_T22KFV_20200817T071431\n",
      "Getting image: S2B_MSIL2A_20200723T132239_R038_T22KFV_20200817T071431\n",
      "Retrieving band info\n",
      "Dividing band in 4 tiles\n"
     ]
    },
    {
     "data": {
      "application/vnd.jupyter.widget-view+json": {
       "model_id": "0bd8aa3e8165419f85f3b8a2307d865d",
       "version_major": 2,
       "version_minor": 0
      },
      "text/plain": [
       "Tiles:   0%|          | 0/4 [00:00<?, ?tile/s]"
      ]
     },
     "metadata": {},
     "output_type": "display_data"
    },
    {
     "name": "stdout",
     "output_type": "stream",
     "text": [
      "resampling B11 to (10980, 10980)\n",
      "resampling B12 to (10980, 10980)\n",
      "resampling SCL to (10980, 10980)\n",
      "Getting metadata: granule-metadata\n"
     ]
    },
    {
     "name": "stderr",
     "output_type": "stream",
     "text": [
      "/home/jovyan/pc_waterdetect/waterdetect/glint.py:54: RuntimeWarning: Mean of empty slice\n",
      "  return np.nanmean(arrays_lst, axis=0)\n"
     ]
    }
   ],
   "source": [
    "import gc\n",
    "\n",
    "cluster_bands = ['mndwi', 'ndwi', 'B12']\n",
    "\n",
    "for tile in tiles:\n",
    "    clear_output()\n",
    "    tracker.print_diff()\n",
    "    \n",
    "    print('*'*100)\n",
    "    print(f'Processing tile {tile}')\n",
    "    wd = WaterDetect(tile, cluster_bands, s2clouds=True, n_jobs=4)\n",
    "    wd.run_detect_water()\n",
    "    \n",
    "    # save thumbnails\n",
    "    wd.plot_thumbs(cols=3, thumbs=['rgb', 'watermask', 'mndwi', 'mask', 'glint', 'ndwi'],  save_folder='../tmp2')\n",
    "    \n",
    "    # save graphs\n",
    "    wd.plot_graphs([['ndwi', 'mndwi'], ['B12', 'mndwi']], cols=2, save_folder='../tmp2')\n",
    "    \n",
    "    # save the watermask\n",
    "    wd.save_geotiff('nodata_watermask', Path('../tmp2')/f'{wd.img_item.id[:38]}_watermask.tif')\n",
    "    \n",
    "    del wd\n",
    "    gc.collect()"
   ]
  },
  {
   "cell_type": "code",
   "execution_count": null,
   "id": "689c4e85-eed7-4294-a2e3-b7440634cee4",
   "metadata": {},
   "outputs": [],
   "source": []
  },
  {
   "cell_type": "code",
   "execution_count": null,
   "id": "313ea971-0ef0-4a6f-9a05-996e68cf9459",
   "metadata": {},
   "outputs": [],
   "source": []
  },
  {
   "cell_type": "code",
   "execution_count": null,
   "id": "2e3e0e64-85a5-4638-9357-2e3f414f9fc5",
   "metadata": {},
   "outputs": [],
   "source": []
  },
  {
   "cell_type": "code",
   "execution_count": null,
   "id": "95f2e86e-0ad6-4303-9166-bcdbd625a6c1",
   "metadata": {},
   "outputs": [],
   "source": []
  },
  {
   "cell_type": "code",
   "execution_count": null,
   "id": "66e70669-31d0-4e61-989f-67b6df49d241",
   "metadata": {},
   "outputs": [],
   "source": []
  },
  {
   "cell_type": "code",
   "execution_count": null,
   "id": "d576b05c-43fe-4734-89dd-580d849af9da",
   "metadata": {},
   "outputs": [],
   "source": []
  },
  {
   "cell_type": "code",
   "execution_count": null,
   "id": "f1c9594e-db40-4ae1-9665-13049f1a7727",
   "metadata": {},
   "outputs": [],
   "source": []
  },
  {
   "cell_type": "code",
   "execution_count": null,
   "id": "9aa97dd4-2223-4840-894b-680ad52fedd0",
   "metadata": {},
   "outputs": [],
   "source": [
    "tiles = search_tiles('23KLT', '2019-01/2019-12')\n",
    "tiles"
   ]
  },
  {
   "cell_type": "code",
   "execution_count": null,
   "id": "2e9c820d-2679-4db0-8af4-4f654662dbd5",
   "metadata": {},
   "outputs": [],
   "source": []
  },
  {
   "cell_type": "code",
   "execution_count": null,
   "id": "658215be-4421-4478-9c37-45cf77647f15",
   "metadata": {},
   "outputs": [],
   "source": [
    "import gc\n",
    "\n",
    "cluster_bands = ['mndwi', 'ndwi', 'B12']\n",
    "\n",
    "for tile in tiles:\n",
    "    print('*'*100)\n",
    "    print(f'Processing tile {tile}')\n",
    "    wd = WaterDetect(tile, cluster_bands, s2clouds=True, n_jobs=4)\n",
    "    wd.run_detect_water()\n",
    "    \n",
    "    # save thumbnails\n",
    "    wd.plot_thumbs(cols=3, thumbs=['rgb', 'watermask', 'mndwi', 'mask', 'glint', 'ndwi'],  save_folder='../tmp2')\n",
    "    \n",
    "    # save graphs\n",
    "    wd.plot_graphs([['ndwi', 'mndwi'], ['B12', 'mndwi']], cols=2, save_folder='../tmp2')\n",
    "    \n",
    "    # save the watermask\n",
    "    wd.save_geotiff('nodata_watermask', Path('../tmp2')/f'{wd.img_item.id[:38]}_watermask.tif')\n",
    "    \n",
    "    del wd\n",
    "    gc.collect()"
   ]
  },
  {
   "cell_type": "code",
   "execution_count": null,
   "id": "e2e4d42f-d2a0-481c-81d7-8bffd61b4df2",
   "metadata": {},
   "outputs": [],
   "source": []
  }
 ],
 "metadata": {
  "kernelspec": {
   "display_name": "Python 3 (ipykernel)",
   "language": "python",
   "name": "python3"
  },
  "language_info": {
   "codemirror_mode": {
    "name": "ipython",
    "version": 3
   },
   "file_extension": ".py",
   "mimetype": "text/x-python",
   "name": "python",
   "nbconvert_exporter": "python",
   "pygments_lexer": "ipython3",
   "version": "3.8.12"
  }
 },
 "nbformat": 4,
 "nbformat_minor": 5
}
