{
 "cells": [
  {
   "cell_type": "markdown",
   "id": "262b7084-1a1a-453c-9588-f51e7c17dc90",
   "metadata": {},
   "source": [
    "## Install Dependencies"
   ]
  },
  {
   "cell_type": "code",
   "execution_count": null,
   "id": "bc1b8eb3-4fa7-4023-bf79-b4b729100a7b",
   "metadata": {},
   "outputs": [],
   "source": [
    "# %pip install earthengine-api -q\n",
    "# %pip install git+https://github.com/cordmaur/GEES2Downloader.git@main -q\n",
    "# %pip install geemap -q\n",
    "# %pip install stackstac"
   ]
  },
  {
   "cell_type": "code",
   "execution_count": 1,
   "id": "da37d17b-1552-4972-ac95-7235e07557a2",
   "metadata": {},
   "outputs": [],
   "source": [
    "# For memory tracking\n",
    "\n",
    "# %pip install pympler\n",
    "\n",
    "# from IPython.display import clear_output\n",
    "\n",
    "# from pympler.tracker import SummaryTracker\n",
    "# # from pympler.classtracker import ClassTracker\n",
    "# tracker = SummaryTracker()\n",
    "# # tr = ClassTracker()\n",
    "\n",
    "# tracker.print_diff()"
   ]
  },
  {
   "cell_type": "code",
   "execution_count": 2,
   "id": "a3913e04-6763-4f22-abda-559e8714a2fc",
   "metadata": {},
   "outputs": [],
   "source": [
    "import os"
   ]
  },
  {
   "cell_type": "code",
   "execution_count": 3,
   "id": "e5076d2b-35ba-487e-abf3-b2d69e0a8202",
   "metadata": {},
   "outputs": [],
   "source": [
    "os.environ['PROJ_LIB'] = r'D:\\Programs\\miniconda3\\envs\\rasterio\\Library\\share\\proj'\n",
    "os.environ['GDAL_DATA'] = r'D:\\Programs\\miniconda3\\envs\\rasterio\\Library\\share'"
   ]
  },
  {
   "cell_type": "code",
   "execution_count": 4,
   "id": "8c16fb18-ccc9-4c66-99a8-c4c3236bdb33",
   "metadata": {},
   "outputs": [
    {
     "data": {
      "text/plain": [
       "'D:\\\\Programs\\\\miniconda3\\\\envs\\\\rasterio\\\\Library\\\\share\\\\proj'"
      ]
     },
     "execution_count": 4,
     "metadata": {},
     "output_type": "execute_result"
    }
   ],
   "source": [
    "os.environ['PROJ_LIB']"
   ]
  },
  {
   "cell_type": "code",
   "execution_count": 5,
   "id": "5dfd9913-dce2-42a5-a64b-0d442c20e100",
   "metadata": {},
   "outputs": [],
   "source": [
    "%load_ext autoreload\n",
    "%autoreload 2"
   ]
  },
  {
   "cell_type": "code",
   "execution_count": 6,
   "id": "40c522f7-1b98-4957-97e4-61e6a40ad5fb",
   "metadata": {},
   "outputs": [],
   "source": [
    "import ee\n",
    "import matplotlib.pyplot as plt\n",
    "from pathlib import Path\n",
    "\n",
    "import xarray as xr\n",
    "import rasterio as rio\n",
    "\n",
    "from waterdetect.engine import search_tiles, WaterDetect, open_image\n",
    "from waterdetect.cloudless import get_gee_img"
   ]
  },
  {
   "cell_type": "code",
   "execution_count": 9,
   "id": "34ea79a1-3a16-4727-a700-82336b1260b6",
   "metadata": {},
   "outputs": [],
   "source": [
    "# ee.Authenticate()\n",
    "ee.Initialize()"
   ]
  },
  {
   "cell_type": "markdown",
   "id": "14295d86-ff14-4152-8392-c04b3722c7f0",
   "metadata": {},
   "source": [
    "# Getting the Images to be Processed"
   ]
  },
  {
   "cell_type": "code",
   "execution_count": 8,
   "id": "d5beb968-782e-4b4e-a150-0698a975e61d",
   "metadata": {},
   "outputs": [
    {
     "data": {
      "text/plain": [
       "[<Item id=S2B_MSIL2A_20191030T133229_R081_T22KFV_20201004T074719>,\n",
       " <Item id=S2B_MSIL2A_20191027T132239_R038_T22KFV_20201004T065003>,\n",
       " <Item id=S2A_MSIL2A_20191025T133231_R081_T22KFV_20201004T060431>,\n",
       " <Item id=S2A_MSIL2A_20191022T132241_R038_T22KFV_20201004T045948>,\n",
       " <Item id=S2B_MSIL2A_20191020T133229_R081_T22KFV_20201004T042823>,\n",
       " <Item id=S2B_MSIL2A_20191017T132239_R038_T22KFV_20201004T032642>,\n",
       " <Item id=S2A_MSIL2A_20191015T133231_R081_T22KFV_20201004T023230>,\n",
       " <Item id=S2A_MSIL2A_20191012T132241_R038_T22KFV_20201004T012531>,\n",
       " <Item id=S2B_MSIL2A_20191010T133229_R081_T22KFV_20201004T005150>,\n",
       " <Item id=S2B_MSIL2A_20191007T132239_R038_T22KFV_20201003T234537>,\n",
       " <Item id=S2A_MSIL2A_20191005T133231_R081_T22KFV_20201003T224936>,\n",
       " <Item id=S2A_MSIL2A_20191002T132241_R038_T22KFV_20201003T214143>]"
      ]
     },
     "execution_count": 8,
     "metadata": {},
     "output_type": "execute_result"
    }
   ],
   "source": [
    "tiles = search_tiles('22KFV', '2019-10')\n",
    "tiles"
   ]
  },
  {
   "cell_type": "markdown",
   "id": "e94146a1-e11e-4f26-8e84-3e9745dd8da6",
   "metadata": {},
   "source": [
    "## Download Images from PC"
   ]
  },
  {
   "cell_type": "code",
   "execution_count": 9,
   "id": "edf9a05f-29af-46e0-af5a-7888ceb4c6cd",
   "metadata": {},
   "outputs": [],
   "source": [
    "import planetary_computer as pc\n",
    "import stackstac"
   ]
  },
  {
   "cell_type": "code",
   "execution_count": 10,
   "id": "383d2c90-fc6e-457d-a937-381ae640f70f",
   "metadata": {},
   "outputs": [],
   "source": [
    "tile = tiles[0]"
   ]
  },
  {
   "cell_type": "code",
   "execution_count": 20,
   "id": "72b168d1-842d-42e9-ba9a-87b010cb4965",
   "metadata": {},
   "outputs": [],
   "source": [
    "signed = pc.sign(tile).to_dict()"
   ]
  },
  {
   "cell_type": "code",
   "execution_count": 25,
   "id": "8cf78947-f1f8-4bf4-96ec-0fbf705cff84",
   "metadata": {},
   "outputs": [],
   "source": [
    "img = stackstac.stack(items=[signed],\n",
    "                      # bounds=tile.bbox,\n",
    "                      resolution=10, \n",
    "                      chunksize=4096,\n",
    "                      assets=['B02', 'SCL'],\n",
    "                      epsg=tile.properties['proj:epsg']\n",
    "                     )"
   ]
  },
  {
   "cell_type": "code",
   "execution_count": null,
   "id": "11a3857a-eda6-4075-8f17-5917c70651f9",
   "metadata": {},
   "outputs": [],
   "source": [
    "arr = img.values"
   ]
  },
  {
   "cell_type": "code",
   "execution_count": 14,
   "id": "e475189a-85db-4232-8f90-ea3eaeca7ebd",
   "metadata": {},
   "outputs": [
    {
     "name": "stdout",
     "output_type": "stream",
     "text": [
      "Getting image: S2B_MSIL2A_20191030T133229_R081_T22KFV_20201004T074719\n",
      "resampling SCL to (10980, 10980)\n",
      "resampling B12 to (10980, 10980)\n",
      "resampling B11 to (10980, 10980)\n",
      "Wall time: 24.4 s\n"
     ]
    }
   ],
   "source": [
    "%time img = open_image(tiles[0], ['B03', 'SCL', 'B12', 'B11'], n_jobs=1)"
   ]
  },
  {
   "cell_type": "code",
   "execution_count": 15,
   "id": "8e80b38d-e817-4b19-9a57-4deb82d8bdc8",
   "metadata": {},
   "outputs": [
    {
     "name": "stdout",
     "output_type": "stream",
     "text": [
      "Getting image: S2B_MSIL2A_20191030T133229_R081_T22KFV_20201004T074719\n",
      "resampling SCL to (10980, 10980)\n",
      "resampling B12 to (10980, 10980)\n",
      "resampling B11 to (10980, 10980)\n",
      "Wall time: 1min 2s\n"
     ]
    }
   ],
   "source": [
    "%time img = open_image(tiles[0], ['B02', 'SCL', 'B12', 'B11'], n_jobs=4)"
   ]
  },
  {
   "cell_type": "code",
   "execution_count": 16,
   "id": "87c0e5a6-cfc2-463b-9cc8-43bd4351cfd7",
   "metadata": {},
   "outputs": [
    {
     "name": "stdout",
     "output_type": "stream",
     "text": [
      "Getting image: S2B_MSIL2A_20191030T133229_R081_T22KFV_20201004T074719\n",
      "resampling SCL to (10980, 10980)\n",
      "resampling B12 to (10980, 10980)\n",
      "resampling B11 to (10980, 10980)\n",
      "Wall time: 56.6 s\n"
     ]
    }
   ],
   "source": [
    "%time img = open_image(tiles[0], ['B04', 'SCL', 'B12', 'B11'], n_jobs=4)"
   ]
  },
  {
   "cell_type": "code",
   "execution_count": 17,
   "id": "d0972d4a-6159-43d2-9246-efda83ef1721",
   "metadata": {},
   "outputs": [
    {
     "name": "stdout",
     "output_type": "stream",
     "text": [
      "Getting image: S2B_MSIL2A_20191030T133229_R081_T22KFV_20201004T074719\n",
      "resampling SCL to (10980, 10980)\n",
      "resampling B12 to (10980, 10980)\n",
      "resampling B11 to (10980, 10980)\n",
      "Wall time: 1min 2s\n"
     ]
    }
   ],
   "source": [
    "%time img = open_image(tiles[0], ['B08', 'SCL', 'B12', 'B11'], n_jobs=1)"
   ]
  },
  {
   "cell_type": "code",
   "execution_count": null,
   "id": "c90ced25-ab09-4e2d-9707-ba7d85a575d4",
   "metadata": {},
   "outputs": [],
   "source": []
  },
  {
   "cell_type": "code",
   "execution_count": null,
   "id": "c97b0a88-3f73-4c08-afc6-07e104388938",
   "metadata": {},
   "outputs": [],
   "source": []
  },
  {
   "cell_type": "code",
   "execution_count": 18,
   "id": "78188e6f-7463-4928-903e-4929f6e92615",
   "metadata": {},
   "outputs": [
    {
     "data": {
      "text/plain": [
       "{'datetime': '2019-10-30T13:32:29.024000Z',\n",
       " 'platform': 'Sentinel-2B',\n",
       " 'proj:epsg': 32722,\n",
       " 'instruments': ['msi'],\n",
       " 's2:mgrs_tile': '22KFV',\n",
       " 'constellation': 'Sentinel 2',\n",
       " 's2:granule_id': 'S2B_OPER_MSI_L2A_TL_ESRI_20201004T074726_A013835_T22KFV_N02.12',\n",
       " 'eo:cloud_cover': 0.189204,\n",
       " 's2:datatake_id': 'GS2B_20191030T133229_013835_N02.12',\n",
       " 's2:product_uri': 'S2B_MSIL2A_20191030T133229_N0212_R081_T22KFV_20201004T074719.SAFE',\n",
       " 's2:datastrip_id': 'S2B_OPER_MSI_L2A_DS_ESRI_20201004T074726_S20191030T133225_N02.12',\n",
       " 's2:product_type': 'S2MSI2A',\n",
       " 'sat:orbit_state': 'descending',\n",
       " 's2:datatake_type': 'INS-NOBS',\n",
       " 's2:generation_time': '2020-10-04T07:47:19.691Z',\n",
       " 'sat:relative_orbit': 81,\n",
       " 's2:water_percentage': 4.268145,\n",
       " 's2:mean_solar_zenith': 21.7022994294368,\n",
       " 's2:mean_solar_azimuth': 68.2506169194091,\n",
       " 's2:processing_baseline': '02.12',\n",
       " 's2:snow_ice_percentage': 0.0,\n",
       " 's2:vegetation_percentage': 51.006758,\n",
       " 's2:thin_cirrus_percentage': 0.002517,\n",
       " 's2:cloud_shadow_percentage': 0.013404,\n",
       " 's2:nodata_pixel_percentage': 37.649828,\n",
       " 's2:unclassified_percentage': 0.327882,\n",
       " 's2:dark_features_percentage': 0.408378,\n",
       " 's2:not_vegetated_percentage': 43.786228,\n",
       " 's2:degraded_msi_data_percentage': 0.0,\n",
       " 's2:high_proba_clouds_percentage': 0.007535,\n",
       " 's2:reflectance_conversion_factor': 1.0126328326784,\n",
       " 's2:medium_proba_clouds_percentage': 0.179152,\n",
       " 's2:saturated_defective_pixel_percentage': 0.0}"
      ]
     },
     "execution_count": 18,
     "metadata": {},
     "output_type": "execute_result"
    }
   ],
   "source": [
    "tile.properties"
   ]
  },
  {
   "cell_type": "code",
   "execution_count": 10,
   "id": "78726fdb-0fc2-455f-b934-14d84eea0a76",
   "metadata": {},
   "outputs": [],
   "source": [
    "import rioxarray as xrio\n",
    "from waterdetect.engine import *"
   ]
  },
  {
   "cell_type": "code",
   "execution_count": 79,
   "id": "bc969ef8-5b1f-4b52-888c-06cf46d48600",
   "metadata": {},
   "outputs": [],
   "source": [
    "image = tiles[-1]\n",
    "bands = ['B02', 'B12', 'B03']\n",
    "out_shape = (10980, 10980)"
   ]
  },
  {
   "cell_type": "code",
   "execution_count": 80,
   "id": "c65f0452-39bc-4548-bc6d-cf13d477182d",
   "metadata": {},
   "outputs": [],
   "source": [
    "assets = {band: pc.sign(image.assets[band].href) for band in bands}"
   ]
  },
  {
   "cell_type": "code",
   "execution_count": 81,
   "id": "1ee9812e-add8-4ea1-8838-d8faa17b4d56",
   "metadata": {},
   "outputs": [],
   "source": [
    "datasets = {band: xrio.open_rasterio(asset).squeeze() for band, asset in assets.items()}"
   ]
  },
  {
   "cell_type": "code",
   "execution_count": null,
   "id": "10815c3b-0943-44b3-9db9-c4904235bc30",
   "metadata": {},
   "outputs": [],
   "source": [
    "%time datasets['B03'].values"
   ]
  },
  {
   "cell_type": "code",
   "execution_count": 1,
   "id": "05392231-7656-4964-8e46-7497cea5d8d1",
   "metadata": {},
   "outputs": [],
   "source": [
    "from datetime import datetime, timedelta\n",
    "from joblib import Parallel, delayed\n",
    "from concurrent.futures import ThreadPoolExecutor, ProcessPoolExecutor"
   ]
  },
  {
   "cell_type": "code",
   "execution_count": 88,
   "id": "e0f1c807-9a9a-4c4b-bd3a-0f5a4087bb8d",
   "metadata": {},
   "outputs": [
    {
     "name": "stdout",
     "output_type": "stream",
     "text": [
      "0:01:19.709091\n"
     ]
    }
   ],
   "source": [
    "start = datetime.now()\n",
    "for band in datasets:\n",
    "    if band != 'SCL':\n",
    "        datasets[band] = (datasets[band]/10000).astype('float32')\n",
    "        \n",
    "print(datetime.now() - start)"
   ]
  },
  {
   "cell_type": "code",
   "execution_count": 82,
   "id": "a4812c4e-a12c-4e3d-babc-d05a76feeb69",
   "metadata": {},
   "outputs": [],
   "source": [
    "from time import sleep \n",
    "def rescale(b):\n",
    "    print(f'Rescaling {b.shape}')\n",
    "    x = (b/10000).astype('float32')\n",
    "    print(f'Finished shape {x.shape} at {datetime.now()}')\n",
    "    return x\n",
    "\n",
    "def wait(secs):\n",
    "    sleep(secs)\n",
    "    print(f'Waited for {secs}secs')\n",
    "    return f'Waited for {secs}secs'"
   ]
  },
  {
   "cell_type": "code",
   "execution_count": 40,
   "id": "45a6d375-5c42-4cfe-b080-2ca93608c328",
   "metadata": {},
   "outputs": [
    {
     "name": "stdout",
     "output_type": "stream",
     "text": [
      "Waited for 5secs\n",
      "Waited for 10secs\n"
     ]
    }
   ],
   "source": [
    "pool = ThreadPoolExecutor(max_workers=3)\n",
    "\n",
    "w1 = pool.submit(wait, 5)\n",
    "w2 = pool.submit(wait, 10)\n",
    "\n",
    "pool.shutdown()"
   ]
  },
  {
   "cell_type": "code",
   "execution_count": 41,
   "id": "7b2c9ff5-a260-4387-94dd-ff66efbe6bfe",
   "metadata": {},
   "outputs": [
    {
     "data": {
      "text/plain": [
       "<Future at 0x226360ac190 state=finished returned str>"
      ]
     },
     "execution_count": 41,
     "metadata": {},
     "output_type": "execute_result"
    }
   ],
   "source": [
    "w1"
   ]
  },
  {
   "cell_type": "code",
   "execution_count": 35,
   "id": "c4ba66d0-9f86-4ef3-9f27-6ac6a4a6c61a",
   "metadata": {},
   "outputs": [
    {
     "name": "stdout",
     "output_type": "stream",
     "text": [
      "Waited for 5secs\n",
      "Waited for 10secs\n"
     ]
    },
    {
     "data": {
      "text/plain": [
       "'Waited for 10secs'"
      ]
     },
     "execution_count": 35,
     "metadata": {},
     "output_type": "execute_result"
    }
   ],
   "source": [
    "w2.result()"
   ]
  },
  {
   "cell_type": "code",
   "execution_count": null,
   "id": "ea8a4767-e8d2-4d55-b210-b7b25f191ef3",
   "metadata": {},
   "outputs": [],
   "source": []
  },
  {
   "cell_type": "code",
   "execution_count": 83,
   "id": "3e935cd2-ead9-409b-9e4c-78a1ae838a90",
   "metadata": {},
   "outputs": [
    {
     "name": "stdout",
     "output_type": "stream",
     "text": [
      "Rescaling (10980, 10980)\n",
      "Rescaling (5490, 5490)\n",
      "Rescaling (10980, 10980)\n",
      "0:00:00.008005\n"
     ]
    }
   ],
   "source": [
    "start = datetime.now()\n",
    "\n",
    "pool = ThreadPoolExecutor(max_workers=3)\n",
    "\n",
    "b2 = pool.submit(rescale, datasets[bands[0]])\n",
    "b12 = pool.submit(rescale, datasets[bands[1]])\n",
    "b3 = pool.submit(rescale, datasets[bands[2]])\n",
    "\n",
    "# pool.shutdown()\n",
    "print(datetime.now() - start)"
   ]
  },
  {
   "cell_type": "code",
   "execution_count": 87,
   "id": "34c16fa7-2047-4288-84cd-7b397e2786b2",
   "metadata": {},
   "outputs": [
    {
     "data": {
      "text/plain": [
       "<Future at 0x22636392f10 state=finished returned DataArray>"
      ]
     },
     "execution_count": 87,
     "metadata": {},
     "output_type": "execute_result"
    }
   ],
   "source": [
    "b2"
   ]
  },
  {
   "cell_type": "code",
   "execution_count": 88,
   "id": "e015a30b-2f8b-4ecf-aa06-3d675180a54b",
   "metadata": {},
   "outputs": [
    {
     "data": {
      "text/plain": [
       "<Future at 0x22636047d30 state=running>"
      ]
     },
     "execution_count": 88,
     "metadata": {},
     "output_type": "execute_result"
    }
   ],
   "source": [
    "b3"
   ]
  },
  {
   "cell_type": "code",
   "execution_count": 89,
   "id": "bb1ea67b-486d-44d2-8aba-2181535b4e84",
   "metadata": {},
   "outputs": [
    {
     "data": {
      "text/plain": [
       "<Future at 0x2264ed93760 state=running>"
      ]
     },
     "execution_count": 89,
     "metadata": {},
     "output_type": "execute_result"
    },
    {
     "name": "stdout",
     "output_type": "stream",
     "text": [
      "Finished shape (5490, 5490) at 2022-01-28 20:00:40.894338\n",
      "Finished shape (10980, 10980) at 2022-01-28 20:01:26.178212\n"
     ]
    }
   ],
   "source": [
    "b12 "
   ]
  },
  {
   "cell_type": "code",
   "execution_count": null,
   "id": "ce598f55-e618-4446-85f6-8c9b9170a329",
   "metadata": {},
   "outputs": [],
   "source": []
  },
  {
   "cell_type": "code",
   "execution_count": null,
   "id": "35821b11-193f-4995-847b-40bd4a5d3573",
   "metadata": {},
   "outputs": [],
   "source": []
  },
  {
   "cell_type": "code",
   "execution_count": null,
   "id": "56282ffc-e0d1-4bac-bdb9-5a01ca0be031",
   "metadata": {},
   "outputs": [],
   "source": []
  },
  {
   "cell_type": "code",
   "execution_count": null,
   "id": "9682384d-495a-4b1a-8147-a14bae5abcbb",
   "metadata": {},
   "outputs": [],
   "source": []
  },
  {
   "cell_type": "code",
   "execution_count": null,
   "id": "0b356ee9-68e2-41a8-8647-b09f43330ea0",
   "metadata": {},
   "outputs": [],
   "source": []
  },
  {
   "cell_type": "code",
   "execution_count": 19,
   "id": "69beb76c-eade-40c7-8837-6fc81bbb7e82",
   "metadata": {},
   "outputs": [
    {
     "data": {
      "text/plain": [
       "\u001b[1;31mInit signature:\u001b[0m\n",
       "\u001b[0mThreadPoolExecutor\u001b[0m\u001b[1;33m(\u001b[0m\u001b[1;33m\n",
       "\u001b[0m    \u001b[0mmax_workers\u001b[0m\u001b[1;33m=\u001b[0m\u001b[1;32mNone\u001b[0m\u001b[1;33m,\u001b[0m\u001b[1;33m\n",
       "\u001b[0m    \u001b[0mthread_name_prefix\u001b[0m\u001b[1;33m=\u001b[0m\u001b[1;34m''\u001b[0m\u001b[1;33m,\u001b[0m\u001b[1;33m\n",
       "\u001b[0m    \u001b[0minitializer\u001b[0m\u001b[1;33m=\u001b[0m\u001b[1;32mNone\u001b[0m\u001b[1;33m,\u001b[0m\u001b[1;33m\n",
       "\u001b[0m    \u001b[0minitargs\u001b[0m\u001b[1;33m=\u001b[0m\u001b[1;33m(\u001b[0m\u001b[1;33m)\u001b[0m\u001b[1;33m,\u001b[0m\u001b[1;33m\n",
       "\u001b[0m\u001b[1;33m)\u001b[0m\u001b[1;33m\u001b[0m\u001b[1;33m\u001b[0m\u001b[0m\n",
       "\u001b[1;31mDocstring:\u001b[0m      This is an abstract base class for concrete asynchronous executors.\n",
       "\u001b[1;31mInit docstring:\u001b[0m\n",
       "Initializes a new ThreadPoolExecutor instance.\n",
       "\n",
       "Args:\n",
       "    max_workers: The maximum number of threads that can be used to\n",
       "        execute the given calls.\n",
       "    thread_name_prefix: An optional name prefix to give our threads.\n",
       "    initializer: A callable used to initialize worker threads.\n",
       "    initargs: A tuple of arguments to pass to the initializer.\n",
       "\u001b[1;31mFile:\u001b[0m           d:\\programs\\miniconda3\\envs\\planetary\\lib\\concurrent\\futures\\thread.py\n",
       "\u001b[1;31mType:\u001b[0m           type\n",
       "\u001b[1;31mSubclasses:\u001b[0m     \n"
      ]
     },
     "metadata": {},
     "output_type": "display_data"
    }
   ],
   "source": [
    "ThreadPoolExecutor?"
   ]
  },
  {
   "cell_type": "code",
   "execution_count": null,
   "id": "72b34f83-455d-41cd-8721-018690f00121",
   "metadata": {},
   "outputs": [],
   "source": []
  },
  {
   "cell_type": "code",
   "execution_count": 28,
   "id": "e84d187e-6c6a-41c6-a35e-a1095af7c0e8",
   "metadata": {},
   "outputs": [
    {
     "name": "stdout",
     "output_type": "stream",
     "text": [
      "Rescaling <xarray.DataArray (y: 10980, x: 10980)>\n",
      "[120560400 values with dtype=uint16]\n",
      "Coordinates:\n",
      "    band         int32 1\n",
      "  * x            (x) float64 6e+05 6e+05 6e+05 ... 7.098e+05 7.098e+05 7.098e+05\n",
      "  * y            (y) float64 7.5e+06 7.5e+06 7.5e+06 ... 7.39e+06 7.39e+06\n",
      "    spatial_ref  int32 0\n",
      "Attributes:\n",
      "    scale_factor:  1.0\n",
      "    add_offset:    0.0\n",
      "Rescaling <xarray.DataArray (y: 5490, x: 5490)>\n",
      "[30140100 values with dtype=uint16]\n",
      "Coordinates:\n",
      "    band         int32 1\n",
      "  * x            (x) float64 6e+05 6e+05 6.000e+05 ... 7.098e+05 7.098e+05\n",
      "  * y            (y) float64 7.5e+06 7.5e+06 7.5e+06 ... 7.39e+06 7.39e+06\n",
      "    spatial_ref  int32 0\n",
      "Attributes:\n",
      "    scale_factor:  1.0\n",
      "    add_offset:    0.0\n",
      "Rescaling <xarray.DataArray (y: 10980, x: 10980)>\n",
      "[120560400 values with dtype=uint16]\n",
      "Coordinates:\n",
      "    band         int32 1\n",
      "  * x            (x) float64 6e+05 6e+05 6e+05 ... 7.098e+05 7.098e+05 7.098e+05\n",
      "  * y            (y) float64 7.5e+06 7.5e+06 7.5e+06 ... 7.39e+06 7.39e+06\n",
      "    spatial_ref  int32 0\n",
      "Attributes:\n",
      "    scale_factor:  1.0\n",
      "    add_offset:    0.0\n",
      "0:01:51.720722\n"
     ]
    }
   ],
   "source": [
    "start = datetime.now()\n",
    "\n",
    "with ThreadPoolExecutor(max_workers=3) as executor:\n",
    "    b2 = executor.submit(rescale, datasets[bands[0]])\n",
    "    b12 = executor.submit(rescale, datasets[bands[1]])\n",
    "    b3 = executor.submit(rescale, datasets[bands[2]])\n",
    "    \n",
    "\n",
    "\n",
    "print(datetime.now() - start)"
   ]
  },
  {
   "cell_type": "code",
   "execution_count": 27,
   "id": "fb0625ef-59a2-4224-8146-5ee41aa9b820",
   "metadata": {},
   "outputs": [
    {
     "data": {
      "text/plain": [
       "concurrent.futures.process.BrokenProcessPool('A process in the process pool was terminated abruptly while the future was running or pending.')"
      ]
     },
     "execution_count": 27,
     "metadata": {},
     "output_type": "execute_result"
    }
   ],
   "source": [
    "b2.exception()"
   ]
  },
  {
   "cell_type": "code",
   "execution_count": 100,
   "id": "d61387f7-101d-46f7-898a-a545dd48884c",
   "metadata": {},
   "outputs": [
    {
     "data": {
      "text/plain": [
       "TypeError(\"'dict' object is not callable\")"
      ]
     },
     "execution_count": 108,
     "metadata": {},
     "output_type": "execute_result"
    }
   ],
   "source": [
    "f = futures[0]"
   ]
  },
  {
   "cell_type": "code",
   "execution_count": 102,
   "id": "1d21ed32-96cc-454e-aca3-8c2aa846bd98",
   "metadata": {},
   "outputs": [
    {
     "data": {
      "text/plain": [
       "{'B02': <xarray.DataArray (y: 10980, x: 10980)>\n",
       " [120560400 values with dtype=uint16]\n",
       " Coordinates:\n",
       "     band         int32 1\n",
       "   * x            (x) float64 6e+05 6e+05 6e+05 ... 7.098e+05 7.098e+05 7.098e+05\n",
       "   * y            (y) float64 7.5e+06 7.5e+06 7.5e+06 ... 7.39e+06 7.39e+06\n",
       "     spatial_ref  int32 0\n",
       " Attributes:\n",
       "     scale_factor:  1.0\n",
       "     add_offset:    0.0,\n",
       " 'B12': <xarray.DataArray (y: 5490, x: 5490)>\n",
       " [30140100 values with dtype=uint16]\n",
       " Coordinates:\n",
       "     band         int32 1\n",
       "   * x            (x) float64 6e+05 6e+05 6.000e+05 ... 7.098e+05 7.098e+05\n",
       "   * y            (y) float64 7.5e+06 7.5e+06 7.5e+06 ... 7.39e+06 7.39e+06\n",
       "     spatial_ref  int32 0\n",
       " Attributes:\n",
       "     scale_factor:  1.0\n",
       "     add_offset:    0.0,\n",
       " 'B03': <xarray.DataArray (y: 10980, x: 10980)>\n",
       " [120560400 values with dtype=uint16]\n",
       " Coordinates:\n",
       "     band         int32 1\n",
       "   * x            (x) float64 6e+05 6e+05 6e+05 ... 7.098e+05 7.098e+05 7.098e+05\n",
       "   * y            (y) float64 7.5e+06 7.5e+06 7.5e+06 ... 7.39e+06 7.39e+06\n",
       "     spatial_ref  int32 0\n",
       " Attributes:\n",
       "     scale_factor:  1.0\n",
       "     add_offset:    0.0}"
      ]
     },
     "execution_count": 109,
     "metadata": {},
     "output_type": "execute_result"
    }
   ],
   "source": []
  },
  {
   "cell_type": "code",
   "execution_count": 94,
   "id": "23d02ea0-56b8-4448-86a6-e9eb8c008720",
   "metadata": {},
   "outputs": [
    {
     "ename": "PicklingError",
     "evalue": "Could not pickle the task to send it to the workers.",
     "output_type": "error",
     "traceback": [
      "\u001b[1;31m---------------------------------------------------------------------------\u001b[0m",
      "\u001b[1;31m_RemoteTraceback\u001b[0m                          Traceback (most recent call last)",
      "\u001b[1;31m_RemoteTraceback\u001b[0m: \n\"\"\"\nTraceback (most recent call last):\n  File \"D:\\Programs\\miniconda3\\envs\\planetary\\lib\\site-packages\\joblib\\externals\\loky\\backend\\queues.py\", line 153, in _feed\n    obj_ = dumps(obj, reducers=reducers)\n  File \"D:\\Programs\\miniconda3\\envs\\planetary\\lib\\site-packages\\joblib\\externals\\loky\\backend\\reduction.py\", line 271, in dumps\n    dump(obj, buf, reducers=reducers, protocol=protocol)\n  File \"D:\\Programs\\miniconda3\\envs\\planetary\\lib\\site-packages\\joblib\\externals\\loky\\backend\\reduction.py\", line 264, in dump\n    _LokyPickler(file, reducers=reducers, protocol=protocol).dump(obj)\n  File \"D:\\Programs\\miniconda3\\envs\\planetary\\lib\\site-packages\\joblib\\externals\\cloudpickle\\cloudpickle_fast.py\", line 602, in dump\n    return Pickler.dump(self, obj)\nTypeError: cannot pickle '_thread.lock' object\n\"\"\"",
      "\nThe above exception was the direct cause of the following exception:\n",
      "\u001b[1;31mPicklingError\u001b[0m                             Traceback (most recent call last)",
      "\u001b[1;32m~\\AppData\\Local\\Temp/ipykernel_21632/2183621038.py\u001b[0m in \u001b[0;36m<module>\u001b[1;34m\u001b[0m\n\u001b[0;32m      1\u001b[0m \u001b[0mstart\u001b[0m \u001b[1;33m=\u001b[0m \u001b[0mdatetime\u001b[0m\u001b[1;33m.\u001b[0m\u001b[0mnow\u001b[0m\u001b[1;33m(\u001b[0m\u001b[1;33m)\u001b[0m\u001b[1;33m\u001b[0m\u001b[1;33m\u001b[0m\u001b[0m\n\u001b[0;32m      2\u001b[0m \u001b[1;33m\u001b[0m\u001b[0m\n\u001b[1;32m----> 3\u001b[1;33m \u001b[0mrescaled\u001b[0m \u001b[1;33m=\u001b[0m \u001b[0mParallel\u001b[0m\u001b[1;33m(\u001b[0m\u001b[0mn_jobs\u001b[0m\u001b[1;33m=\u001b[0m\u001b[1;36m3\u001b[0m\u001b[1;33m)\u001b[0m\u001b[1;33m(\u001b[0m\u001b[0mdelayed\u001b[0m\u001b[1;33m(\u001b[0m\u001b[0mrescale\u001b[0m\u001b[1;33m)\u001b[0m\u001b[1;33m(\u001b[0m\u001b[0mdatasets\u001b[0m\u001b[1;33m,\u001b[0m \u001b[0mband\u001b[0m\u001b[1;33m)\u001b[0m \u001b[1;32mfor\u001b[0m \u001b[0mband\u001b[0m \u001b[1;32min\u001b[0m \u001b[0mbands\u001b[0m\u001b[1;33m)\u001b[0m\u001b[1;33m\u001b[0m\u001b[1;33m\u001b[0m\u001b[0m\n\u001b[0m\u001b[0;32m      4\u001b[0m \u001b[1;33m\u001b[0m\u001b[0m\n\u001b[0;32m      5\u001b[0m \u001b[0mprint\u001b[0m\u001b[1;33m(\u001b[0m\u001b[0mdatetime\u001b[0m\u001b[1;33m.\u001b[0m\u001b[0mnow\u001b[0m\u001b[1;33m(\u001b[0m\u001b[1;33m)\u001b[0m \u001b[1;33m-\u001b[0m \u001b[0mstart\u001b[0m\u001b[1;33m)\u001b[0m\u001b[1;33m\u001b[0m\u001b[1;33m\u001b[0m\u001b[0m\n",
      "\u001b[1;32mD:\\Programs\\miniconda3\\envs\\planetary\\lib\\site-packages\\joblib\\parallel.py\u001b[0m in \u001b[0;36m__call__\u001b[1;34m(self, iterable)\u001b[0m\n\u001b[0;32m   1054\u001b[0m \u001b[1;33m\u001b[0m\u001b[0m\n\u001b[0;32m   1055\u001b[0m             \u001b[1;32mwith\u001b[0m \u001b[0mself\u001b[0m\u001b[1;33m.\u001b[0m\u001b[0m_backend\u001b[0m\u001b[1;33m.\u001b[0m\u001b[0mretrieval_context\u001b[0m\u001b[1;33m(\u001b[0m\u001b[1;33m)\u001b[0m\u001b[1;33m:\u001b[0m\u001b[1;33m\u001b[0m\u001b[1;33m\u001b[0m\u001b[0m\n\u001b[1;32m-> 1056\u001b[1;33m                 \u001b[0mself\u001b[0m\u001b[1;33m.\u001b[0m\u001b[0mretrieve\u001b[0m\u001b[1;33m(\u001b[0m\u001b[1;33m)\u001b[0m\u001b[1;33m\u001b[0m\u001b[1;33m\u001b[0m\u001b[0m\n\u001b[0m\u001b[0;32m   1057\u001b[0m             \u001b[1;31m# Make sure that we get a last message telling us we are done\u001b[0m\u001b[1;33m\u001b[0m\u001b[1;33m\u001b[0m\u001b[1;33m\u001b[0m\u001b[0m\n\u001b[0;32m   1058\u001b[0m             \u001b[0melapsed_time\u001b[0m \u001b[1;33m=\u001b[0m \u001b[0mtime\u001b[0m\u001b[1;33m.\u001b[0m\u001b[0mtime\u001b[0m\u001b[1;33m(\u001b[0m\u001b[1;33m)\u001b[0m \u001b[1;33m-\u001b[0m \u001b[0mself\u001b[0m\u001b[1;33m.\u001b[0m\u001b[0m_start_time\u001b[0m\u001b[1;33m\u001b[0m\u001b[1;33m\u001b[0m\u001b[0m\n",
      "\u001b[1;32mD:\\Programs\\miniconda3\\envs\\planetary\\lib\\site-packages\\joblib\\parallel.py\u001b[0m in \u001b[0;36mretrieve\u001b[1;34m(self)\u001b[0m\n\u001b[0;32m    933\u001b[0m             \u001b[1;32mtry\u001b[0m\u001b[1;33m:\u001b[0m\u001b[1;33m\u001b[0m\u001b[1;33m\u001b[0m\u001b[0m\n\u001b[0;32m    934\u001b[0m                 \u001b[1;32mif\u001b[0m \u001b[0mgetattr\u001b[0m\u001b[1;33m(\u001b[0m\u001b[0mself\u001b[0m\u001b[1;33m.\u001b[0m\u001b[0m_backend\u001b[0m\u001b[1;33m,\u001b[0m \u001b[1;34m'supports_timeout'\u001b[0m\u001b[1;33m,\u001b[0m \u001b[1;32mFalse\u001b[0m\u001b[1;33m)\u001b[0m\u001b[1;33m:\u001b[0m\u001b[1;33m\u001b[0m\u001b[1;33m\u001b[0m\u001b[0m\n\u001b[1;32m--> 935\u001b[1;33m                     \u001b[0mself\u001b[0m\u001b[1;33m.\u001b[0m\u001b[0m_output\u001b[0m\u001b[1;33m.\u001b[0m\u001b[0mextend\u001b[0m\u001b[1;33m(\u001b[0m\u001b[0mjob\u001b[0m\u001b[1;33m.\u001b[0m\u001b[0mget\u001b[0m\u001b[1;33m(\u001b[0m\u001b[0mtimeout\u001b[0m\u001b[1;33m=\u001b[0m\u001b[0mself\u001b[0m\u001b[1;33m.\u001b[0m\u001b[0mtimeout\u001b[0m\u001b[1;33m)\u001b[0m\u001b[1;33m)\u001b[0m\u001b[1;33m\u001b[0m\u001b[1;33m\u001b[0m\u001b[0m\n\u001b[0m\u001b[0;32m    936\u001b[0m                 \u001b[1;32melse\u001b[0m\u001b[1;33m:\u001b[0m\u001b[1;33m\u001b[0m\u001b[1;33m\u001b[0m\u001b[0m\n\u001b[0;32m    937\u001b[0m                     \u001b[0mself\u001b[0m\u001b[1;33m.\u001b[0m\u001b[0m_output\u001b[0m\u001b[1;33m.\u001b[0m\u001b[0mextend\u001b[0m\u001b[1;33m(\u001b[0m\u001b[0mjob\u001b[0m\u001b[1;33m.\u001b[0m\u001b[0mget\u001b[0m\u001b[1;33m(\u001b[0m\u001b[1;33m)\u001b[0m\u001b[1;33m)\u001b[0m\u001b[1;33m\u001b[0m\u001b[1;33m\u001b[0m\u001b[0m\n",
      "\u001b[1;32mD:\\Programs\\miniconda3\\envs\\planetary\\lib\\site-packages\\joblib\\_parallel_backends.py\u001b[0m in \u001b[0;36mwrap_future_result\u001b[1;34m(future, timeout)\u001b[0m\n\u001b[0;32m    540\u001b[0m         AsyncResults.get from multiprocessing.\"\"\"\n\u001b[0;32m    541\u001b[0m         \u001b[1;32mtry\u001b[0m\u001b[1;33m:\u001b[0m\u001b[1;33m\u001b[0m\u001b[1;33m\u001b[0m\u001b[0m\n\u001b[1;32m--> 542\u001b[1;33m             \u001b[1;32mreturn\u001b[0m \u001b[0mfuture\u001b[0m\u001b[1;33m.\u001b[0m\u001b[0mresult\u001b[0m\u001b[1;33m(\u001b[0m\u001b[0mtimeout\u001b[0m\u001b[1;33m=\u001b[0m\u001b[0mtimeout\u001b[0m\u001b[1;33m)\u001b[0m\u001b[1;33m\u001b[0m\u001b[1;33m\u001b[0m\u001b[0m\n\u001b[0m\u001b[0;32m    543\u001b[0m         \u001b[1;32mexcept\u001b[0m \u001b[0mCfTimeoutError\u001b[0m \u001b[1;32mas\u001b[0m \u001b[0me\u001b[0m\u001b[1;33m:\u001b[0m\u001b[1;33m\u001b[0m\u001b[1;33m\u001b[0m\u001b[0m\n\u001b[0;32m    544\u001b[0m             \u001b[1;32mraise\u001b[0m \u001b[0mTimeoutError\u001b[0m \u001b[1;32mfrom\u001b[0m \u001b[0me\u001b[0m\u001b[1;33m\u001b[0m\u001b[1;33m\u001b[0m\u001b[0m\n",
      "\u001b[1;32mD:\\Programs\\miniconda3\\envs\\planetary\\lib\\concurrent\\futures\\_base.py\u001b[0m in \u001b[0;36mresult\u001b[1;34m(self, timeout)\u001b[0m\n\u001b[0;32m    442\u001b[0m                     \u001b[1;32mraise\u001b[0m \u001b[0mCancelledError\u001b[0m\u001b[1;33m(\u001b[0m\u001b[1;33m)\u001b[0m\u001b[1;33m\u001b[0m\u001b[1;33m\u001b[0m\u001b[0m\n\u001b[0;32m    443\u001b[0m                 \u001b[1;32melif\u001b[0m \u001b[0mself\u001b[0m\u001b[1;33m.\u001b[0m\u001b[0m_state\u001b[0m \u001b[1;33m==\u001b[0m \u001b[0mFINISHED\u001b[0m\u001b[1;33m:\u001b[0m\u001b[1;33m\u001b[0m\u001b[1;33m\u001b[0m\u001b[0m\n\u001b[1;32m--> 444\u001b[1;33m                     \u001b[1;32mreturn\u001b[0m \u001b[0mself\u001b[0m\u001b[1;33m.\u001b[0m\u001b[0m__get_result\u001b[0m\u001b[1;33m(\u001b[0m\u001b[1;33m)\u001b[0m\u001b[1;33m\u001b[0m\u001b[1;33m\u001b[0m\u001b[0m\n\u001b[0m\u001b[0;32m    445\u001b[0m                 \u001b[1;32melse\u001b[0m\u001b[1;33m:\u001b[0m\u001b[1;33m\u001b[0m\u001b[1;33m\u001b[0m\u001b[0m\n\u001b[0;32m    446\u001b[0m                     \u001b[1;32mraise\u001b[0m \u001b[0mTimeoutError\u001b[0m\u001b[1;33m(\u001b[0m\u001b[1;33m)\u001b[0m\u001b[1;33m\u001b[0m\u001b[1;33m\u001b[0m\u001b[0m\n",
      "\u001b[1;32mD:\\Programs\\miniconda3\\envs\\planetary\\lib\\concurrent\\futures\\_base.py\u001b[0m in \u001b[0;36m__get_result\u001b[1;34m(self)\u001b[0m\n\u001b[0;32m    387\u001b[0m         \u001b[1;32mif\u001b[0m \u001b[0mself\u001b[0m\u001b[1;33m.\u001b[0m\u001b[0m_exception\u001b[0m\u001b[1;33m:\u001b[0m\u001b[1;33m\u001b[0m\u001b[1;33m\u001b[0m\u001b[0m\n\u001b[0;32m    388\u001b[0m             \u001b[1;32mtry\u001b[0m\u001b[1;33m:\u001b[0m\u001b[1;33m\u001b[0m\u001b[1;33m\u001b[0m\u001b[0m\n\u001b[1;32m--> 389\u001b[1;33m                 \u001b[1;32mraise\u001b[0m \u001b[0mself\u001b[0m\u001b[1;33m.\u001b[0m\u001b[0m_exception\u001b[0m\u001b[1;33m\u001b[0m\u001b[1;33m\u001b[0m\u001b[0m\n\u001b[0m\u001b[0;32m    390\u001b[0m             \u001b[1;32mfinally\u001b[0m\u001b[1;33m:\u001b[0m\u001b[1;33m\u001b[0m\u001b[1;33m\u001b[0m\u001b[0m\n\u001b[0;32m    391\u001b[0m                 \u001b[1;31m# Break a reference cycle with the exception in self._exception\u001b[0m\u001b[1;33m\u001b[0m\u001b[1;33m\u001b[0m\u001b[1;33m\u001b[0m\u001b[0m\n",
      "\u001b[1;31mPicklingError\u001b[0m: Could not pickle the task to send it to the workers."
     ]
    }
   ],
   "source": [
    "start = datetime.now()\n",
    "\n",
    "rescaled = Parallel(n_jobs=3)(delayed(rescale)(datasets, band) for band in bands)\n",
    "\n",
    "print(datetime.now() - start)"
   ]
  },
  {
   "cell_type": "code",
   "execution_count": null,
   "id": "208ab43a-6782-46e1-8275-ed314c3e4bc7",
   "metadata": {},
   "outputs": [],
   "source": []
  },
  {
   "cell_type": "code",
   "execution_count": null,
   "id": "69469d7c-84ae-49d7-a944-cfdd479bd63b",
   "metadata": {},
   "outputs": [],
   "source": []
  },
  {
   "cell_type": "code",
   "execution_count": 72,
   "id": "5aaec5f4-9445-4974-b5d2-75fb55c35628",
   "metadata": {},
   "outputs": [
    {
     "data": {
      "text/html": [
       "<div><svg style=\"position: absolute; width: 0; height: 0; overflow: hidden\">\n",
       "<defs>\n",
       "<symbol id=\"icon-database\" viewBox=\"0 0 32 32\">\n",
       "<path d=\"M16 0c-8.837 0-16 2.239-16 5v4c0 2.761 7.163 5 16 5s16-2.239 16-5v-4c0-2.761-7.163-5-16-5z\"></path>\n",
       "<path d=\"M16 17c-8.837 0-16-2.239-16-5v6c0 2.761 7.163 5 16 5s16-2.239 16-5v-6c0 2.761-7.163 5-16 5z\"></path>\n",
       "<path d=\"M16 26c-8.837 0-16-2.239-16-5v6c0 2.761 7.163 5 16 5s16-2.239 16-5v-6c0 2.761-7.163 5-16 5z\"></path>\n",
       "</symbol>\n",
       "<symbol id=\"icon-file-text2\" viewBox=\"0 0 32 32\">\n",
       "<path d=\"M28.681 7.159c-0.694-0.947-1.662-2.053-2.724-3.116s-2.169-2.030-3.116-2.724c-1.612-1.182-2.393-1.319-2.841-1.319h-15.5c-1.378 0-2.5 1.121-2.5 2.5v27c0 1.378 1.122 2.5 2.5 2.5h23c1.378 0 2.5-1.122 2.5-2.5v-19.5c0-0.448-0.137-1.23-1.319-2.841zM24.543 5.457c0.959 0.959 1.712 1.825 2.268 2.543h-4.811v-4.811c0.718 0.556 1.584 1.309 2.543 2.268zM28 29.5c0 0.271-0.229 0.5-0.5 0.5h-23c-0.271 0-0.5-0.229-0.5-0.5v-27c0-0.271 0.229-0.5 0.5-0.5 0 0 15.499-0 15.5 0v7c0 0.552 0.448 1 1 1h7v19.5z\"></path>\n",
       "<path d=\"M23 26h-14c-0.552 0-1-0.448-1-1s0.448-1 1-1h14c0.552 0 1 0.448 1 1s-0.448 1-1 1z\"></path>\n",
       "<path d=\"M23 22h-14c-0.552 0-1-0.448-1-1s0.448-1 1-1h14c0.552 0 1 0.448 1 1s-0.448 1-1 1z\"></path>\n",
       "<path d=\"M23 18h-14c-0.552 0-1-0.448-1-1s0.448-1 1-1h14c0.552 0 1 0.448 1 1s-0.448 1-1 1z\"></path>\n",
       "</symbol>\n",
       "</defs>\n",
       "</svg>\n",
       "<style>/* CSS stylesheet for displaying xarray objects in jupyterlab.\n",
       " *\n",
       " */\n",
       "\n",
       ":root {\n",
       "  --xr-font-color0: var(--jp-content-font-color0, rgba(0, 0, 0, 1));\n",
       "  --xr-font-color2: var(--jp-content-font-color2, rgba(0, 0, 0, 0.54));\n",
       "  --xr-font-color3: var(--jp-content-font-color3, rgba(0, 0, 0, 0.38));\n",
       "  --xr-border-color: var(--jp-border-color2, #e0e0e0);\n",
       "  --xr-disabled-color: var(--jp-layout-color3, #bdbdbd);\n",
       "  --xr-background-color: var(--jp-layout-color0, white);\n",
       "  --xr-background-color-row-even: var(--jp-layout-color1, white);\n",
       "  --xr-background-color-row-odd: var(--jp-layout-color2, #eeeeee);\n",
       "}\n",
       "\n",
       "html[theme=dark],\n",
       "body.vscode-dark {\n",
       "  --xr-font-color0: rgba(255, 255, 255, 1);\n",
       "  --xr-font-color2: rgba(255, 255, 255, 0.54);\n",
       "  --xr-font-color3: rgba(255, 255, 255, 0.38);\n",
       "  --xr-border-color: #1F1F1F;\n",
       "  --xr-disabled-color: #515151;\n",
       "  --xr-background-color: #111111;\n",
       "  --xr-background-color-row-even: #111111;\n",
       "  --xr-background-color-row-odd: #313131;\n",
       "}\n",
       "\n",
       ".xr-wrap {\n",
       "  display: block !important;\n",
       "  min-width: 300px;\n",
       "  max-width: 700px;\n",
       "}\n",
       "\n",
       ".xr-text-repr-fallback {\n",
       "  /* fallback to plain text repr when CSS is not injected (untrusted notebook) */\n",
       "  display: none;\n",
       "}\n",
       "\n",
       ".xr-header {\n",
       "  padding-top: 6px;\n",
       "  padding-bottom: 6px;\n",
       "  margin-bottom: 4px;\n",
       "  border-bottom: solid 1px var(--xr-border-color);\n",
       "}\n",
       "\n",
       ".xr-header > div,\n",
       ".xr-header > ul {\n",
       "  display: inline;\n",
       "  margin-top: 0;\n",
       "  margin-bottom: 0;\n",
       "}\n",
       "\n",
       ".xr-obj-type,\n",
       ".xr-array-name {\n",
       "  margin-left: 2px;\n",
       "  margin-right: 10px;\n",
       "}\n",
       "\n",
       ".xr-obj-type {\n",
       "  color: var(--xr-font-color2);\n",
       "}\n",
       "\n",
       ".xr-sections {\n",
       "  padding-left: 0 !important;\n",
       "  display: grid;\n",
       "  grid-template-columns: 150px auto auto 1fr 20px 20px;\n",
       "}\n",
       "\n",
       ".xr-section-item {\n",
       "  display: contents;\n",
       "}\n",
       "\n",
       ".xr-section-item input {\n",
       "  display: none;\n",
       "}\n",
       "\n",
       ".xr-section-item input + label {\n",
       "  color: var(--xr-disabled-color);\n",
       "}\n",
       "\n",
       ".xr-section-item input:enabled + label {\n",
       "  cursor: pointer;\n",
       "  color: var(--xr-font-color2);\n",
       "}\n",
       "\n",
       ".xr-section-item input:enabled + label:hover {\n",
       "  color: var(--xr-font-color0);\n",
       "}\n",
       "\n",
       ".xr-section-summary {\n",
       "  grid-column: 1;\n",
       "  color: var(--xr-font-color2);\n",
       "  font-weight: 500;\n",
       "}\n",
       "\n",
       ".xr-section-summary > span {\n",
       "  display: inline-block;\n",
       "  padding-left: 0.5em;\n",
       "}\n",
       "\n",
       ".xr-section-summary-in:disabled + label {\n",
       "  color: var(--xr-font-color2);\n",
       "}\n",
       "\n",
       ".xr-section-summary-in + label:before {\n",
       "  display: inline-block;\n",
       "  content: '►';\n",
       "  font-size: 11px;\n",
       "  width: 15px;\n",
       "  text-align: center;\n",
       "}\n",
       "\n",
       ".xr-section-summary-in:disabled + label:before {\n",
       "  color: var(--xr-disabled-color);\n",
       "}\n",
       "\n",
       ".xr-section-summary-in:checked + label:before {\n",
       "  content: '▼';\n",
       "}\n",
       "\n",
       ".xr-section-summary-in:checked + label > span {\n",
       "  display: none;\n",
       "}\n",
       "\n",
       ".xr-section-summary,\n",
       ".xr-section-inline-details {\n",
       "  padding-top: 4px;\n",
       "  padding-bottom: 4px;\n",
       "}\n",
       "\n",
       ".xr-section-inline-details {\n",
       "  grid-column: 2 / -1;\n",
       "}\n",
       "\n",
       ".xr-section-details {\n",
       "  display: none;\n",
       "  grid-column: 1 / -1;\n",
       "  margin-bottom: 5px;\n",
       "}\n",
       "\n",
       ".xr-section-summary-in:checked ~ .xr-section-details {\n",
       "  display: contents;\n",
       "}\n",
       "\n",
       ".xr-array-wrap {\n",
       "  grid-column: 1 / -1;\n",
       "  display: grid;\n",
       "  grid-template-columns: 20px auto;\n",
       "}\n",
       "\n",
       ".xr-array-wrap > label {\n",
       "  grid-column: 1;\n",
       "  vertical-align: top;\n",
       "}\n",
       "\n",
       ".xr-preview {\n",
       "  color: var(--xr-font-color3);\n",
       "}\n",
       "\n",
       ".xr-array-preview,\n",
       ".xr-array-data {\n",
       "  padding: 0 5px !important;\n",
       "  grid-column: 2;\n",
       "}\n",
       "\n",
       ".xr-array-data,\n",
       ".xr-array-in:checked ~ .xr-array-preview {\n",
       "  display: none;\n",
       "}\n",
       "\n",
       ".xr-array-in:checked ~ .xr-array-data,\n",
       ".xr-array-preview {\n",
       "  display: inline-block;\n",
       "}\n",
       "\n",
       ".xr-dim-list {\n",
       "  display: inline-block !important;\n",
       "  list-style: none;\n",
       "  padding: 0 !important;\n",
       "  margin: 0;\n",
       "}\n",
       "\n",
       ".xr-dim-list li {\n",
       "  display: inline-block;\n",
       "  padding: 0;\n",
       "  margin: 0;\n",
       "}\n",
       "\n",
       ".xr-dim-list:before {\n",
       "  content: '(';\n",
       "}\n",
       "\n",
       ".xr-dim-list:after {\n",
       "  content: ')';\n",
       "}\n",
       "\n",
       ".xr-dim-list li:not(:last-child):after {\n",
       "  content: ',';\n",
       "  padding-right: 5px;\n",
       "}\n",
       "\n",
       ".xr-has-index {\n",
       "  font-weight: bold;\n",
       "}\n",
       "\n",
       ".xr-var-list,\n",
       ".xr-var-item {\n",
       "  display: contents;\n",
       "}\n",
       "\n",
       ".xr-var-item > div,\n",
       ".xr-var-item label,\n",
       ".xr-var-item > .xr-var-name span {\n",
       "  background-color: var(--xr-background-color-row-even);\n",
       "  margin-bottom: 0;\n",
       "}\n",
       "\n",
       ".xr-var-item > .xr-var-name:hover span {\n",
       "  padding-right: 5px;\n",
       "}\n",
       "\n",
       ".xr-var-list > li:nth-child(odd) > div,\n",
       ".xr-var-list > li:nth-child(odd) > label,\n",
       ".xr-var-list > li:nth-child(odd) > .xr-var-name span {\n",
       "  background-color: var(--xr-background-color-row-odd);\n",
       "}\n",
       "\n",
       ".xr-var-name {\n",
       "  grid-column: 1;\n",
       "}\n",
       "\n",
       ".xr-var-dims {\n",
       "  grid-column: 2;\n",
       "}\n",
       "\n",
       ".xr-var-dtype {\n",
       "  grid-column: 3;\n",
       "  text-align: right;\n",
       "  color: var(--xr-font-color2);\n",
       "}\n",
       "\n",
       ".xr-var-preview {\n",
       "  grid-column: 4;\n",
       "}\n",
       "\n",
       ".xr-var-name,\n",
       ".xr-var-dims,\n",
       ".xr-var-dtype,\n",
       ".xr-preview,\n",
       ".xr-attrs dt {\n",
       "  white-space: nowrap;\n",
       "  overflow: hidden;\n",
       "  text-overflow: ellipsis;\n",
       "  padding-right: 10px;\n",
       "}\n",
       "\n",
       ".xr-var-name:hover,\n",
       ".xr-var-dims:hover,\n",
       ".xr-var-dtype:hover,\n",
       ".xr-attrs dt:hover {\n",
       "  overflow: visible;\n",
       "  width: auto;\n",
       "  z-index: 1;\n",
       "}\n",
       "\n",
       ".xr-var-attrs,\n",
       ".xr-var-data {\n",
       "  display: none;\n",
       "  background-color: var(--xr-background-color) !important;\n",
       "  padding-bottom: 5px !important;\n",
       "}\n",
       "\n",
       ".xr-var-attrs-in:checked ~ .xr-var-attrs,\n",
       ".xr-var-data-in:checked ~ .xr-var-data {\n",
       "  display: block;\n",
       "}\n",
       "\n",
       ".xr-var-data > table {\n",
       "  float: right;\n",
       "}\n",
       "\n",
       ".xr-var-name span,\n",
       ".xr-var-data,\n",
       ".xr-attrs {\n",
       "  padding-left: 25px !important;\n",
       "}\n",
       "\n",
       ".xr-attrs,\n",
       ".xr-var-attrs,\n",
       ".xr-var-data {\n",
       "  grid-column: 1 / -1;\n",
       "}\n",
       "\n",
       "dl.xr-attrs {\n",
       "  padding: 0;\n",
       "  margin: 0;\n",
       "  display: grid;\n",
       "  grid-template-columns: 125px auto;\n",
       "}\n",
       "\n",
       ".xr-attrs dt,\n",
       ".xr-attrs dd {\n",
       "  padding: 0;\n",
       "  margin: 0;\n",
       "  float: left;\n",
       "  padding-right: 10px;\n",
       "  width: auto;\n",
       "}\n",
       "\n",
       ".xr-attrs dt {\n",
       "  font-weight: normal;\n",
       "  grid-column: 1;\n",
       "}\n",
       "\n",
       ".xr-attrs dt:hover span {\n",
       "  display: inline-block;\n",
       "  background: var(--xr-background-color);\n",
       "  padding-right: 10px;\n",
       "}\n",
       "\n",
       ".xr-attrs dd {\n",
       "  grid-column: 2;\n",
       "  white-space: pre-wrap;\n",
       "  word-break: break-all;\n",
       "}\n",
       "\n",
       ".xr-icon-database,\n",
       ".xr-icon-file-text2 {\n",
       "  display: inline-block;\n",
       "  vertical-align: middle;\n",
       "  width: 1em;\n",
       "  height: 1.5em !important;\n",
       "  stroke-width: 0;\n",
       "  stroke: currentColor;\n",
       "  fill: currentColor;\n",
       "}\n",
       "</style><pre class='xr-text-repr-fallback'>&lt;xarray.DataArray ()&gt;\n",
       "array(0.2396, dtype=float32)\n",
       "Coordinates:\n",
       "    band         int32 1\n",
       "    x            float64 6e+05\n",
       "    y            float64 7.5e+06\n",
       "    spatial_ref  int32 0</pre><div class='xr-wrap' style='display:none'><div class='xr-header'><div class='xr-obj-type'>xarray.DataArray</div><div class='xr-array-name'></div></div><ul class='xr-sections'><li class='xr-section-item'><div class='xr-array-wrap'><input id='section-45b040e9-e314-41c5-923a-19fc6cb61f19' class='xr-array-in' type='checkbox' checked><label for='section-45b040e9-e314-41c5-923a-19fc6cb61f19' title='Show/hide data repr'><svg class='icon xr-icon-database'><use xlink:href='#icon-database'></use></svg></label><div class='xr-array-preview xr-preview'><span>0.2396</span></div><div class='xr-array-data'><pre>array(0.2396, dtype=float32)</pre></div></div></li><li class='xr-section-item'><input id='section-377e8a35-afaf-4511-94e9-99aca4f4b7f8' class='xr-section-summary-in' type='checkbox'  checked><label for='section-377e8a35-afaf-4511-94e9-99aca4f4b7f8' class='xr-section-summary' >Coordinates: <span>(4)</span></label><div class='xr-section-inline-details'></div><div class='xr-section-details'><ul class='xr-var-list'><li class='xr-var-item'><div class='xr-var-name'><span>band</span></div><div class='xr-var-dims'>()</div><div class='xr-var-dtype'>int32</div><div class='xr-var-preview xr-preview'>1</div><input id='attrs-be6968c7-bdeb-4c0a-a24d-ddb0bbf1f826' class='xr-var-attrs-in' type='checkbox' disabled><label for='attrs-be6968c7-bdeb-4c0a-a24d-ddb0bbf1f826' title='Show/Hide attributes'><svg class='icon xr-icon-file-text2'><use xlink:href='#icon-file-text2'></use></svg></label><input id='data-89b18960-abaf-4c40-a67d-e95858189dd6' class='xr-var-data-in' type='checkbox'><label for='data-89b18960-abaf-4c40-a67d-e95858189dd6' title='Show/Hide data repr'><svg class='icon xr-icon-database'><use xlink:href='#icon-database'></use></svg></label><div class='xr-var-attrs'><dl class='xr-attrs'></dl></div><div class='xr-var-data'><pre>array(1)</pre></div></li><li class='xr-var-item'><div class='xr-var-name'><span>x</span></div><div class='xr-var-dims'>()</div><div class='xr-var-dtype'>float64</div><div class='xr-var-preview xr-preview'>6e+05</div><input id='attrs-4671f031-4542-44be-9153-d196f05b12ae' class='xr-var-attrs-in' type='checkbox' disabled><label for='attrs-4671f031-4542-44be-9153-d196f05b12ae' title='Show/Hide attributes'><svg class='icon xr-icon-file-text2'><use xlink:href='#icon-file-text2'></use></svg></label><input id='data-7bc8e3a8-e4d3-4c2c-b9ce-0c3c1c3f4872' class='xr-var-data-in' type='checkbox'><label for='data-7bc8e3a8-e4d3-4c2c-b9ce-0c3c1c3f4872' title='Show/Hide data repr'><svg class='icon xr-icon-database'><use xlink:href='#icon-database'></use></svg></label><div class='xr-var-attrs'><dl class='xr-attrs'></dl></div><div class='xr-var-data'><pre>array(600010.)</pre></div></li><li class='xr-var-item'><div class='xr-var-name'><span>y</span></div><div class='xr-var-dims'>()</div><div class='xr-var-dtype'>float64</div><div class='xr-var-preview xr-preview'>7.5e+06</div><input id='attrs-fb038d51-5072-4fdb-8fd6-752fd5a16143' class='xr-var-attrs-in' type='checkbox' disabled><label for='attrs-fb038d51-5072-4fdb-8fd6-752fd5a16143' title='Show/Hide attributes'><svg class='icon xr-icon-file-text2'><use xlink:href='#icon-file-text2'></use></svg></label><input id='data-2040fe9b-8051-4789-850b-b95911b6cb1f' class='xr-var-data-in' type='checkbox'><label for='data-2040fe9b-8051-4789-850b-b95911b6cb1f' title='Show/Hide data repr'><svg class='icon xr-icon-database'><use xlink:href='#icon-database'></use></svg></label><div class='xr-var-attrs'><dl class='xr-attrs'></dl></div><div class='xr-var-data'><pre>array(7500030.)</pre></div></li><li class='xr-var-item'><div class='xr-var-name'><span>spatial_ref</span></div><div class='xr-var-dims'>()</div><div class='xr-var-dtype'>int32</div><div class='xr-var-preview xr-preview'>0</div><input id='attrs-261a6b3c-50f0-4e36-9871-de3495b2afb6' class='xr-var-attrs-in' type='checkbox' ><label for='attrs-261a6b3c-50f0-4e36-9871-de3495b2afb6' title='Show/Hide attributes'><svg class='icon xr-icon-file-text2'><use xlink:href='#icon-file-text2'></use></svg></label><input id='data-dcc98399-323f-4300-bbc5-7e9e08731e52' class='xr-var-data-in' type='checkbox'><label for='data-dcc98399-323f-4300-bbc5-7e9e08731e52' title='Show/Hide data repr'><svg class='icon xr-icon-database'><use xlink:href='#icon-database'></use></svg></label><div class='xr-var-attrs'><dl class='xr-attrs'><dt><span>crs_wkt :</span></dt><dd>PROJCS[&quot;WGS 84 / UTM zone 22S&quot;,GEOGCS[&quot;WGS 84&quot;,DATUM[&quot;WGS_1984&quot;,SPHEROID[&quot;WGS 84&quot;,6378137,298.257223563,AUTHORITY[&quot;EPSG&quot;,&quot;7030&quot;]],AUTHORITY[&quot;EPSG&quot;,&quot;6326&quot;]],PRIMEM[&quot;Greenwich&quot;,0,AUTHORITY[&quot;EPSG&quot;,&quot;8901&quot;]],UNIT[&quot;degree&quot;,0.0174532925199433,AUTHORITY[&quot;EPSG&quot;,&quot;9122&quot;]],AUTHORITY[&quot;EPSG&quot;,&quot;4326&quot;]],PROJECTION[&quot;Transverse_Mercator&quot;],PARAMETER[&quot;latitude_of_origin&quot;,0],PARAMETER[&quot;central_meridian&quot;,-51],PARAMETER[&quot;scale_factor&quot;,0.9996],PARAMETER[&quot;false_easting&quot;,500000],PARAMETER[&quot;false_northing&quot;,10000000],UNIT[&quot;metre&quot;,1,AUTHORITY[&quot;EPSG&quot;,&quot;9001&quot;]],AXIS[&quot;Easting&quot;,EAST],AXIS[&quot;Northing&quot;,NORTH],AUTHORITY[&quot;EPSG&quot;,&quot;32722&quot;]]</dd><dt><span>semi_major_axis :</span></dt><dd>6378137.0</dd><dt><span>semi_minor_axis :</span></dt><dd>6356752.314245179</dd><dt><span>inverse_flattening :</span></dt><dd>298.257223563</dd><dt><span>reference_ellipsoid_name :</span></dt><dd>WGS 84</dd><dt><span>longitude_of_prime_meridian :</span></dt><dd>0.0</dd><dt><span>prime_meridian_name :</span></dt><dd>Greenwich</dd><dt><span>geographic_crs_name :</span></dt><dd>WGS 84</dd><dt><span>horizontal_datum_name :</span></dt><dd>World Geodetic System 1984</dd><dt><span>projected_crs_name :</span></dt><dd>WGS 84 / UTM zone 22S</dd><dt><span>grid_mapping_name :</span></dt><dd>transverse_mercator</dd><dt><span>latitude_of_projection_origin :</span></dt><dd>0.0</dd><dt><span>longitude_of_central_meridian :</span></dt><dd>-51.0</dd><dt><span>false_easting :</span></dt><dd>500000.0</dd><dt><span>false_northing :</span></dt><dd>10000000.0</dd><dt><span>scale_factor_at_central_meridian :</span></dt><dd>0.9996</dd><dt><span>spatial_ref :</span></dt><dd>PROJCS[&quot;WGS 84 / UTM zone 22S&quot;,GEOGCS[&quot;WGS 84&quot;,DATUM[&quot;WGS_1984&quot;,SPHEROID[&quot;WGS 84&quot;,6378137,298.257223563,AUTHORITY[&quot;EPSG&quot;,&quot;7030&quot;]],AUTHORITY[&quot;EPSG&quot;,&quot;6326&quot;]],PRIMEM[&quot;Greenwich&quot;,0,AUTHORITY[&quot;EPSG&quot;,&quot;8901&quot;]],UNIT[&quot;degree&quot;,0.0174532925199433,AUTHORITY[&quot;EPSG&quot;,&quot;9122&quot;]],AUTHORITY[&quot;EPSG&quot;,&quot;4326&quot;]],PROJECTION[&quot;Transverse_Mercator&quot;],PARAMETER[&quot;latitude_of_origin&quot;,0],PARAMETER[&quot;central_meridian&quot;,-51],PARAMETER[&quot;scale_factor&quot;,0.9996],PARAMETER[&quot;false_easting&quot;,500000],PARAMETER[&quot;false_northing&quot;,10000000],UNIT[&quot;metre&quot;,1,AUTHORITY[&quot;EPSG&quot;,&quot;9001&quot;]],AXIS[&quot;Easting&quot;,EAST],AXIS[&quot;Northing&quot;,NORTH],AUTHORITY[&quot;EPSG&quot;,&quot;32722&quot;]]</dd><dt><span>GeoTransform :</span></dt><dd>600000.0 20.0 0.0 7500040.0 0.0 -20.0</dd></dl></div><div class='xr-var-data'><pre>array(0)</pre></div></li></ul></div></li><li class='xr-section-item'><input id='section-7953acc3-8e1c-444f-81dc-fa2b06b14fcf' class='xr-section-summary-in' type='checkbox' disabled ><label for='section-7953acc3-8e1c-444f-81dc-fa2b06b14fcf' class='xr-section-summary'  title='Expand/collapse section'>Attributes: <span>(0)</span></label><div class='xr-section-inline-details'></div><div class='xr-section-details'><dl class='xr-attrs'></dl></div></li></ul></div></div>"
      ],
      "text/plain": [
       "<xarray.DataArray ()>\n",
       "array(0.2396, dtype=float32)\n",
       "Coordinates:\n",
       "    band         int32 1\n",
       "    x            float64 6e+05\n",
       "    y            float64 7.5e+06\n",
       "    spatial_ref  int32 0"
      ]
     },
     "execution_count": 72,
     "metadata": {},
     "output_type": "execute_result"
    }
   ],
   "source": [
    "datasets['B12'][0,0]"
   ]
  },
  {
   "cell_type": "code",
   "execution_count": 59,
   "id": "7734ea13-0f11-45c8-aeb8-bed24931fd84",
   "metadata": {},
   "outputs": [
    {
     "name": "stdout",
     "output_type": "stream",
     "text": [
      "Wall time: 7.05 s\n"
     ]
    },
    {
     "data": {
      "text/html": [
       "<div><svg style=\"position: absolute; width: 0; height: 0; overflow: hidden\">\n",
       "<defs>\n",
       "<symbol id=\"icon-database\" viewBox=\"0 0 32 32\">\n",
       "<path d=\"M16 0c-8.837 0-16 2.239-16 5v4c0 2.761 7.163 5 16 5s16-2.239 16-5v-4c0-2.761-7.163-5-16-5z\"></path>\n",
       "<path d=\"M16 17c-8.837 0-16-2.239-16-5v6c0 2.761 7.163 5 16 5s16-2.239 16-5v-6c0 2.761-7.163 5-16 5z\"></path>\n",
       "<path d=\"M16 26c-8.837 0-16-2.239-16-5v6c0 2.761 7.163 5 16 5s16-2.239 16-5v-6c0 2.761-7.163 5-16 5z\"></path>\n",
       "</symbol>\n",
       "<symbol id=\"icon-file-text2\" viewBox=\"0 0 32 32\">\n",
       "<path d=\"M28.681 7.159c-0.694-0.947-1.662-2.053-2.724-3.116s-2.169-2.030-3.116-2.724c-1.612-1.182-2.393-1.319-2.841-1.319h-15.5c-1.378 0-2.5 1.121-2.5 2.5v27c0 1.378 1.122 2.5 2.5 2.5h23c1.378 0 2.5-1.122 2.5-2.5v-19.5c0-0.448-0.137-1.23-1.319-2.841zM24.543 5.457c0.959 0.959 1.712 1.825 2.268 2.543h-4.811v-4.811c0.718 0.556 1.584 1.309 2.543 2.268zM28 29.5c0 0.271-0.229 0.5-0.5 0.5h-23c-0.271 0-0.5-0.229-0.5-0.5v-27c0-0.271 0.229-0.5 0.5-0.5 0 0 15.499-0 15.5 0v7c0 0.552 0.448 1 1 1h7v19.5z\"></path>\n",
       "<path d=\"M23 26h-14c-0.552 0-1-0.448-1-1s0.448-1 1-1h14c0.552 0 1 0.448 1 1s-0.448 1-1 1z\"></path>\n",
       "<path d=\"M23 22h-14c-0.552 0-1-0.448-1-1s0.448-1 1-1h14c0.552 0 1 0.448 1 1s-0.448 1-1 1z\"></path>\n",
       "<path d=\"M23 18h-14c-0.552 0-1-0.448-1-1s0.448-1 1-1h14c0.552 0 1 0.448 1 1s-0.448 1-1 1z\"></path>\n",
       "</symbol>\n",
       "</defs>\n",
       "</svg>\n",
       "<style>/* CSS stylesheet for displaying xarray objects in jupyterlab.\n",
       " *\n",
       " */\n",
       "\n",
       ":root {\n",
       "  --xr-font-color0: var(--jp-content-font-color0, rgba(0, 0, 0, 1));\n",
       "  --xr-font-color2: var(--jp-content-font-color2, rgba(0, 0, 0, 0.54));\n",
       "  --xr-font-color3: var(--jp-content-font-color3, rgba(0, 0, 0, 0.38));\n",
       "  --xr-border-color: var(--jp-border-color2, #e0e0e0);\n",
       "  --xr-disabled-color: var(--jp-layout-color3, #bdbdbd);\n",
       "  --xr-background-color: var(--jp-layout-color0, white);\n",
       "  --xr-background-color-row-even: var(--jp-layout-color1, white);\n",
       "  --xr-background-color-row-odd: var(--jp-layout-color2, #eeeeee);\n",
       "}\n",
       "\n",
       "html[theme=dark],\n",
       "body.vscode-dark {\n",
       "  --xr-font-color0: rgba(255, 255, 255, 1);\n",
       "  --xr-font-color2: rgba(255, 255, 255, 0.54);\n",
       "  --xr-font-color3: rgba(255, 255, 255, 0.38);\n",
       "  --xr-border-color: #1F1F1F;\n",
       "  --xr-disabled-color: #515151;\n",
       "  --xr-background-color: #111111;\n",
       "  --xr-background-color-row-even: #111111;\n",
       "  --xr-background-color-row-odd: #313131;\n",
       "}\n",
       "\n",
       ".xr-wrap {\n",
       "  display: block !important;\n",
       "  min-width: 300px;\n",
       "  max-width: 700px;\n",
       "}\n",
       "\n",
       ".xr-text-repr-fallback {\n",
       "  /* fallback to plain text repr when CSS is not injected (untrusted notebook) */\n",
       "  display: none;\n",
       "}\n",
       "\n",
       ".xr-header {\n",
       "  padding-top: 6px;\n",
       "  padding-bottom: 6px;\n",
       "  margin-bottom: 4px;\n",
       "  border-bottom: solid 1px var(--xr-border-color);\n",
       "}\n",
       "\n",
       ".xr-header > div,\n",
       ".xr-header > ul {\n",
       "  display: inline;\n",
       "  margin-top: 0;\n",
       "  margin-bottom: 0;\n",
       "}\n",
       "\n",
       ".xr-obj-type,\n",
       ".xr-array-name {\n",
       "  margin-left: 2px;\n",
       "  margin-right: 10px;\n",
       "}\n",
       "\n",
       ".xr-obj-type {\n",
       "  color: var(--xr-font-color2);\n",
       "}\n",
       "\n",
       ".xr-sections {\n",
       "  padding-left: 0 !important;\n",
       "  display: grid;\n",
       "  grid-template-columns: 150px auto auto 1fr 20px 20px;\n",
       "}\n",
       "\n",
       ".xr-section-item {\n",
       "  display: contents;\n",
       "}\n",
       "\n",
       ".xr-section-item input {\n",
       "  display: none;\n",
       "}\n",
       "\n",
       ".xr-section-item input + label {\n",
       "  color: var(--xr-disabled-color);\n",
       "}\n",
       "\n",
       ".xr-section-item input:enabled + label {\n",
       "  cursor: pointer;\n",
       "  color: var(--xr-font-color2);\n",
       "}\n",
       "\n",
       ".xr-section-item input:enabled + label:hover {\n",
       "  color: var(--xr-font-color0);\n",
       "}\n",
       "\n",
       ".xr-section-summary {\n",
       "  grid-column: 1;\n",
       "  color: var(--xr-font-color2);\n",
       "  font-weight: 500;\n",
       "}\n",
       "\n",
       ".xr-section-summary > span {\n",
       "  display: inline-block;\n",
       "  padding-left: 0.5em;\n",
       "}\n",
       "\n",
       ".xr-section-summary-in:disabled + label {\n",
       "  color: var(--xr-font-color2);\n",
       "}\n",
       "\n",
       ".xr-section-summary-in + label:before {\n",
       "  display: inline-block;\n",
       "  content: '►';\n",
       "  font-size: 11px;\n",
       "  width: 15px;\n",
       "  text-align: center;\n",
       "}\n",
       "\n",
       ".xr-section-summary-in:disabled + label:before {\n",
       "  color: var(--xr-disabled-color);\n",
       "}\n",
       "\n",
       ".xr-section-summary-in:checked + label:before {\n",
       "  content: '▼';\n",
       "}\n",
       "\n",
       ".xr-section-summary-in:checked + label > span {\n",
       "  display: none;\n",
       "}\n",
       "\n",
       ".xr-section-summary,\n",
       ".xr-section-inline-details {\n",
       "  padding-top: 4px;\n",
       "  padding-bottom: 4px;\n",
       "}\n",
       "\n",
       ".xr-section-inline-details {\n",
       "  grid-column: 2 / -1;\n",
       "}\n",
       "\n",
       ".xr-section-details {\n",
       "  display: none;\n",
       "  grid-column: 1 / -1;\n",
       "  margin-bottom: 5px;\n",
       "}\n",
       "\n",
       ".xr-section-summary-in:checked ~ .xr-section-details {\n",
       "  display: contents;\n",
       "}\n",
       "\n",
       ".xr-array-wrap {\n",
       "  grid-column: 1 / -1;\n",
       "  display: grid;\n",
       "  grid-template-columns: 20px auto;\n",
       "}\n",
       "\n",
       ".xr-array-wrap > label {\n",
       "  grid-column: 1;\n",
       "  vertical-align: top;\n",
       "}\n",
       "\n",
       ".xr-preview {\n",
       "  color: var(--xr-font-color3);\n",
       "}\n",
       "\n",
       ".xr-array-preview,\n",
       ".xr-array-data {\n",
       "  padding: 0 5px !important;\n",
       "  grid-column: 2;\n",
       "}\n",
       "\n",
       ".xr-array-data,\n",
       ".xr-array-in:checked ~ .xr-array-preview {\n",
       "  display: none;\n",
       "}\n",
       "\n",
       ".xr-array-in:checked ~ .xr-array-data,\n",
       ".xr-array-preview {\n",
       "  display: inline-block;\n",
       "}\n",
       "\n",
       ".xr-dim-list {\n",
       "  display: inline-block !important;\n",
       "  list-style: none;\n",
       "  padding: 0 !important;\n",
       "  margin: 0;\n",
       "}\n",
       "\n",
       ".xr-dim-list li {\n",
       "  display: inline-block;\n",
       "  padding: 0;\n",
       "  margin: 0;\n",
       "}\n",
       "\n",
       ".xr-dim-list:before {\n",
       "  content: '(';\n",
       "}\n",
       "\n",
       ".xr-dim-list:after {\n",
       "  content: ')';\n",
       "}\n",
       "\n",
       ".xr-dim-list li:not(:last-child):after {\n",
       "  content: ',';\n",
       "  padding-right: 5px;\n",
       "}\n",
       "\n",
       ".xr-has-index {\n",
       "  font-weight: bold;\n",
       "}\n",
       "\n",
       ".xr-var-list,\n",
       ".xr-var-item {\n",
       "  display: contents;\n",
       "}\n",
       "\n",
       ".xr-var-item > div,\n",
       ".xr-var-item label,\n",
       ".xr-var-item > .xr-var-name span {\n",
       "  background-color: var(--xr-background-color-row-even);\n",
       "  margin-bottom: 0;\n",
       "}\n",
       "\n",
       ".xr-var-item > .xr-var-name:hover span {\n",
       "  padding-right: 5px;\n",
       "}\n",
       "\n",
       ".xr-var-list > li:nth-child(odd) > div,\n",
       ".xr-var-list > li:nth-child(odd) > label,\n",
       ".xr-var-list > li:nth-child(odd) > .xr-var-name span {\n",
       "  background-color: var(--xr-background-color-row-odd);\n",
       "}\n",
       "\n",
       ".xr-var-name {\n",
       "  grid-column: 1;\n",
       "}\n",
       "\n",
       ".xr-var-dims {\n",
       "  grid-column: 2;\n",
       "}\n",
       "\n",
       ".xr-var-dtype {\n",
       "  grid-column: 3;\n",
       "  text-align: right;\n",
       "  color: var(--xr-font-color2);\n",
       "}\n",
       "\n",
       ".xr-var-preview {\n",
       "  grid-column: 4;\n",
       "}\n",
       "\n",
       ".xr-var-name,\n",
       ".xr-var-dims,\n",
       ".xr-var-dtype,\n",
       ".xr-preview,\n",
       ".xr-attrs dt {\n",
       "  white-space: nowrap;\n",
       "  overflow: hidden;\n",
       "  text-overflow: ellipsis;\n",
       "  padding-right: 10px;\n",
       "}\n",
       "\n",
       ".xr-var-name:hover,\n",
       ".xr-var-dims:hover,\n",
       ".xr-var-dtype:hover,\n",
       ".xr-attrs dt:hover {\n",
       "  overflow: visible;\n",
       "  width: auto;\n",
       "  z-index: 1;\n",
       "}\n",
       "\n",
       ".xr-var-attrs,\n",
       ".xr-var-data {\n",
       "  display: none;\n",
       "  background-color: var(--xr-background-color) !important;\n",
       "  padding-bottom: 5px !important;\n",
       "}\n",
       "\n",
       ".xr-var-attrs-in:checked ~ .xr-var-attrs,\n",
       ".xr-var-data-in:checked ~ .xr-var-data {\n",
       "  display: block;\n",
       "}\n",
       "\n",
       ".xr-var-data > table {\n",
       "  float: right;\n",
       "}\n",
       "\n",
       ".xr-var-name span,\n",
       ".xr-var-data,\n",
       ".xr-attrs {\n",
       "  padding-left: 25px !important;\n",
       "}\n",
       "\n",
       ".xr-attrs,\n",
       ".xr-var-attrs,\n",
       ".xr-var-data {\n",
       "  grid-column: 1 / -1;\n",
       "}\n",
       "\n",
       "dl.xr-attrs {\n",
       "  padding: 0;\n",
       "  margin: 0;\n",
       "  display: grid;\n",
       "  grid-template-columns: 125px auto;\n",
       "}\n",
       "\n",
       ".xr-attrs dt,\n",
       ".xr-attrs dd {\n",
       "  padding: 0;\n",
       "  margin: 0;\n",
       "  float: left;\n",
       "  padding-right: 10px;\n",
       "  width: auto;\n",
       "}\n",
       "\n",
       ".xr-attrs dt {\n",
       "  font-weight: normal;\n",
       "  grid-column: 1;\n",
       "}\n",
       "\n",
       ".xr-attrs dt:hover span {\n",
       "  display: inline-block;\n",
       "  background: var(--xr-background-color);\n",
       "  padding-right: 10px;\n",
       "}\n",
       "\n",
       ".xr-attrs dd {\n",
       "  grid-column: 2;\n",
       "  white-space: pre-wrap;\n",
       "  word-break: break-all;\n",
       "}\n",
       "\n",
       ".xr-icon-database,\n",
       ".xr-icon-file-text2 {\n",
       "  display: inline-block;\n",
       "  vertical-align: middle;\n",
       "  width: 1em;\n",
       "  height: 1.5em !important;\n",
       "  stroke-width: 0;\n",
       "  stroke: currentColor;\n",
       "  fill: currentColor;\n",
       "}\n",
       "</style><pre class='xr-text-repr-fallback'>&lt;xarray.DataArray (y: 10980, x: 10980)&gt;\n",
       "array([[2.5600002e-33, 2.5600002e-33, 2.6450000e-33, ..., 0.0000000e+00,\n",
       "        0.0000000e+00, 0.0000000e+00],\n",
       "       [2.5600002e-33, 2.5600002e-33, 2.6450000e-33, ..., 0.0000000e+00,\n",
       "        0.0000000e+00, 0.0000000e+00],\n",
       "       [2.5879996e-33, 2.5879996e-33, 2.5780002e-33, ..., 0.0000000e+00,\n",
       "        0.0000000e+00, 0.0000000e+00],\n",
       "       ...,\n",
       "       [3.3349998e-33, 3.3349998e-33, 3.1000001e-33, ..., 0.0000000e+00,\n",
       "        0.0000000e+00, 0.0000000e+00],\n",
       "       [3.2030002e-33, 3.2030002e-33, 3.0949999e-33, ..., 0.0000000e+00,\n",
       "        0.0000000e+00, 0.0000000e+00],\n",
       "       [3.2030002e-33, 3.2030002e-33, 3.0949999e-33, ..., 0.0000000e+00,\n",
       "        0.0000000e+00, 0.0000000e+00]], dtype=float32)\n",
       "Coordinates:\n",
       "  * x            (x) float64 6e+05 6e+05 6e+05 ... 7.098e+05 7.098e+05 7.098e+05\n",
       "  * y            (y) float64 7.5e+06 7.5e+06 7.5e+06 ... 7.39e+06 7.39e+06\n",
       "    band         int32 1\n",
       "    spatial_ref  int32 0\n",
       "Attributes:\n",
       "    _FillValue:  3.402823466e+38</pre><div class='xr-wrap' style='display:none'><div class='xr-header'><div class='xr-obj-type'>xarray.DataArray</div><div class='xr-array-name'></div><ul class='xr-dim-list'><li><span class='xr-has-index'>y</span>: 10980</li><li><span class='xr-has-index'>x</span>: 10980</li></ul></div><ul class='xr-sections'><li class='xr-section-item'><div class='xr-array-wrap'><input id='section-ff66b58a-3e82-45c6-82d5-d9140d812456' class='xr-array-in' type='checkbox' checked><label for='section-ff66b58a-3e82-45c6-82d5-d9140d812456' title='Show/hide data repr'><svg class='icon xr-icon-database'><use xlink:href='#icon-database'></use></svg></label><div class='xr-array-preview xr-preview'><span>2.56e-33 2.56e-33 2.645e-33 2.645e-33 2.579e-33 ... 0.0 0.0 0.0 0.0</span></div><div class='xr-array-data'><pre>array([[2.5600002e-33, 2.5600002e-33, 2.6450000e-33, ..., 0.0000000e+00,\n",
       "        0.0000000e+00, 0.0000000e+00],\n",
       "       [2.5600002e-33, 2.5600002e-33, 2.6450000e-33, ..., 0.0000000e+00,\n",
       "        0.0000000e+00, 0.0000000e+00],\n",
       "       [2.5879996e-33, 2.5879996e-33, 2.5780002e-33, ..., 0.0000000e+00,\n",
       "        0.0000000e+00, 0.0000000e+00],\n",
       "       ...,\n",
       "       [3.3349998e-33, 3.3349998e-33, 3.1000001e-33, ..., 0.0000000e+00,\n",
       "        0.0000000e+00, 0.0000000e+00],\n",
       "       [3.2030002e-33, 3.2030002e-33, 3.0949999e-33, ..., 0.0000000e+00,\n",
       "        0.0000000e+00, 0.0000000e+00],\n",
       "       [3.2030002e-33, 3.2030002e-33, 3.0949999e-33, ..., 0.0000000e+00,\n",
       "        0.0000000e+00, 0.0000000e+00]], dtype=float32)</pre></div></div></li><li class='xr-section-item'><input id='section-312b40a2-aaea-4d42-9ac9-cd23e46fb6d2' class='xr-section-summary-in' type='checkbox'  checked><label for='section-312b40a2-aaea-4d42-9ac9-cd23e46fb6d2' class='xr-section-summary' >Coordinates: <span>(4)</span></label><div class='xr-section-inline-details'></div><div class='xr-section-details'><ul class='xr-var-list'><li class='xr-var-item'><div class='xr-var-name'><span class='xr-has-index'>x</span></div><div class='xr-var-dims'>(x)</div><div class='xr-var-dtype'>float64</div><div class='xr-var-preview xr-preview'>6e+05 6e+05 ... 7.098e+05 7.098e+05</div><input id='attrs-248b7e62-217e-490a-a141-daa4d7162995' class='xr-var-attrs-in' type='checkbox' ><label for='attrs-248b7e62-217e-490a-a141-daa4d7162995' title='Show/Hide attributes'><svg class='icon xr-icon-file-text2'><use xlink:href='#icon-file-text2'></use></svg></label><input id='data-84bd438b-0d64-411f-8420-e26b4d3424ca' class='xr-var-data-in' type='checkbox'><label for='data-84bd438b-0d64-411f-8420-e26b4d3424ca' title='Show/Hide data repr'><svg class='icon xr-icon-database'><use xlink:href='#icon-database'></use></svg></label><div class='xr-var-attrs'><dl class='xr-attrs'><dt><span>axis :</span></dt><dd>X</dd><dt><span>long_name :</span></dt><dd>x coordinate of projection</dd><dt><span>standard_name :</span></dt><dd>projection_x_coordinate</dd><dt><span>units :</span></dt><dd>metre</dd></dl></div><div class='xr-var-data'><pre>array([600005., 600015., 600025., ..., 709775., 709785., 709795.])</pre></div></li><li class='xr-var-item'><div class='xr-var-name'><span class='xr-has-index'>y</span></div><div class='xr-var-dims'>(y)</div><div class='xr-var-dtype'>float64</div><div class='xr-var-preview xr-preview'>7.5e+06 7.5e+06 ... 7.39e+06</div><input id='attrs-d87da476-c7f4-4bd7-a257-4886730e4344' class='xr-var-attrs-in' type='checkbox' ><label for='attrs-d87da476-c7f4-4bd7-a257-4886730e4344' title='Show/Hide attributes'><svg class='icon xr-icon-file-text2'><use xlink:href='#icon-file-text2'></use></svg></label><input id='data-c620008b-1030-4c50-805d-d2cdb8820ed8' class='xr-var-data-in' type='checkbox'><label for='data-c620008b-1030-4c50-805d-d2cdb8820ed8' title='Show/Hide data repr'><svg class='icon xr-icon-database'><use xlink:href='#icon-database'></use></svg></label><div class='xr-var-attrs'><dl class='xr-attrs'><dt><span>axis :</span></dt><dd>Y</dd><dt><span>long_name :</span></dt><dd>y coordinate of projection</dd><dt><span>standard_name :</span></dt><dd>projection_y_coordinate</dd><dt><span>units :</span></dt><dd>metre</dd></dl></div><div class='xr-var-data'><pre>array([7500035., 7500025., 7500015., ..., 7390265., 7390255., 7390245.])</pre></div></li><li class='xr-var-item'><div class='xr-var-name'><span>band</span></div><div class='xr-var-dims'>()</div><div class='xr-var-dtype'>int32</div><div class='xr-var-preview xr-preview'>1</div><input id='attrs-d62d4982-c9db-4f01-afd3-b7afcdd561ee' class='xr-var-attrs-in' type='checkbox' disabled><label for='attrs-d62d4982-c9db-4f01-afd3-b7afcdd561ee' title='Show/Hide attributes'><svg class='icon xr-icon-file-text2'><use xlink:href='#icon-file-text2'></use></svg></label><input id='data-11f08801-1d74-4a98-ae88-84624566d06e' class='xr-var-data-in' type='checkbox'><label for='data-11f08801-1d74-4a98-ae88-84624566d06e' title='Show/Hide data repr'><svg class='icon xr-icon-database'><use xlink:href='#icon-database'></use></svg></label><div class='xr-var-attrs'><dl class='xr-attrs'></dl></div><div class='xr-var-data'><pre>array(1)</pre></div></li><li class='xr-var-item'><div class='xr-var-name'><span>spatial_ref</span></div><div class='xr-var-dims'>()</div><div class='xr-var-dtype'>int32</div><div class='xr-var-preview xr-preview'>0</div><input id='attrs-7b0e8d6e-8a81-4863-b12c-297f9a1115be' class='xr-var-attrs-in' type='checkbox' ><label for='attrs-7b0e8d6e-8a81-4863-b12c-297f9a1115be' title='Show/Hide attributes'><svg class='icon xr-icon-file-text2'><use xlink:href='#icon-file-text2'></use></svg></label><input id='data-86841240-d9f8-4cd1-8138-87456e8ce247' class='xr-var-data-in' type='checkbox'><label for='data-86841240-d9f8-4cd1-8138-87456e8ce247' title='Show/Hide data repr'><svg class='icon xr-icon-database'><use xlink:href='#icon-database'></use></svg></label><div class='xr-var-attrs'><dl class='xr-attrs'><dt><span>crs_wkt :</span></dt><dd>PROJCS[&quot;WGS 84 / UTM zone 22S&quot;,GEOGCS[&quot;WGS 84&quot;,DATUM[&quot;WGS_1984&quot;,SPHEROID[&quot;WGS 84&quot;,6378137,298.257223563,AUTHORITY[&quot;EPSG&quot;,&quot;7030&quot;]],AUTHORITY[&quot;EPSG&quot;,&quot;6326&quot;]],PRIMEM[&quot;Greenwich&quot;,0,AUTHORITY[&quot;EPSG&quot;,&quot;8901&quot;]],UNIT[&quot;degree&quot;,0.0174532925199433,AUTHORITY[&quot;EPSG&quot;,&quot;9122&quot;]],AUTHORITY[&quot;EPSG&quot;,&quot;4326&quot;]],PROJECTION[&quot;Transverse_Mercator&quot;],PARAMETER[&quot;latitude_of_origin&quot;,0],PARAMETER[&quot;central_meridian&quot;,-51],PARAMETER[&quot;scale_factor&quot;,0.9996],PARAMETER[&quot;false_easting&quot;,500000],PARAMETER[&quot;false_northing&quot;,10000000],UNIT[&quot;metre&quot;,1,AUTHORITY[&quot;EPSG&quot;,&quot;9001&quot;]],AXIS[&quot;Easting&quot;,EAST],AXIS[&quot;Northing&quot;,NORTH],AUTHORITY[&quot;EPSG&quot;,&quot;32722&quot;]]</dd><dt><span>semi_major_axis :</span></dt><dd>6378137.0</dd><dt><span>semi_minor_axis :</span></dt><dd>6356752.314245179</dd><dt><span>inverse_flattening :</span></dt><dd>298.257223563</dd><dt><span>reference_ellipsoid_name :</span></dt><dd>WGS 84</dd><dt><span>longitude_of_prime_meridian :</span></dt><dd>0.0</dd><dt><span>prime_meridian_name :</span></dt><dd>Greenwich</dd><dt><span>geographic_crs_name :</span></dt><dd>WGS 84</dd><dt><span>horizontal_datum_name :</span></dt><dd>World Geodetic System 1984</dd><dt><span>projected_crs_name :</span></dt><dd>WGS 84 / UTM zone 22S</dd><dt><span>grid_mapping_name :</span></dt><dd>transverse_mercator</dd><dt><span>latitude_of_projection_origin :</span></dt><dd>0.0</dd><dt><span>longitude_of_central_meridian :</span></dt><dd>-51.0</dd><dt><span>false_easting :</span></dt><dd>500000.0</dd><dt><span>false_northing :</span></dt><dd>10000000.0</dd><dt><span>scale_factor_at_central_meridian :</span></dt><dd>0.9996</dd><dt><span>spatial_ref :</span></dt><dd>PROJCS[&quot;WGS 84 / UTM zone 22S&quot;,GEOGCS[&quot;WGS 84&quot;,DATUM[&quot;WGS_1984&quot;,SPHEROID[&quot;WGS 84&quot;,6378137,298.257223563,AUTHORITY[&quot;EPSG&quot;,&quot;7030&quot;]],AUTHORITY[&quot;EPSG&quot;,&quot;6326&quot;]],PRIMEM[&quot;Greenwich&quot;,0,AUTHORITY[&quot;EPSG&quot;,&quot;8901&quot;]],UNIT[&quot;degree&quot;,0.0174532925199433,AUTHORITY[&quot;EPSG&quot;,&quot;9122&quot;]],AUTHORITY[&quot;EPSG&quot;,&quot;4326&quot;]],PROJECTION[&quot;Transverse_Mercator&quot;],PARAMETER[&quot;latitude_of_origin&quot;,0],PARAMETER[&quot;central_meridian&quot;,-51],PARAMETER[&quot;scale_factor&quot;,0.9996],PARAMETER[&quot;false_easting&quot;,500000],PARAMETER[&quot;false_northing&quot;,10000000],UNIT[&quot;metre&quot;,1,AUTHORITY[&quot;EPSG&quot;,&quot;9001&quot;]],AXIS[&quot;Easting&quot;,EAST],AXIS[&quot;Northing&quot;,NORTH],AUTHORITY[&quot;EPSG&quot;,&quot;32722&quot;]]</dd><dt><span>GeoTransform :</span></dt><dd>600000.0 10.0 0.0 7500040.0 0.0 -10.0</dd></dl></div><div class='xr-var-data'><pre>array(0)</pre></div></li></ul></div></li><li class='xr-section-item'><input id='section-5a5cbac5-5807-495c-aba2-fd3d84818250' class='xr-section-summary-in' type='checkbox'  checked><label for='section-5a5cbac5-5807-495c-aba2-fd3d84818250' class='xr-section-summary' >Attributes: <span>(1)</span></label><div class='xr-section-inline-details'></div><div class='xr-section-details'><dl class='xr-attrs'><dt><span>_FillValue :</span></dt><dd>3.402823466e+38</dd></dl></div></li></ul></div></div>"
      ],
      "text/plain": [
       "<xarray.DataArray (y: 10980, x: 10980)>\n",
       "array([[2.5600002e-33, 2.5600002e-33, 2.6450000e-33, ..., 0.0000000e+00,\n",
       "        0.0000000e+00, 0.0000000e+00],\n",
       "       [2.5600002e-33, 2.5600002e-33, 2.6450000e-33, ..., 0.0000000e+00,\n",
       "        0.0000000e+00, 0.0000000e+00],\n",
       "       [2.5879996e-33, 2.5879996e-33, 2.5780002e-33, ..., 0.0000000e+00,\n",
       "        0.0000000e+00, 0.0000000e+00],\n",
       "       ...,\n",
       "       [3.3349998e-33, 3.3349998e-33, 3.1000001e-33, ..., 0.0000000e+00,\n",
       "        0.0000000e+00, 0.0000000e+00],\n",
       "       [3.2030002e-33, 3.2030002e-33, 3.0949999e-33, ..., 0.0000000e+00,\n",
       "        0.0000000e+00, 0.0000000e+00],\n",
       "       [3.2030002e-33, 3.2030002e-33, 3.0949999e-33, ..., 0.0000000e+00,\n",
       "        0.0000000e+00, 0.0000000e+00]], dtype=float32)\n",
       "Coordinates:\n",
       "  * x            (x) float64 6e+05 6e+05 6e+05 ... 7.098e+05 7.098e+05 7.098e+05\n",
       "  * y            (y) float64 7.5e+06 7.5e+06 7.5e+06 ... 7.39e+06 7.39e+06\n",
       "    band         int32 1\n",
       "    spatial_ref  int32 0\n",
       "Attributes:\n",
       "    _FillValue:  3.402823466e+38"
      ]
     },
     "execution_count": 59,
     "metadata": {},
     "output_type": "execute_result"
    }
   ],
   "source": [
    "%time reshape(datasets['B12'], out_shape)"
   ]
  },
  {
   "cell_type": "code",
   "execution_count": null,
   "id": "4f782b2c-2a04-4885-82fe-0eafa5187a5e",
   "metadata": {},
   "outputs": [],
   "source": []
  },
  {
   "cell_type": "code",
   "execution_count": null,
   "id": "85afb533-17ed-4609-abbf-850f60ea8bbd",
   "metadata": {},
   "outputs": [],
   "source": []
  },
  {
   "cell_type": "code",
   "execution_count": null,
   "id": "15387980-213c-4221-a31e-ee3a3194e981",
   "metadata": {},
   "outputs": [],
   "source": []
  },
  {
   "cell_type": "code",
   "execution_count": 12,
   "id": "6c6250ff-2cb9-4aa8-89b1-623ecb07a05e",
   "metadata": {},
   "outputs": [
    {
     "data": {
      "text/plain": [
       "[-50.02707, -23.595262326390323, -49.237976, -22.596140518501876]"
      ]
     },
     "execution_count": 12,
     "metadata": {},
     "output_type": "execute_result"
    }
   ],
   "source": [
    "tile.bbox"
   ]
  },
  {
   "cell_type": "code",
   "execution_count": null,
   "id": "8d849b60-7dbc-417f-832d-296914f98ef1",
   "metadata": {},
   "outputs": [],
   "source": []
  },
  {
   "cell_type": "code",
   "execution_count": null,
   "id": "259ed3b6-e7bd-48bc-b915-404b8961b10e",
   "metadata": {},
   "outputs": [],
   "source": []
  },
  {
   "cell_type": "code",
   "execution_count": null,
   "id": "62cd00fc-5e15-4f49-9016-6a27d0c86fc3",
   "metadata": {},
   "outputs": [],
   "source": []
  },
  {
   "cell_type": "code",
   "execution_count": null,
   "id": "b65434cf-65b5-48fa-a292-c5749ee99d7a",
   "metadata": {},
   "outputs": [],
   "source": []
  },
  {
   "cell_type": "code",
   "execution_count": null,
   "id": "f5e27bbd-9e42-42e0-a8c8-ec053e96c584",
   "metadata": {},
   "outputs": [],
   "source": []
  },
  {
   "cell_type": "code",
   "execution_count": null,
   "id": "87b0da0f-436b-4b74-a73d-21c9cd3c3e72",
   "metadata": {},
   "outputs": [],
   "source": []
  },
  {
   "cell_type": "code",
   "execution_count": 36,
   "id": "f82b7056-00d4-4f57-8513-aa046315fb51",
   "metadata": {},
   "outputs": [
    {
     "name": "stdout",
     "output_type": "stream",
     "text": [
      "Getting image: S2B_MSIL2A_20191030T133229_R081_T22KFV_20201004T074719\n",
      "resampling SCL to (10980, 10980)\n",
      "Wall time: 44.3 s\n"
     ]
    }
   ],
   "source": [
    "%time img = open_image(tiles[0], ['B02', 'SCL'])"
   ]
  },
  {
   "cell_type": "markdown",
   "id": "efdce791-6032-4d0e-89c6-3a1fe7380936",
   "metadata": {},
   "source": [
    "## Process the Images"
   ]
  },
  {
   "cell_type": "code",
   "execution_count": null,
   "id": "4dfd0ef8-41be-4766-a4fe-6d09a945962b",
   "metadata": {},
   "outputs": [
    {
     "name": "stdout",
     "output_type": "stream",
     "text": [
      "                                            types |   # objects |   total size\n",
      "================================================= | =========== | ============\n",
      "                        numpy.ma.core.MaskedArray |          12 |     23.00 MB\n",
      "                                    numpy.ndarray |        5514 |      9.96 MB\n",
      "                                             dict |       19298 |      5.67 MB\n",
      "                              function (<lambda>) |        4970 |    660.08 KB\n",
      "                       builtin_function_or_method |        5476 |    385.03 KB\n",
      "                                          weakref |        4978 |    350.02 KB\n",
      "                                              set |        1607 |    340.98 KB\n",
      "                                            tuple |        5745 |    311.16 KB\n",
      "                                              int |        9928 |    310.25 KB\n",
      "                                             list |        3989 |    245.82 KB\n",
      "                                  itertools.count |        1591 |     87.01 KB\n",
      "                        matplotlib.artist._XYPair |        1547 |     84.60 KB\n",
      "                matplotlib.cbook.CallbackRegistry |        1591 |     74.58 KB\n",
      "  matplotlib.transforms.CompositeGenericTransform |        1356 |     63.56 KB\n",
      "                       matplotlib.transforms.Bbox |        1256 |     58.88 KB\n",
      "****************************************************************************************************\n",
      "Processing tile <Item id=S2B_MSIL2A_20200723T132239_R038_T22KFV_20200817T071431>\n",
      "Downloading s2cloudless for S2B_MSIL2A_20200723T132239_R038_T22KFV_20200817T071431\n",
      "Getting image: S2B_MSIL2A_20200723T132239_R038_T22KFV_20200817T071431\n",
      "Retrieving band info\n",
      "Dividing band in 4 tiles\n"
     ]
    },
    {
     "data": {
      "application/vnd.jupyter.widget-view+json": {
       "model_id": "0bd8aa3e8165419f85f3b8a2307d865d",
       "version_major": 2,
       "version_minor": 0
      },
      "text/plain": [
       "Tiles:   0%|          | 0/4 [00:00<?, ?tile/s]"
      ]
     },
     "metadata": {},
     "output_type": "display_data"
    },
    {
     "name": "stdout",
     "output_type": "stream",
     "text": [
      "resampling B11 to (10980, 10980)\n",
      "resampling B12 to (10980, 10980)\n",
      "resampling SCL to (10980, 10980)\n",
      "Getting metadata: granule-metadata\n"
     ]
    },
    {
     "name": "stderr",
     "output_type": "stream",
     "text": [
      "/home/jovyan/pc_waterdetect/waterdetect/glint.py:54: RuntimeWarning: Mean of empty slice\n",
      "  return np.nanmean(arrays_lst, axis=0)\n"
     ]
    }
   ],
   "source": [
    "import gc\n",
    "\n",
    "cluster_bands = ['mndwi', 'ndwi', 'B12']\n",
    "\n",
    "for tile in tiles:\n",
    "    clear_output()\n",
    "    tracker.print_diff()\n",
    "    \n",
    "    print('*'*100)\n",
    "    print(f'Processing tile {tile}')\n",
    "    wd = WaterDetect(tile, cluster_bands, s2clouds=True, n_jobs=4)\n",
    "    wd.run_detect_water()\n",
    "    \n",
    "    # save thumbnails\n",
    "    wd.plot_thumbs(cols=3, thumbs=['rgb', 'watermask', 'mndwi', 'mask', 'glint', 'ndwi'],  save_folder='../tmp2')\n",
    "    \n",
    "    # save graphs\n",
    "    wd.plot_graphs([['ndwi', 'mndwi'], ['B12', 'mndwi']], cols=2, save_folder='../tmp2')\n",
    "    \n",
    "    # save the watermask\n",
    "    wd.save_geotiff('nodata_watermask', Path('../tmp2')/f'{wd.img_item.id[:38]}_watermask.tif')\n",
    "    \n",
    "    del wd\n",
    "    gc.collect()"
   ]
  },
  {
   "cell_type": "code",
   "execution_count": null,
   "id": "689c4e85-eed7-4294-a2e3-b7440634cee4",
   "metadata": {},
   "outputs": [],
   "source": []
  },
  {
   "cell_type": "code",
   "execution_count": null,
   "id": "313ea971-0ef0-4a6f-9a05-996e68cf9459",
   "metadata": {},
   "outputs": [],
   "source": []
  },
  {
   "cell_type": "code",
   "execution_count": null,
   "id": "2e3e0e64-85a5-4638-9357-2e3f414f9fc5",
   "metadata": {},
   "outputs": [],
   "source": []
  },
  {
   "cell_type": "code",
   "execution_count": null,
   "id": "95f2e86e-0ad6-4303-9166-bcdbd625a6c1",
   "metadata": {},
   "outputs": [],
   "source": []
  },
  {
   "cell_type": "code",
   "execution_count": null,
   "id": "66e70669-31d0-4e61-989f-67b6df49d241",
   "metadata": {},
   "outputs": [],
   "source": []
  },
  {
   "cell_type": "code",
   "execution_count": null,
   "id": "d576b05c-43fe-4734-89dd-580d849af9da",
   "metadata": {},
   "outputs": [],
   "source": []
  },
  {
   "cell_type": "code",
   "execution_count": null,
   "id": "f1c9594e-db40-4ae1-9665-13049f1a7727",
   "metadata": {},
   "outputs": [],
   "source": []
  },
  {
   "cell_type": "code",
   "execution_count": null,
   "id": "9aa97dd4-2223-4840-894b-680ad52fedd0",
   "metadata": {},
   "outputs": [],
   "source": [
    "tiles = search_tiles('23KLT', '2019-01/2019-12')\n",
    "tiles"
   ]
  },
  {
   "cell_type": "code",
   "execution_count": null,
   "id": "2e9c820d-2679-4db0-8af4-4f654662dbd5",
   "metadata": {},
   "outputs": [],
   "source": []
  },
  {
   "cell_type": "code",
   "execution_count": null,
   "id": "658215be-4421-4478-9c37-45cf77647f15",
   "metadata": {},
   "outputs": [],
   "source": [
    "import gc\n",
    "\n",
    "cluster_bands = ['mndwi', 'ndwi', 'B12']\n",
    "\n",
    "for tile in tiles:\n",
    "    print('*'*100)\n",
    "    print(f'Processing tile {tile}')\n",
    "    wd = WaterDetect(tile, cluster_bands, s2clouds=True, n_jobs=4)\n",
    "    wd.run_detect_water()\n",
    "    \n",
    "    # save thumbnails\n",
    "    wd.plot_thumbs(cols=3, thumbs=['rgb', 'watermask', 'mndwi', 'mask', 'glint', 'ndwi'],  save_folder='../tmp2')\n",
    "    \n",
    "    # save graphs\n",
    "    wd.plot_graphs([['ndwi', 'mndwi'], ['B12', 'mndwi']], cols=2, save_folder='../tmp2')\n",
    "    \n",
    "    # save the watermask\n",
    "    wd.save_geotiff('nodata_watermask', Path('../tmp2')/f'{wd.img_item.id[:38]}_watermask.tif')\n",
    "    \n",
    "    del wd\n",
    "    gc.collect()"
   ]
  },
  {
   "cell_type": "code",
   "execution_count": null,
   "id": "e2e4d42f-d2a0-481c-81d7-8bffd61b4df2",
   "metadata": {},
   "outputs": [],
   "source": []
  }
 ],
 "metadata": {
  "kernelspec": {
   "display_name": "Python3",
   "language": "python",
   "name": "python3"
  },
  "language_info": {
   "codemirror_mode": {
    "name": "ipython",
    "version": 3
   },
   "file_extension": ".py",
   "mimetype": "text/x-python",
   "name": "python",
   "nbconvert_exporter": "python",
   "pygments_lexer": "ipython3",
   "version": "3.8.12"
  }
 },
 "nbformat": 4,
 "nbformat_minor": 5
}
