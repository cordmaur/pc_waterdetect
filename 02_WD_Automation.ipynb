{
 "cells": [
  {
   "cell_type": "markdown",
   "id": "262b7084-1a1a-453c-9588-f51e7c17dc90",
   "metadata": {},
   "source": [
    "## Install Dependencies"
   ]
  },
  {
   "cell_type": "code",
   "execution_count": 11,
   "id": "bc1b8eb3-4fa7-4023-bf79-b4b729100a7b",
   "metadata": {},
   "outputs": [],
   "source": [
    "# %pip install earthengine-api -q\n",
    "# %pip install git+https://github.com/cordmaur/GEES2Downloader.git@main -q\n",
    "# %pip install geemap -q"
   ]
  },
  {
   "cell_type": "code",
   "execution_count": 12,
   "id": "815582b4-c3a8-4d2f-b6ce-92272c97d42c",
   "metadata": {},
   "outputs": [],
   "source": [
    "# %pip install pympler"
   ]
  },
  {
   "cell_type": "code",
   "execution_count": 13,
   "id": "5dfd9913-dce2-42a5-a64b-0d442c20e100",
   "metadata": {},
   "outputs": [
    {
     "name": "stdout",
     "output_type": "stream",
     "text": [
      "The autoreload extension is already loaded. To reload it, use:\n",
      "  %reload_ext autoreload\n"
     ]
    }
   ],
   "source": [
    "%load_ext autoreload\n",
    "%autoreload 2"
   ]
  },
  {
   "cell_type": "code",
   "execution_count": 14,
   "id": "7bcf7e12-cd42-4e9e-9343-55fa30af0d51",
   "metadata": {},
   "outputs": [],
   "source": [
    "import ee\n",
    "import matplotlib.pyplot as plt\n",
    "from pathlib import Path\n",
    "\n",
    "import xarray as xr\n",
    "import rasterio as rio\n",
    "\n",
    "from waterdetect.planetary import search_tiles\n",
    "from waterdetect.engine import WaterDetect\n",
    "from waterdetect.cloudless import get_gee_img"
   ]
  },
  {
   "cell_type": "code",
   "execution_count": 15,
   "id": "7f0c122b-59d2-495b-a6ea-23e762226cc3",
   "metadata": {},
   "outputs": [],
   "source": [
    "# ee.Authenticate()\n",
    "ee.Initialize()"
   ]
  },
  {
   "cell_type": "code",
   "execution_count": 16,
   "id": "da37d17b-1552-4972-ac95-7235e07557a2",
   "metadata": {},
   "outputs": [],
   "source": [
    "# For memory tracking\n",
    "from IPython.display import clear_output\n",
    "from pympler import asizeof, muppy, summary\n"
   ]
  },
  {
   "cell_type": "markdown",
   "id": "14295d86-ff14-4152-8392-c04b3722c7f0",
   "metadata": {},
   "source": [
    "# Getting the Images to be Processed"
   ]
  },
  {
   "cell_type": "code",
   "execution_count": 17,
   "id": "6967fa5e-d7c2-462c-826c-b978dc0d2653",
   "metadata": {},
   "outputs": [
    {
     "data": {
      "text/plain": [
       "366"
      ]
     },
     "execution_count": 17,
     "metadata": {},
     "output_type": "execute_result"
    }
   ],
   "source": [
    "from pathlib import Path\n",
    "\n",
    "tile = '22KDA'\n",
    "period = '2018-12/2021-12'\n",
    "output_folder = 'E:/output/planetary'\n",
    "\n",
    "# Create the output folder (tile name)\n",
    "out_path = Path(output_folder)/tile\n",
    "if not out_path.exists():\n",
    "    out_path.mkdir(exist_ok=True)\n",
    "\n",
    "imgs = search_tiles(tile, period, reverse=False)\n",
    "len(imgs)"
   ]
  },
  {
   "cell_type": "markdown",
   "id": "df2d6e5c-15b0-4a37-892f-7bfda029e073",
   "metadata": {},
   "source": [
    "## Create Logger"
   ]
  },
  {
   "cell_type": "code",
   "execution_count": 18,
   "id": "d0ae318b-8198-48f3-b85d-b1b70c6e8b29",
   "metadata": {},
   "outputs": [],
   "source": [
    "import logging\n",
    "\n",
    "logger = logging.getLogger('waterdetect-1')\n",
    "handler = logging.FileHandler(f'./tmp/log_{tile}.txt', mode='a+')\n",
    "handler.setFormatter(logging.Formatter(\"%(asctime)-15s %(levelname)-8s %(message)s\"))\n",
    "logger.setLevel(logging.INFO)\n",
    "logger.addHandler(handler)"
   ]
  },
  {
   "cell_type": "markdown",
   "id": "efdce791-6032-4d0e-89c6-3a1fe7380936",
   "metadata": {},
   "source": [
    "## Process the Images"
   ]
  },
  {
   "cell_type": "code",
   "execution_count": 19,
   "id": "c9e544fb-7c22-47a1-a52c-321f12e586be",
   "metadata": {
    "tags": []
   },
   "outputs": [],
   "source": [
    "import gc\n",
    "\n",
    "def process_img(img, out_folder, n_jobs=7, retries=3):\n",
    "    \"\"\"\n",
    "    Fully waterdetect one img (stac item) and save the outputs to the out_folder.\n",
    "    If something goes wrong in the meantime, it will retry the execution.\n",
    "    \"\"\"\n",
    "    \n",
    "    print('*'*50)\n",
    "    print(f'Processing tile {img}')\n",
    "    \n",
    "    while retries > 0:\n",
    "        try:\n",
    "            wd = WaterDetect(img, cluster_bands, s2clouds=True, n_jobs=n_jobs)\n",
    "            wd.run_detect_water()\n",
    "\n",
    "            # save thumbnails\n",
    "            wd.plot_thumbs(cols=3, thumbs=['rgb', 'watermask', 'mndwi', 'mask', 'glint', 'ndwi'],  save_folder=out_folder)\n",
    "\n",
    "            # save graphs\n",
    "            wd.plot_graphs([['ndwi', 'mndwi'], ['B12', 'mndwi']], cols=2, save_folder=out_folder)\n",
    "\n",
    "            # save the watermask\n",
    "            wd.save_geotiff('nodata_watermask', out_folder/f'{wd.img_item.id[:38]}_watermask.tif')\n",
    "\n",
    "            retries = 0\n",
    "            logger.info(f'{img} - OK')\n",
    "\n",
    "        except Exception as e:\n",
    "            \n",
    "            logger.error(f'Exception {e} when processing img {img}')\n",
    "            logger.error(f'Releasing memory')\n",
    "            \n",
    "            \n",
    "            retries -= 1\n",
    "            logger.error(f'There are {retries} retries left!')\n",
    "\n",
    "        # Regardless the result of the processing, will release the memory by killing wd\n",
    "        try:\n",
    "            del wd\n",
    "        except:\n",
    "            pass\n",
    "        \n",
    "        # And collect the garbage\n",
    "        gc.collect()\n",
    "\n",
    "            "
   ]
  },
  {
   "cell_type": "code",
   "execution_count": null,
   "id": "4dfd0ef8-41be-4766-a4fe-6d09a945962b",
   "metadata": {},
   "outputs": [
    {
     "name": "stdout",
     "output_type": "stream",
     "text": [
      "0:01:59.426805\n",
      "                           types |   # objects |   total size\n",
      "================================ | =========== | ============\n",
      "                   numpy.ndarray |        6246 |      2.81 GB\n",
      "                            dict |      374482 |    108.49 MB\n",
      "                             str |      342882 |     48.92 MB\n",
      "                            list |      206435 |     21.25 MB\n",
      "                            code |       50005 |      8.97 MB\n",
      "                            type |        7538 |      6.74 MB\n",
      "                           tuple |       96438 |      5.30 MB\n",
      "  traitlets.config.loader.Config |       16404 |      3.88 MB\n",
      "                           float |      161050 |      3.69 MB\n",
      "                             int |      129300 |      3.51 MB\n",
      "                             set |        5747 |      2.59 MB\n",
      "            asttokens.util.Token |       20482 |      2.19 MB\n",
      "                           bytes |       16703 |      1.11 MB\n",
      "                          method |       17724 |      1.08 MB\n",
      "      builtin_function_or_method |       13094 |    920.67 KB\n",
      "**************************************************\n",
      "Processing tile <Item id=S2A_MSIL2A_20210517T133221_R081_T22KDA_20210519T012417>\n",
      "Downloading s2cloudless for S2A_MSIL2A_20210517T133221_R081_T22KDA_20210519T012417\n",
      "Getting image: S2A_MSIL2A_20210517T133221_R081_T22KDA_20210519T012417\n",
      "Retrieving band info\n",
      "Downloading B02\n",
      "Dividing band in 4 tiles\n"
     ]
    },
    {
     "data": {
      "application/vnd.jupyter.widget-view+json": {
       "model_id": "cee2278ca8f74f87b3d3a9a5434209aa",
       "version_major": 2,
       "version_minor": 0
      },
      "text/plain": [
       "Tiles:   0%|          | 0/4 [00:00<?, ?tile/s]"
      ]
     },
     "metadata": {},
     "output_type": "display_data"
    },
    {
     "data": {
      "application/vnd.jupyter.widget-view+json": {
       "model_id": "8716dfa3c7b34d4f91b9ff715fba49ad",
       "version_major": 2,
       "version_minor": 0
      },
      "text/plain": [
       "Tile[0:2896,0:2896]:   0%|          | 0.00/10.9M [00:00<?, ?b/s]"
      ]
     },
     "metadata": {},
     "output_type": "display_data"
    },
    {
     "data": {
      "application/vnd.jupyter.widget-view+json": {
       "model_id": "ac89e0bab3bd417f9e7f5d9a31bdc4c1",
       "version_major": 2,
       "version_minor": 0
      },
      "text/plain": [
       "Tile[0:2896,2896:5490]:   0%|          | 0.00/9.77M [00:00<?, ?b/s]"
      ]
     },
     "metadata": {},
     "output_type": "display_data"
    },
    {
     "data": {
      "application/vnd.jupyter.widget-view+json": {
       "model_id": "ee7b6ae304b04b3ba47f2239866ca3b0",
       "version_major": 2,
       "version_minor": 0
      },
      "text/plain": [
       "Tile[2896:5490,0:2896]:   0%|          | 0.00/9.77M [00:00<?, ?b/s]"
      ]
     },
     "metadata": {},
     "output_type": "display_data"
    },
    {
     "data": {
      "application/vnd.jupyter.widget-view+json": {
       "model_id": "af3f6e1d12fb4613a26b3af86bc5d603",
       "version_major": 2,
       "version_minor": 0
      },
      "text/plain": [
       "Tile[2896:5490,2896:5490]:   0%|          | 0.00/8.75M [00:00<?, ?b/s]"
      ]
     },
     "metadata": {},
     "output_type": "display_data"
    },
    {
     "name": "stdout",
     "output_type": "stream",
     "text": [
      "Downloading B03\n",
      "Downloading B04\n",
      "Finished. The result can be accessed at obj.array\n",
      "Getting metadata: granule-metadata\n",
      "Downloading B11\n",
      "Downloading B12\n",
      "Downloading B08\n"
     ]
    }
   ],
   "source": [
    "from datetime import datetime\n",
    "\n",
    "cluster_bands = ['mndwi', 'ndwi', 'B12']\n",
    "\n",
    "lap = datetime.now()\n",
    "\n",
    "for img in imgs:\n",
    "    clear_output(wait=True)\n",
    "    \n",
    "    print(datetime.now() - lap)\n",
    "    lap = datetime.now()\n",
    "    \n",
    "    sum1 = summary.summarize(muppy.get_objects())\n",
    "    summary.print_(sum1)\n",
    "\n",
    "    process_img(img, out_path)\n",
    "        "
   ]
  },
  {
   "cell_type": "code",
   "execution_count": null,
   "id": "ca846b9a-3aef-4ea1-9dbf-421e35557724",
   "metadata": {},
   "outputs": [],
   "source": []
  }
 ],
 "metadata": {
  "kernelspec": {
   "display_name": "Python 3",
   "language": "python",
   "name": "python3"
  },
  "language_info": {
   "codemirror_mode": {
    "name": "ipython",
    "version": 3
   },
   "file_extension": ".py",
   "mimetype": "text/x-python",
   "name": "python",
   "nbconvert_exporter": "python",
   "pygments_lexer": "ipython3",
   "version": "3.8.10"
  }
 },
 "nbformat": 4,
 "nbformat_minor": 5
}
