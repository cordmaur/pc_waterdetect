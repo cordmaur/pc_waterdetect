{
 "cells": [
  {
   "cell_type": "markdown",
   "id": "262b7084-1a1a-453c-9588-f51e7c17dc90",
   "metadata": {},
   "source": [
    "## Install Dependencies"
   ]
  },
  {
   "cell_type": "code",
   "execution_count": 6,
   "id": "bc1b8eb3-4fa7-4023-bf79-b4b729100a7b",
   "metadata": {},
   "outputs": [],
   "source": [
    "# %pip install earthengine-api -q\n",
    "# %pip install git+https://github.com/cordmaur/GEES2Downloader.git@main -q\n",
    "# %pip install geemap -q"
   ]
  },
  {
   "cell_type": "code",
   "execution_count": 7,
   "id": "815582b4-c3a8-4d2f-b6ce-92272c97d42c",
   "metadata": {},
   "outputs": [],
   "source": [
    "# %pip install pympler"
   ]
  },
  {
   "cell_type": "code",
   "execution_count": 8,
   "id": "5dfd9913-dce2-42a5-a64b-0d442c20e100",
   "metadata": {},
   "outputs": [
    {
     "name": "stdout",
     "output_type": "stream",
     "text": [
      "The autoreload extension is already loaded. To reload it, use:\n",
      "  %reload_ext autoreload\n"
     ]
    }
   ],
   "source": [
    "%load_ext autoreload\n",
    "%autoreload 2"
   ]
  },
  {
   "cell_type": "code",
   "execution_count": 9,
   "id": "7bcf7e12-cd42-4e9e-9343-55fa30af0d51",
   "metadata": {},
   "outputs": [],
   "source": [
    "import ee\n",
    "import matplotlib.pyplot as plt\n",
    "from pathlib import Path\n",
    "\n",
    "import xarray as xr\n",
    "import rasterio as rio\n",
    "\n",
    "from waterdetect.engine import search_tiles, WaterDetect\n",
    "from waterdetect.cloudless import get_gee_img"
   ]
  },
  {
   "cell_type": "code",
   "execution_count": 10,
   "id": "7f0c122b-59d2-495b-a6ea-23e762226cc3",
   "metadata": {},
   "outputs": [],
   "source": [
    "# ee.Authenticate()\n",
    "ee.Initialize()"
   ]
  },
  {
   "cell_type": "code",
   "execution_count": 11,
   "id": "da37d17b-1552-4972-ac95-7235e07557a2",
   "metadata": {},
   "outputs": [],
   "source": [
    "# For memory tracking\n",
    "\n",
    "# %pip install pympler\n",
    "\n",
    "from IPython.display import clear_output\n",
    "\n",
    "# # from pympler.tracker import SummaryTracker\n",
    "# from pympler.classtracker import ClassTracker\n",
    "# # tracker = SummaryTracker()\n",
    "# tr = ClassTracker()\n",
    "# tr.track_class(WaterDetect)\n",
    "\n",
    "# tracker.print_diff()"
   ]
  },
  {
   "cell_type": "markdown",
   "id": "14295d86-ff14-4152-8392-c04b3722c7f0",
   "metadata": {},
   "source": [
    "# Getting the Images to be Processed"
   ]
  },
  {
   "cell_type": "code",
   "execution_count": 12,
   "id": "d5beb968-782e-4b4e-a150-0698a975e61d",
   "metadata": {},
   "outputs": [
    {
     "data": {
      "text/plain": [
       "[<Item id=S2A_MSIL2A_20211230T132241_R038_T23KLT_20211231T153016>,\n",
       " <Item id=S2A_MSIL2A_20211227T131241_R138_T23KLT_20211228T010021>,\n",
       " <Item id=S2B_MSIL2A_20211225T132229_R038_T23KLT_20211226T003424>,\n",
       " <Item id=S2B_MSIL2A_20211222T131239_R138_T23KLT_20211223T144408>,\n",
       " <Item id=S2A_MSIL2A_20211220T132231_R038_T23KLT_20211221T133024>,\n",
       " <Item id=S2A_MSIL2A_20211217T131241_R138_T23KLT_20211218T021014>,\n",
       " <Item id=S2B_MSIL2A_20211215T132229_R038_T23KLT_20211216T075359>,\n",
       " <Item id=S2B_MSIL2A_20211212T131239_R138_T23KLT_20211213T071006>,\n",
       " <Item id=S2A_MSIL2A_20211210T132231_R038_T23KLT_20211210T220659>,\n",
       " <Item id=S2A_MSIL2A_20211207T131241_R138_T23KLT_20211208T090357>,\n",
       " <Item id=S2B_MSIL2A_20211205T132229_R038_T23KLT_20211205T214751>,\n",
       " <Item id=S2B_MSIL2A_20211202T131239_R138_T23KLT_20211203T024635>,\n",
       " <Item id=S2A_MSIL2A_20211130T132231_R038_T23KLT_20211201T040048>,\n",
       " <Item id=S2A_MSIL2A_20211127T131241_R138_T23KLT_20211128T145647>,\n",
       " <Item id=S2B_MSIL2A_20211125T132229_R038_T23KLT_20211126T010039>,\n",
       " <Item id=S2B_MSIL2A_20211122T131239_R138_T23KLT_20211123T010612>,\n",
       " <Item id=S2A_MSIL2A_20211120T132231_R038_T23KLT_20211121T020513>,\n",
       " <Item id=S2A_MSIL2A_20211117T131241_R138_T23KLT_20211118T044314>,\n",
       " <Item id=S2B_MSIL2A_20211115T132229_R038_T23KLT_20211115T224158>,\n",
       " <Item id=S2B_MSIL2A_20211112T131239_R138_T23KLT_20211113T003541>,\n",
       " <Item id=S2A_MSIL2A_20211110T132241_R038_T23KLT_20211111T001222>,\n",
       " <Item id=S2A_MSIL2A_20211107T131251_R138_T23KLT_20211107T233855>,\n",
       " <Item id=S2B_MSIL2A_20211013T131249_R138_T23KLT_20211014T045919>,\n",
       " <Item id=S2A_MSIL2A_20211011T132241_R038_T23KLT_20211011T220703>,\n",
       " <Item id=S2A_MSIL2A_20211008T131251_R138_T23KLT_20211009T023735>,\n",
       " <Item id=S2B_MSIL2A_20211006T132239_R038_T23KLT_20211007T005658>,\n",
       " <Item id=S2B_MSIL2A_20211003T131239_R138_T23KLT_20211003T220549>,\n",
       " <Item id=S2A_MSIL2A_20211001T132241_R038_T23KLT_20211002T121828>,\n",
       " <Item id=S2A_MSIL2A_20210928T131051_R138_T23KLT_20210929T054741>,\n",
       " <Item id=S2B_MSIL2A_20210926T132039_R038_T23KLT_20210927T044549>,\n",
       " <Item id=S2B_MSIL2A_20210923T131039_R138_T23KLT_20210924T074754>,\n",
       " <Item id=S2A_MSIL2A_20210921T132041_R038_T23KLT_20210922T043948>,\n",
       " <Item id=S2A_MSIL2A_20210918T131041_R138_T23KLT_20210919T021810>,\n",
       " <Item id=S2B_MSIL2A_20210916T132029_R038_T23KLT_20210917T033145>,\n",
       " <Item id=S2B_MSIL2A_20210913T131039_R138_T23KLT_20210914T044124>,\n",
       " <Item id=S2A_MSIL2A_20210911T132041_R038_T23KLT_20210912T041141>,\n",
       " <Item id=S2A_MSIL2A_20210908T131041_R138_T23KLT_20210909T033608>,\n",
       " <Item id=S2B_MSIL2A_20210906T132029_R038_T23KLT_20210907T030849>,\n",
       " <Item id=S2B_MSIL2A_20210903T131039_R138_T23KLT_20210903T224006>,\n",
       " <Item id=S2A_MSIL2A_20210901T132041_R038_T23KLT_20210901T234235>,\n",
       " <Item id=S2A_MSIL2A_20210829T131041_R138_T23KLT_20210830T034231>,\n",
       " <Item id=S2B_MSIL2A_20210827T132039_R038_T23KLT_20210827T231341>,\n",
       " <Item id=S2B_MSIL2A_20210824T131039_R138_T23KLT_20210824T222919>,\n",
       " <Item id=S2A_MSIL2A_20210822T132241_R038_T23KLT_20210823T022116>,\n",
       " <Item id=S2A_MSIL2A_20210819T131251_R138_T23KLT_20210822T095929>,\n",
       " <Item id=S2B_MSIL2A_20210817T132229_R038_T23KLT_20210817T222017>,\n",
       " <Item id=S2B_MSIL2A_20210814T131249_R138_T23KLT_20210815T001359>,\n",
       " <Item id=S2A_MSIL2A_20210812T132241_R038_T23KLT_20210813T003514>,\n",
       " <Item id=S2A_MSIL2A_20210809T131251_R138_T23KLT_20210809T230626>,\n",
       " <Item id=S2B_MSIL2A_20210807T132239_R038_T23KLT_20210808T005810>,\n",
       " <Item id=S2B_MSIL2A_20210804T131249_R138_T23KLT_20210804T224704>,\n",
       " <Item id=S2A_MSIL2A_20210802T132241_R038_T23KLT_20210803T062818>,\n",
       " <Item id=S2A_MSIL2A_20210730T131251_R138_T23KLT_20210801T013237>,\n",
       " <Item id=S2B_MSIL2A_20210728T132239_R038_T23KLT_20210729T004804>,\n",
       " <Item id=S2B_MSIL2A_20210725T131249_R138_T23KLT_20210726T115321>,\n",
       " <Item id=S2A_MSIL2A_20210723T132241_R038_T23KLT_20210724T021150>,\n",
       " <Item id=S2A_MSIL2A_20210720T131251_R138_T23KLT_20210721T004049>,\n",
       " <Item id=S2B_MSIL2A_20210718T132239_R038_T23KLT_20210719T022850>,\n",
       " <Item id=S2B_MSIL2A_20210715T131249_R138_T23KLT_20210716T050311>,\n",
       " <Item id=S2A_MSIL2A_20210713T132241_R038_T23KLT_20210714T070004>,\n",
       " <Item id=S2A_MSIL2A_20210710T131251_R138_T23KLT_20210711T003856>,\n",
       " <Item id=S2B_MSIL2A_20210708T132239_R038_T23KLT_20210709T093700>,\n",
       " <Item id=S2B_MSIL2A_20210705T131249_R138_T23KLT_20210706T041651>,\n",
       " <Item id=S2A_MSIL2A_20210703T132241_R038_T23KLT_20210704T092546>,\n",
       " <Item id=S2A_MSIL2A_20210630T131251_R138_T23KLT_20210701T095613>,\n",
       " <Item id=S2B_MSIL2A_20210628T132239_R038_T23KLT_20210629T183723>,\n",
       " <Item id=S2B_MSIL2A_20210625T131249_R138_T23KLT_20210626T102129>,\n",
       " <Item id=S2A_MSIL2A_20210623T132231_R038_T23KLT_20210625T162535>,\n",
       " <Item id=S2A_MSIL2A_20210620T131241_R138_T23KLT_20210621T063404>,\n",
       " <Item id=S2B_MSIL2A_20210618T132239_R038_T23KLT_20210618T224828>,\n",
       " <Item id=S2B_MSIL2A_20210615T131249_R138_T23KLT_20210615T233454>,\n",
       " <Item id=S2A_MSIL2A_20210613T132231_R038_T23KLT_20210615T023421>,\n",
       " <Item id=S2A_MSIL2A_20210610T131241_R138_T23KLT_20210613T194720>,\n",
       " <Item id=S2B_MSIL2A_20210608T132239_R038_T23KLT_20210610T151835>,\n",
       " <Item id=S2B_MSIL2A_20210605T131249_R138_T23KLT_20210606T025206>,\n",
       " <Item id=S2A_MSIL2A_20210603T132231_R038_T23KLT_20210604T035629>,\n",
       " <Item id=S2A_MSIL2A_20210531T131241_R138_T23KLT_20210601T043434>,\n",
       " <Item id=S2B_MSIL2A_20210529T132239_R038_T23KLT_20210529T214643>,\n",
       " <Item id=S2B_MSIL2A_20210526T131249_R138_T23KLT_20210526T202632>,\n",
       " <Item id=S2A_MSIL2A_20210524T132231_R038_T23KLT_20210525T054428>,\n",
       " <Item id=S2A_MSIL2A_20210521T131241_R138_T23KLT_20210522T050916>,\n",
       " <Item id=S2B_MSIL2A_20210519T132229_R038_T23KLT_20210520T180710>,\n",
       " <Item id=S2B_MSIL2A_20210516T131239_R138_T23KLT_20210518T113903>,\n",
       " <Item id=S2A_MSIL2A_20210514T132231_R038_T23KLT_20210516T041015>,\n",
       " <Item id=S2A_MSIL2A_20210511T131241_R138_T23KLT_20210512T002110>,\n",
       " <Item id=S2B_MSIL2A_20210509T132229_R038_T23KLT_20210510T130830>,\n",
       " <Item id=S2B_MSIL2A_20210506T131239_R138_T23KLT_20210508T030621>,\n",
       " <Item id=S2A_MSIL2A_20210504T132231_R038_T23KLT_20210611T015354>,\n",
       " <Item id=S2A_MSIL2A_20210501T131241_R138_T23KLT_20210502T070413>,\n",
       " <Item id=S2B_MSIL2A_20210429T132229_R038_T23KLT_20210430T082905>,\n",
       " <Item id=S2B_MSIL2A_20210426T131239_R138_T23KLT_20210427T043134>,\n",
       " <Item id=S2A_MSIL2A_20210424T132231_R038_T23KLT_20210425T200420>,\n",
       " <Item id=S2A_MSIL2A_20210421T131241_R138_T23KLT_20210425T080519>,\n",
       " <Item id=S2B_MSIL2A_20210419T132229_R038_T23KLT_20210420T081230>,\n",
       " <Item id=S2B_MSIL2A_20210416T131239_R138_T23KLT_20210417T055042>,\n",
       " <Item id=S2A_MSIL2A_20210414T132231_R038_T23KLT_20210415T171531>,\n",
       " <Item id=S2A_MSIL2A_20210411T131241_R138_T23KLT_20210412T055430>,\n",
       " <Item id=S2B_MSIL2A_20210409T132229_R038_T23KLT_20210524T191624>,\n",
       " <Item id=S2B_MSIL2A_20210406T131239_R138_T23KLT_20210407T085825>,\n",
       " <Item id=S2A_MSIL2A_20210404T132231_R038_T23KLT_20210405T093723>,\n",
       " <Item id=S2A_MSIL2A_20210401T131241_R138_T23KLT_20210401T203307>,\n",
       " <Item id=S2B_MSIL2A_20210330T132229_R038_T23KLT_20210331T044409>,\n",
       " <Item id=S2B_MSIL2A_20210327T131239_R138_T23KLT_20210328T003643>,\n",
       " <Item id=S2A_MSIL2A_20210325T132231_R038_T23KLT_20210326T061311>,\n",
       " <Item id=S2A_MSIL2A_20210322T131241_R138_T23KLT_20210323T070911>,\n",
       " <Item id=S2B_MSIL2A_20210320T132229_R038_T23KLT_20210321T003354>,\n",
       " <Item id=S2B_MSIL2A_20210317T131239_R138_T23KLT_20210318T201849>,\n",
       " <Item id=S2A_MSIL2A_20210315T132231_R038_T23KLT_20210316T033557>,\n",
       " <Item id=S2A_MSIL2A_20210312T131241_R138_T23KLT_20210313T001407>,\n",
       " <Item id=S2B_MSIL2A_20210310T132229_R038_T23KLT_20210311T003042>,\n",
       " <Item id=S2B_MSIL2A_20210307T131239_R138_T23KLT_20210307T230927>,\n",
       " <Item id=S2A_MSIL2A_20210305T132231_R038_T23KLT_20210306T132945>,\n",
       " <Item id=S2A_MSIL2A_20210302T131241_R138_T23KLT_20210303T010250>,\n",
       " <Item id=S2B_MSIL2A_20210228T132229_R038_T23KLT_20210301T000744>,\n",
       " <Item id=S2B_MSIL2A_20210225T131239_R138_T23KLT_20210226T014323>,\n",
       " <Item id=S2A_MSIL2A_20210223T132231_R038_T23KLT_20210224T020645>,\n",
       " <Item id=S2A_MSIL2A_20210220T131241_R138_T23KLT_20210220T202218>,\n",
       " <Item id=S2B_MSIL2A_20210218T132229_R038_T23KLT_20210219T151836>,\n",
       " <Item id=S2B_MSIL2A_20210215T131239_R138_T23KLT_20210216T002357>,\n",
       " <Item id=S2A_MSIL2A_20210213T132231_R038_T23KLT_20210214T155028>,\n",
       " <Item id=S2A_MSIL2A_20210210T131241_R138_T23KLT_20210522T202620>,\n",
       " <Item id=S2B_MSIL2A_20210208T132229_R038_T23KLT_20210209T082123>,\n",
       " <Item id=S2B_MSIL2A_20210205T131239_R138_T23KLT_20210206T074323>,\n",
       " <Item id=S2A_MSIL2A_20210203T132231_R038_T23KLT_20210208T115909>,\n",
       " <Item id=S2A_MSIL2A_20210131T131241_R138_T23KLT_20210201T184210>,\n",
       " <Item id=S2B_MSIL2A_20210129T132229_R038_T23KLT_20210130T013326>,\n",
       " <Item id=S2B_MSIL2A_20210126T131239_R138_T23KLT_20210126T213320>,\n",
       " <Item id=S2A_MSIL2A_20210124T132231_R038_T23KLT_20210202T091114>,\n",
       " <Item id=S2A_MSIL2A_20210121T131241_R138_T23KLT_20210122T133435>,\n",
       " <Item id=S2B_MSIL2A_20210119T132229_R038_T23KLT_20210120T043221>,\n",
       " <Item id=S2B_MSIL2A_20210116T131239_R138_T23KLT_20210118T191619>,\n",
       " <Item id=S2A_MSIL2A_20210114T132231_R038_T23KLT_20210115T131322>,\n",
       " <Item id=S2A_MSIL2A_20210111T131241_R138_T23KLT_20210112T004537>,\n",
       " <Item id=S2B_MSIL2A_20210109T132229_R038_T23KLT_20210110T001823>,\n",
       " <Item id=S2B_MSIL2A_20210106T131239_R138_T23KLT_20210113T094522>,\n",
       " <Item id=S2A_MSIL2A_20210104T132231_R038_T23KLT_20210112T090137>,\n",
       " <Item id=S2A_MSIL2A_20210101T131241_R138_T23KLT_20210102T055845>]"
      ]
     },
     "execution_count": 12,
     "metadata": {},
     "output_type": "execute_result"
    }
   ],
   "source": [
    "tiles = search_tiles('23KLT', '2021-01/2021-12')\n",
    "tiles"
   ]
  },
  {
   "cell_type": "markdown",
   "id": "efdce791-6032-4d0e-89c6-3a1fe7380936",
   "metadata": {},
   "source": [
    "## Process the Images"
   ]
  },
  {
   "cell_type": "code",
   "execution_count": 13,
   "id": "4dfd0ef8-41be-4766-a4fe-6d09a945962b",
   "metadata": {},
   "outputs": [
    {
     "name": "stdout",
     "output_type": "stream",
     "text": [
      "0:03:20.143768\n",
      "**************************************************\n",
      "Processing tile <Item id=S2A_MSIL2A_20210713T132241_R038_T23KLT_20210714T070004>\n",
      "Downloading s2cloudless for S2A_MSIL2A_20210713T132241_R038_T23KLT_20210714T070004\n",
      "Getting image: S2A_MSIL2A_20210713T132241_R038_T23KLT_20210714T070004\n",
      "Downloading B02\n",
      "Retrieving band info\n",
      "Dividing band in 4 tiles\n"
     ]
    },
    {
     "data": {
      "application/vnd.jupyter.widget-view+json": {
       "model_id": "299756cfb57b4f48a8d1be75c10b4f0d",
       "version_major": 2,
       "version_minor": 0
      },
      "text/plain": [
       "Tiles:   0%|          | 0/4 [00:00<?, ?tile/s]"
      ]
     },
     "metadata": {},
     "output_type": "display_data"
    },
    {
     "data": {
      "application/vnd.jupyter.widget-view+json": {
       "model_id": "6b6c3324209a4e49839d567ec56529c8",
       "version_major": 2,
       "version_minor": 0
      },
      "text/plain": [
       "Tile[0:2896,0:2896]:   0%|          | 0.00/10.9M [00:00<?, ?b/s]"
      ]
     },
     "metadata": {},
     "output_type": "display_data"
    },
    {
     "data": {
      "application/vnd.jupyter.widget-view+json": {
       "model_id": "e73ce45dd0f64eb4bfc100dd559c7f1f",
       "version_major": 2,
       "version_minor": 0
      },
      "text/plain": [
       "Tile[0:2896,2896:5490]:   0%|          | 0.00/9.77M [00:00<?, ?b/s]"
      ]
     },
     "metadata": {},
     "output_type": "display_data"
    },
    {
     "data": {
      "application/vnd.jupyter.widget-view+json": {
       "model_id": "06e01f293b5d4b5ab4ba54c29f73ca01",
       "version_major": 2,
       "version_minor": 0
      },
      "text/plain": [
       "Tile[2896:5490,2896:5490]:   0%|          | 0.00/8.75M [00:00<?, ?b/s]"
      ]
     },
     "metadata": {},
     "output_type": "display_data"
    },
    {
     "data": {
      "application/vnd.jupyter.widget-view+json": {
       "model_id": "0dfc1842f27e4bc098b58ded5addc0ba",
       "version_major": 2,
       "version_minor": 0
      },
      "text/plain": [
       "Tile[2896:5490,0:2896]:   0%|          | 0.00/9.77M [00:00<?, ?b/s]"
      ]
     },
     "metadata": {},
     "output_type": "display_data"
    },
    {
     "name": "stdout",
     "output_type": "stream",
     "text": [
      "Downloading B03\n",
      "Downloading B04\n",
      "Downloading B11\n",
      "Downloading B12\n",
      "Finished. The result can be accessed at obj.array\n",
      "Getting metadata: granule-metadata\n"
     ]
    },
    {
     "name": "stderr",
     "output_type": "stream",
     "text": [
      "D:\\git_projects\\pc_waterdetect\\waterdetect\\glint.py:54: RuntimeWarning: Mean of empty slice\n",
      "  return np.nanmean(arrays_lst, axis=0)\n"
     ]
    },
    {
     "ename": "RasterioIOError",
     "evalue": "Read or write failed. IReadBlock failed at X offset 6, Y offset 7: TIFFReadEncodedTile() failed.",
     "output_type": "error",
     "traceback": [
      "\u001b[1;31m---------------------------------------------------------------------------\u001b[0m",
      "\u001b[1;31mCPLE_AppDefinedError\u001b[0m                      Traceback (most recent call last)",
      "File \u001b[1;32mrasterio\\_io.pyx:701\u001b[0m, in \u001b[0;36mrasterio._io.DatasetReaderBase._read\u001b[1;34m()\u001b[0m\n",
      "File \u001b[1;32mrasterio\\shim_rasterioex.pxi:162\u001b[0m, in \u001b[0;36mrasterio._shim.io_multi_band\u001b[1;34m()\u001b[0m\n",
      "File \u001b[1;32mrasterio\\_err.pyx:193\u001b[0m, in \u001b[0;36mrasterio._err.exc_wrap_int\u001b[1;34m()\u001b[0m\n",
      "\u001b[1;31mCPLE_AppDefinedError\u001b[0m: IReadBlock failed at X offset 6, Y offset 7: TIFFReadEncodedTile() failed.",
      "\nDuring handling of the above exception, another exception occurred:\n",
      "\u001b[1;31mRasterioIOError\u001b[0m                           Traceback (most recent call last)",
      "Input \u001b[1;32mIn [13]\u001b[0m, in \u001b[0;36m<module>\u001b[1;34m\u001b[0m\n\u001b[0;32m     17\u001b[0m \u001b[38;5;28mprint\u001b[39m(\u001b[38;5;124m'\u001b[39m\u001b[38;5;124m*\u001b[39m\u001b[38;5;124m'\u001b[39m\u001b[38;5;241m*\u001b[39m\u001b[38;5;241m50\u001b[39m)\n\u001b[0;32m     18\u001b[0m \u001b[38;5;28mprint\u001b[39m(\u001b[38;5;124mf\u001b[39m\u001b[38;5;124m'\u001b[39m\u001b[38;5;124mProcessing tile \u001b[39m\u001b[38;5;132;01m{\u001b[39;00mtile\u001b[38;5;132;01m}\u001b[39;00m\u001b[38;5;124m'\u001b[39m)\n\u001b[1;32m---> 19\u001b[0m wd \u001b[38;5;241m=\u001b[39m \u001b[43mWaterDetect\u001b[49m\u001b[43m(\u001b[49m\u001b[43mtile\u001b[49m\u001b[43m,\u001b[49m\u001b[43m \u001b[49m\u001b[43mcluster_bands\u001b[49m\u001b[43m,\u001b[49m\u001b[43m \u001b[49m\u001b[43ms2clouds\u001b[49m\u001b[38;5;241;43m=\u001b[39;49m\u001b[38;5;28;43;01mTrue\u001b[39;49;00m\u001b[43m,\u001b[49m\u001b[43m \u001b[49m\u001b[43mn_jobs\u001b[49m\u001b[38;5;241;43m=\u001b[39;49m\u001b[38;5;241;43m7\u001b[39;49m\u001b[43m)\u001b[49m\n\u001b[0;32m     20\u001b[0m wd\u001b[38;5;241m.\u001b[39mrun_detect_water()\n\u001b[0;32m     22\u001b[0m \u001b[38;5;66;03m# save thumbnails\u001b[39;00m\n",
      "File \u001b[1;32mD:\\git_projects\\pc_waterdetect\\waterdetect\\engine.py:256\u001b[0m, in \u001b[0;36mWaterDetect.__init__\u001b[1;34m(self, img_item, cluster_bands, s2clouds, sampling, out_shape, max_k, n_jobs)\u001b[0m\n\u001b[0;32m    254\u001b[0m \u001b[38;5;28;01mif\u001b[39;00m load_clouds\u001b[38;5;241m.\u001b[39mdone() \u001b[38;5;241m&\u001b[39m load_dataset\u001b[38;5;241m.\u001b[39mdone() \u001b[38;5;241m&\u001b[39m glint_proc\u001b[38;5;241m.\u001b[39mdone():\n\u001b[0;32m    255\u001b[0m     \u001b[38;5;28mself\u001b[39m\u001b[38;5;241m.\u001b[39mglint_proc \u001b[38;5;241m=\u001b[39m glint_proc\u001b[38;5;241m.\u001b[39mresult()                \n\u001b[1;32m--> 256\u001b[0m     \u001b[38;5;28mself\u001b[39m\u001b[38;5;241m.\u001b[39mimg \u001b[38;5;241m=\u001b[39m \u001b[43mload_dataset\u001b[49m\u001b[38;5;241;43m.\u001b[39;49m\u001b[43mresult\u001b[49m\u001b[43m(\u001b[49m\u001b[43m)\u001b[49m\n\u001b[0;32m    257\u001b[0m     clouds_array \u001b[38;5;241m=\u001b[39m load_clouds\u001b[38;5;241m.\u001b[39mresult()\n\u001b[0;32m    259\u001b[0m     \u001b[38;5;66;03m# georreference the output array\u001b[39;00m\n",
      "File \u001b[1;32mC:\\ProgramData\\Anaconda3\\envs\\planetary3\\lib\\concurrent\\futures\\_base.py:437\u001b[0m, in \u001b[0;36mFuture.result\u001b[1;34m(self, timeout)\u001b[0m\n\u001b[0;32m    435\u001b[0m     \u001b[38;5;28;01mraise\u001b[39;00m CancelledError()\n\u001b[0;32m    436\u001b[0m \u001b[38;5;28;01melif\u001b[39;00m \u001b[38;5;28mself\u001b[39m\u001b[38;5;241m.\u001b[39m_state \u001b[38;5;241m==\u001b[39m FINISHED:\n\u001b[1;32m--> 437\u001b[0m     \u001b[38;5;28;01mreturn\u001b[39;00m \u001b[38;5;28;43mself\u001b[39;49m\u001b[38;5;241;43m.\u001b[39;49m\u001b[43m__get_result\u001b[49m\u001b[43m(\u001b[49m\u001b[43m)\u001b[49m\n\u001b[0;32m    439\u001b[0m \u001b[38;5;28mself\u001b[39m\u001b[38;5;241m.\u001b[39m_condition\u001b[38;5;241m.\u001b[39mwait(timeout)\n\u001b[0;32m    441\u001b[0m \u001b[38;5;28;01mif\u001b[39;00m \u001b[38;5;28mself\u001b[39m\u001b[38;5;241m.\u001b[39m_state \u001b[38;5;129;01min\u001b[39;00m [CANCELLED, CANCELLED_AND_NOTIFIED]:\n",
      "File \u001b[1;32mC:\\ProgramData\\Anaconda3\\envs\\planetary3\\lib\\concurrent\\futures\\_base.py:389\u001b[0m, in \u001b[0;36mFuture.__get_result\u001b[1;34m(self)\u001b[0m\n\u001b[0;32m    387\u001b[0m \u001b[38;5;28;01mif\u001b[39;00m \u001b[38;5;28mself\u001b[39m\u001b[38;5;241m.\u001b[39m_exception:\n\u001b[0;32m    388\u001b[0m     \u001b[38;5;28;01mtry\u001b[39;00m:\n\u001b[1;32m--> 389\u001b[0m         \u001b[38;5;28;01mraise\u001b[39;00m \u001b[38;5;28mself\u001b[39m\u001b[38;5;241m.\u001b[39m_exception\n\u001b[0;32m    390\u001b[0m     \u001b[38;5;28;01mfinally\u001b[39;00m:\n\u001b[0;32m    391\u001b[0m         \u001b[38;5;66;03m# Break a reference cycle with the exception in self._exception\u001b[39;00m\n\u001b[0;32m    392\u001b[0m         \u001b[38;5;28mself\u001b[39m \u001b[38;5;241m=\u001b[39m \u001b[38;5;28;01mNone\u001b[39;00m\n",
      "File \u001b[1;32mC:\\ProgramData\\Anaconda3\\envs\\planetary3\\lib\\concurrent\\futures\\thread.py:57\u001b[0m, in \u001b[0;36m_WorkItem.run\u001b[1;34m(self)\u001b[0m\n\u001b[0;32m     54\u001b[0m     \u001b[38;5;28;01mreturn\u001b[39;00m\n\u001b[0;32m     56\u001b[0m \u001b[38;5;28;01mtry\u001b[39;00m:\n\u001b[1;32m---> 57\u001b[0m     result \u001b[38;5;241m=\u001b[39m \u001b[38;5;28;43mself\u001b[39;49m\u001b[38;5;241;43m.\u001b[39;49m\u001b[43mfn\u001b[49m\u001b[43m(\u001b[49m\u001b[38;5;241;43m*\u001b[39;49m\u001b[38;5;28;43mself\u001b[39;49m\u001b[38;5;241;43m.\u001b[39;49m\u001b[43margs\u001b[49m\u001b[43m,\u001b[49m\u001b[43m \u001b[49m\u001b[38;5;241;43m*\u001b[39;49m\u001b[38;5;241;43m*\u001b[39;49m\u001b[38;5;28;43mself\u001b[39;49m\u001b[38;5;241;43m.\u001b[39;49m\u001b[43mkwargs\u001b[49m\u001b[43m)\u001b[49m\n\u001b[0;32m     58\u001b[0m \u001b[38;5;28;01mexcept\u001b[39;00m \u001b[38;5;167;01mBaseException\u001b[39;00m \u001b[38;5;28;01mas\u001b[39;00m exc:\n\u001b[0;32m     59\u001b[0m     \u001b[38;5;28mself\u001b[39m\u001b[38;5;241m.\u001b[39mfuture\u001b[38;5;241m.\u001b[39mset_exception(exc)\n",
      "File \u001b[1;32mD:\\git_projects\\pc_waterdetect\\waterdetect\\engine.py:77\u001b[0m, in \u001b[0;36mopen_image\u001b[1;34m(image, bands, out_shape, n_jobs)\u001b[0m\n\u001b[0;32m     75\u001b[0m         \u001b[38;5;28mprint\u001b[39m(\u001b[38;5;124mf\u001b[39m\u001b[38;5;124m'\u001b[39m\u001b[38;5;124mDownloading \u001b[39m\u001b[38;5;132;01m{\u001b[39;00mband\u001b[38;5;132;01m}\u001b[39;00m\u001b[38;5;124m'\u001b[39m)\n\u001b[0;32m     76\u001b[0m         \u001b[38;5;28;01mif\u001b[39;00m band \u001b[38;5;241m!=\u001b[39m \u001b[38;5;124m'\u001b[39m\u001b[38;5;124mSCL\u001b[39m\u001b[38;5;124m'\u001b[39m:\n\u001b[1;32m---> 77\u001b[0m             datasets[band] \u001b[38;5;241m=\u001b[39m (\u001b[43mdatasets\u001b[49m\u001b[43m[\u001b[49m\u001b[43mband\u001b[49m\u001b[43m]\u001b[49m\u001b[38;5;241;43m/\u001b[39;49m\u001b[38;5;241;43m10000\u001b[39;49m)\u001b[38;5;241m.\u001b[39mastype(\u001b[38;5;124m'\u001b[39m\u001b[38;5;124mfloat32\u001b[39m\u001b[38;5;124m'\u001b[39m)\n\u001b[0;32m     78\u001b[0m \u001b[38;5;66;03m#        else:\u001b[39;00m\n\u001b[0;32m     79\u001b[0m \u001b[38;5;66;03m#            datasets[band] = (datasets[band]*1).astype('uint8')\u001b[39;00m\n\u001b[0;32m     80\u001b[0m \n\u001b[0;32m     81\u001b[0m     \u001b[38;5;66;03m# get the arrays to reshape\u001b[39;00m\n\u001b[0;32m     82\u001b[0m     reshape_arrays \u001b[38;5;241m=\u001b[39m {band: array \u001b[38;5;28;01mfor\u001b[39;00m band, array \u001b[38;5;129;01min\u001b[39;00m datasets\u001b[38;5;241m.\u001b[39mitems() \u001b[38;5;28;01mif\u001b[39;00m array\u001b[38;5;241m.\u001b[39mshape \u001b[38;5;241m!=\u001b[39m out_shape}\n",
      "File \u001b[1;32mC:\\ProgramData\\Anaconda3\\envs\\planetary3\\lib\\site-packages\\xarray\\core\\_typed_ops.py:218\u001b[0m, in \u001b[0;36mDataArrayOpsMixin.__truediv__\u001b[1;34m(self, other)\u001b[0m\n\u001b[0;32m    217\u001b[0m \u001b[38;5;28;01mdef\u001b[39;00m \u001b[38;5;21m__truediv__\u001b[39m(\u001b[38;5;28mself\u001b[39m, other):\n\u001b[1;32m--> 218\u001b[0m     \u001b[38;5;28;01mreturn\u001b[39;00m \u001b[38;5;28;43mself\u001b[39;49m\u001b[38;5;241;43m.\u001b[39;49m\u001b[43m_binary_op\u001b[49m\u001b[43m(\u001b[49m\u001b[43mother\u001b[49m\u001b[43m,\u001b[49m\u001b[43m \u001b[49m\u001b[43moperator\u001b[49m\u001b[38;5;241;43m.\u001b[39;49m\u001b[43mtruediv\u001b[49m\u001b[43m)\u001b[49m\n",
      "File \u001b[1;32mC:\\ProgramData\\Anaconda3\\envs\\planetary3\\lib\\site-packages\\xarray\\core\\dataarray.py:3088\u001b[0m, in \u001b[0;36mDataArray._binary_op\u001b[1;34m(self, other, f, reflexive)\u001b[0m\n\u001b[0;32m   3084\u001b[0m other_variable \u001b[38;5;241m=\u001b[39m \u001b[38;5;28mgetattr\u001b[39m(other, \u001b[38;5;124m\"\u001b[39m\u001b[38;5;124mvariable\u001b[39m\u001b[38;5;124m\"\u001b[39m, other)\n\u001b[0;32m   3085\u001b[0m other_coords \u001b[38;5;241m=\u001b[39m \u001b[38;5;28mgetattr\u001b[39m(other, \u001b[38;5;124m\"\u001b[39m\u001b[38;5;124mcoords\u001b[39m\u001b[38;5;124m\"\u001b[39m, \u001b[38;5;28;01mNone\u001b[39;00m)\n\u001b[0;32m   3087\u001b[0m variable \u001b[38;5;241m=\u001b[39m (\n\u001b[1;32m-> 3088\u001b[0m     \u001b[43mf\u001b[49m\u001b[43m(\u001b[49m\u001b[38;5;28;43mself\u001b[39;49m\u001b[38;5;241;43m.\u001b[39;49m\u001b[43mvariable\u001b[49m\u001b[43m,\u001b[49m\u001b[43m \u001b[49m\u001b[43mother_variable\u001b[49m\u001b[43m)\u001b[49m\n\u001b[0;32m   3089\u001b[0m     \u001b[38;5;28;01mif\u001b[39;00m \u001b[38;5;129;01mnot\u001b[39;00m reflexive\n\u001b[0;32m   3090\u001b[0m     \u001b[38;5;28;01melse\u001b[39;00m f(other_variable, \u001b[38;5;28mself\u001b[39m\u001b[38;5;241m.\u001b[39mvariable)\n\u001b[0;32m   3091\u001b[0m )\n\u001b[0;32m   3092\u001b[0m coords, indexes \u001b[38;5;241m=\u001b[39m \u001b[38;5;28mself\u001b[39m\u001b[38;5;241m.\u001b[39mcoords\u001b[38;5;241m.\u001b[39m_merge_raw(other_coords, reflexive)\n\u001b[0;32m   3093\u001b[0m name \u001b[38;5;241m=\u001b[39m \u001b[38;5;28mself\u001b[39m\u001b[38;5;241m.\u001b[39m_result_name(other)\n",
      "File \u001b[1;32mC:\\ProgramData\\Anaconda3\\envs\\planetary3\\lib\\site-packages\\xarray\\core\\_typed_ops.py:408\u001b[0m, in \u001b[0;36mVariableOpsMixin.__truediv__\u001b[1;34m(self, other)\u001b[0m\n\u001b[0;32m    407\u001b[0m \u001b[38;5;28;01mdef\u001b[39;00m \u001b[38;5;21m__truediv__\u001b[39m(\u001b[38;5;28mself\u001b[39m, other):\n\u001b[1;32m--> 408\u001b[0m     \u001b[38;5;28;01mreturn\u001b[39;00m \u001b[38;5;28;43mself\u001b[39;49m\u001b[38;5;241;43m.\u001b[39;49m\u001b[43m_binary_op\u001b[49m\u001b[43m(\u001b[49m\u001b[43mother\u001b[49m\u001b[43m,\u001b[49m\u001b[43m \u001b[49m\u001b[43moperator\u001b[49m\u001b[38;5;241;43m.\u001b[39;49m\u001b[43mtruediv\u001b[49m\u001b[43m)\u001b[49m\n",
      "File \u001b[1;32mC:\\ProgramData\\Anaconda3\\envs\\planetary3\\lib\\site-packages\\xarray\\core\\variable.py:2415\u001b[0m, in \u001b[0;36mVariable._binary_op\u001b[1;34m(self, other, f, reflexive)\u001b[0m\n\u001b[0;32m   2413\u001b[0m     other_data, self_data, dims \u001b[38;5;241m=\u001b[39m _broadcast_compat_data(other, \u001b[38;5;28mself\u001b[39m)\n\u001b[0;32m   2414\u001b[0m \u001b[38;5;28;01melse\u001b[39;00m:\n\u001b[1;32m-> 2415\u001b[0m     self_data, other_data, dims \u001b[38;5;241m=\u001b[39m \u001b[43m_broadcast_compat_data\u001b[49m\u001b[43m(\u001b[49m\u001b[38;5;28;43mself\u001b[39;49m\u001b[43m,\u001b[49m\u001b[43m \u001b[49m\u001b[43mother\u001b[49m\u001b[43m)\u001b[49m\n\u001b[0;32m   2416\u001b[0m keep_attrs \u001b[38;5;241m=\u001b[39m _get_keep_attrs(default\u001b[38;5;241m=\u001b[39m\u001b[38;5;28;01mFalse\u001b[39;00m)\n\u001b[0;32m   2417\u001b[0m attrs \u001b[38;5;241m=\u001b[39m \u001b[38;5;28mself\u001b[39m\u001b[38;5;241m.\u001b[39m_attrs \u001b[38;5;28;01mif\u001b[39;00m keep_attrs \u001b[38;5;28;01melse\u001b[39;00m \u001b[38;5;28;01mNone\u001b[39;00m\n",
      "File \u001b[1;32mC:\\ProgramData\\Anaconda3\\envs\\planetary3\\lib\\site-packages\\xarray\\core\\variable.py:2894\u001b[0m, in \u001b[0;36m_broadcast_compat_data\u001b[1;34m(self, other)\u001b[0m\n\u001b[0;32m   2891\u001b[0m     dims \u001b[38;5;241m=\u001b[39m new_self\u001b[38;5;241m.\u001b[39mdims\n\u001b[0;32m   2892\u001b[0m \u001b[38;5;28;01melse\u001b[39;00m:\n\u001b[0;32m   2893\u001b[0m     \u001b[38;5;66;03m# rely on numpy broadcasting rules\u001b[39;00m\n\u001b[1;32m-> 2894\u001b[0m     self_data \u001b[38;5;241m=\u001b[39m \u001b[38;5;28;43mself\u001b[39;49m\u001b[38;5;241;43m.\u001b[39;49m\u001b[43mdata\u001b[49m\n\u001b[0;32m   2895\u001b[0m     other_data \u001b[38;5;241m=\u001b[39m other\n\u001b[0;32m   2896\u001b[0m     dims \u001b[38;5;241m=\u001b[39m \u001b[38;5;28mself\u001b[39m\u001b[38;5;241m.\u001b[39mdims\n",
      "File \u001b[1;32mC:\\ProgramData\\Anaconda3\\envs\\planetary3\\lib\\site-packages\\xarray\\core\\variable.py:337\u001b[0m, in \u001b[0;36mVariable.data\u001b[1;34m(self)\u001b[0m\n\u001b[0;32m    335\u001b[0m     \u001b[38;5;28;01mreturn\u001b[39;00m \u001b[38;5;28mself\u001b[39m\u001b[38;5;241m.\u001b[39m_data\n\u001b[0;32m    336\u001b[0m \u001b[38;5;28;01melse\u001b[39;00m:\n\u001b[1;32m--> 337\u001b[0m     \u001b[38;5;28;01mreturn\u001b[39;00m \u001b[38;5;28;43mself\u001b[39;49m\u001b[38;5;241;43m.\u001b[39;49m\u001b[43mvalues\u001b[49m\n",
      "File \u001b[1;32mC:\\ProgramData\\Anaconda3\\envs\\planetary3\\lib\\site-packages\\xarray\\core\\variable.py:510\u001b[0m, in \u001b[0;36mVariable.values\u001b[1;34m(self)\u001b[0m\n\u001b[0;32m    507\u001b[0m \u001b[38;5;129m@property\u001b[39m\n\u001b[0;32m    508\u001b[0m \u001b[38;5;28;01mdef\u001b[39;00m \u001b[38;5;21mvalues\u001b[39m(\u001b[38;5;28mself\u001b[39m):\n\u001b[0;32m    509\u001b[0m     \u001b[38;5;124;03m\"\"\"The variable's data as a numpy.ndarray\"\"\"\u001b[39;00m\n\u001b[1;32m--> 510\u001b[0m     \u001b[38;5;28;01mreturn\u001b[39;00m \u001b[43m_as_array_or_item\u001b[49m\u001b[43m(\u001b[49m\u001b[38;5;28;43mself\u001b[39;49m\u001b[38;5;241;43m.\u001b[39;49m\u001b[43m_data\u001b[49m\u001b[43m)\u001b[49m\n",
      "File \u001b[1;32mC:\\ProgramData\\Anaconda3\\envs\\planetary3\\lib\\site-packages\\xarray\\core\\variable.py:250\u001b[0m, in \u001b[0;36m_as_array_or_item\u001b[1;34m(data)\u001b[0m\n\u001b[0;32m    236\u001b[0m \u001b[38;5;28;01mdef\u001b[39;00m \u001b[38;5;21m_as_array_or_item\u001b[39m(data):\n\u001b[0;32m    237\u001b[0m     \u001b[38;5;124;03m\"\"\"Return the given values as a numpy array, or as an individual item if\u001b[39;00m\n\u001b[0;32m    238\u001b[0m \u001b[38;5;124;03m    it's a 0d datetime64 or timedelta64 array.\u001b[39;00m\n\u001b[0;32m    239\u001b[0m \n\u001b[1;32m   (...)\u001b[0m\n\u001b[0;32m    248\u001b[0m \u001b[38;5;124;03m    TODO: remove this (replace with np.asarray) once these issues are fixed\u001b[39;00m\n\u001b[0;32m    249\u001b[0m \u001b[38;5;124;03m    \"\"\"\u001b[39;00m\n\u001b[1;32m--> 250\u001b[0m     data \u001b[38;5;241m=\u001b[39m \u001b[43mnp\u001b[49m\u001b[38;5;241;43m.\u001b[39;49m\u001b[43masarray\u001b[49m\u001b[43m(\u001b[49m\u001b[43mdata\u001b[49m\u001b[43m)\u001b[49m\n\u001b[0;32m    251\u001b[0m     \u001b[38;5;28;01mif\u001b[39;00m data\u001b[38;5;241m.\u001b[39mndim \u001b[38;5;241m==\u001b[39m \u001b[38;5;241m0\u001b[39m:\n\u001b[0;32m    252\u001b[0m         \u001b[38;5;28;01mif\u001b[39;00m data\u001b[38;5;241m.\u001b[39mdtype\u001b[38;5;241m.\u001b[39mkind \u001b[38;5;241m==\u001b[39m \u001b[38;5;124m\"\u001b[39m\u001b[38;5;124mM\u001b[39m\u001b[38;5;124m\"\u001b[39m:\n",
      "File \u001b[1;32mC:\\ProgramData\\Anaconda3\\envs\\planetary3\\lib\\site-packages\\xarray\\core\\indexing.py:552\u001b[0m, in \u001b[0;36mMemoryCachedArray.__array__\u001b[1;34m(self, dtype)\u001b[0m\n\u001b[0;32m    551\u001b[0m \u001b[38;5;28;01mdef\u001b[39;00m \u001b[38;5;21m__array__\u001b[39m(\u001b[38;5;28mself\u001b[39m, dtype\u001b[38;5;241m=\u001b[39m\u001b[38;5;28;01mNone\u001b[39;00m):\n\u001b[1;32m--> 552\u001b[0m     \u001b[38;5;28;43mself\u001b[39;49m\u001b[38;5;241;43m.\u001b[39;49m\u001b[43m_ensure_cached\u001b[49m\u001b[43m(\u001b[49m\u001b[43m)\u001b[49m\n\u001b[0;32m    553\u001b[0m     \u001b[38;5;28;01mreturn\u001b[39;00m np\u001b[38;5;241m.\u001b[39masarray(\u001b[38;5;28mself\u001b[39m\u001b[38;5;241m.\u001b[39marray, dtype\u001b[38;5;241m=\u001b[39mdtype)\n",
      "File \u001b[1;32mC:\\ProgramData\\Anaconda3\\envs\\planetary3\\lib\\site-packages\\xarray\\core\\indexing.py:549\u001b[0m, in \u001b[0;36mMemoryCachedArray._ensure_cached\u001b[1;34m(self)\u001b[0m\n\u001b[0;32m    547\u001b[0m \u001b[38;5;28;01mdef\u001b[39;00m \u001b[38;5;21m_ensure_cached\u001b[39m(\u001b[38;5;28mself\u001b[39m):\n\u001b[0;32m    548\u001b[0m     \u001b[38;5;28;01mif\u001b[39;00m \u001b[38;5;129;01mnot\u001b[39;00m \u001b[38;5;28misinstance\u001b[39m(\u001b[38;5;28mself\u001b[39m\u001b[38;5;241m.\u001b[39marray, NumpyIndexingAdapter):\n\u001b[1;32m--> 549\u001b[0m         \u001b[38;5;28mself\u001b[39m\u001b[38;5;241m.\u001b[39marray \u001b[38;5;241m=\u001b[39m NumpyIndexingAdapter(\u001b[43mnp\u001b[49m\u001b[38;5;241;43m.\u001b[39;49m\u001b[43masarray\u001b[49m\u001b[43m(\u001b[49m\u001b[38;5;28;43mself\u001b[39;49m\u001b[38;5;241;43m.\u001b[39;49m\u001b[43marray\u001b[49m\u001b[43m)\u001b[49m)\n",
      "File \u001b[1;32mC:\\ProgramData\\Anaconda3\\envs\\planetary3\\lib\\site-packages\\xarray\\core\\indexing.py:522\u001b[0m, in \u001b[0;36mCopyOnWriteArray.__array__\u001b[1;34m(self, dtype)\u001b[0m\n\u001b[0;32m    521\u001b[0m \u001b[38;5;28;01mdef\u001b[39;00m \u001b[38;5;21m__array__\u001b[39m(\u001b[38;5;28mself\u001b[39m, dtype\u001b[38;5;241m=\u001b[39m\u001b[38;5;28;01mNone\u001b[39;00m):\n\u001b[1;32m--> 522\u001b[0m     \u001b[38;5;28;01mreturn\u001b[39;00m \u001b[43mnp\u001b[49m\u001b[38;5;241;43m.\u001b[39;49m\u001b[43masarray\u001b[49m\u001b[43m(\u001b[49m\u001b[38;5;28;43mself\u001b[39;49m\u001b[38;5;241;43m.\u001b[39;49m\u001b[43marray\u001b[49m\u001b[43m,\u001b[49m\u001b[43m \u001b[49m\u001b[43mdtype\u001b[49m\u001b[38;5;241;43m=\u001b[39;49m\u001b[43mdtype\u001b[49m\u001b[43m)\u001b[49m\n",
      "File \u001b[1;32mC:\\ProgramData\\Anaconda3\\envs\\planetary3\\lib\\site-packages\\xarray\\core\\indexing.py:423\u001b[0m, in \u001b[0;36mLazilyIndexedArray.__array__\u001b[1;34m(self, dtype)\u001b[0m\n\u001b[0;32m    421\u001b[0m \u001b[38;5;28;01mdef\u001b[39;00m \u001b[38;5;21m__array__\u001b[39m(\u001b[38;5;28mself\u001b[39m, dtype\u001b[38;5;241m=\u001b[39m\u001b[38;5;28;01mNone\u001b[39;00m):\n\u001b[0;32m    422\u001b[0m     array \u001b[38;5;241m=\u001b[39m as_indexable(\u001b[38;5;28mself\u001b[39m\u001b[38;5;241m.\u001b[39marray)\n\u001b[1;32m--> 423\u001b[0m     \u001b[38;5;28;01mreturn\u001b[39;00m np\u001b[38;5;241m.\u001b[39masarray(\u001b[43marray\u001b[49m\u001b[43m[\u001b[49m\u001b[38;5;28;43mself\u001b[39;49m\u001b[38;5;241;43m.\u001b[39;49m\u001b[43mkey\u001b[49m\u001b[43m]\u001b[49m, dtype\u001b[38;5;241m=\u001b[39m\u001b[38;5;28;01mNone\u001b[39;00m)\n",
      "File \u001b[1;32mC:\\ProgramData\\Anaconda3\\envs\\planetary3\\lib\\site-packages\\rioxarray\\_io.py:301\u001b[0m, in \u001b[0;36mRasterioArrayWrapper.__getitem__\u001b[1;34m(self, key)\u001b[0m\n\u001b[0;32m    300\u001b[0m \u001b[38;5;28;01mdef\u001b[39;00m \u001b[38;5;21m__getitem__\u001b[39m(\u001b[38;5;28mself\u001b[39m, key):\n\u001b[1;32m--> 301\u001b[0m     \u001b[38;5;28;01mreturn\u001b[39;00m \u001b[43mindexing\u001b[49m\u001b[38;5;241;43m.\u001b[39;49m\u001b[43mexplicit_indexing_adapter\u001b[49m\u001b[43m(\u001b[49m\n\u001b[0;32m    302\u001b[0m \u001b[43m        \u001b[49m\u001b[43mkey\u001b[49m\u001b[43m,\u001b[49m\u001b[43m \u001b[49m\u001b[38;5;28;43mself\u001b[39;49m\u001b[38;5;241;43m.\u001b[39;49m\u001b[43mshape\u001b[49m\u001b[43m,\u001b[49m\u001b[43m \u001b[49m\u001b[43mindexing\u001b[49m\u001b[38;5;241;43m.\u001b[39;49m\u001b[43mIndexingSupport\u001b[49m\u001b[38;5;241;43m.\u001b[39;49m\u001b[43mOUTER\u001b[49m\u001b[43m,\u001b[49m\u001b[43m \u001b[49m\u001b[38;5;28;43mself\u001b[39;49m\u001b[38;5;241;43m.\u001b[39;49m\u001b[43m_getitem\u001b[49m\n\u001b[0;32m    303\u001b[0m \u001b[43m    \u001b[49m\u001b[43m)\u001b[49m\n",
      "File \u001b[1;32mC:\\ProgramData\\Anaconda3\\envs\\planetary3\\lib\\site-packages\\xarray\\core\\indexing.py:712\u001b[0m, in \u001b[0;36mexplicit_indexing_adapter\u001b[1;34m(key, shape, indexing_support, raw_indexing_method)\u001b[0m\n\u001b[0;32m    690\u001b[0m \u001b[38;5;124;03m\"\"\"Support explicit indexing by delegating to a raw indexing method.\u001b[39;00m\n\u001b[0;32m    691\u001b[0m \n\u001b[0;32m    692\u001b[0m \u001b[38;5;124;03mOuter and/or vectorized indexers are supported by indexing a second time\u001b[39;00m\n\u001b[1;32m   (...)\u001b[0m\n\u001b[0;32m    709\u001b[0m \u001b[38;5;124;03mIndexing result, in the form of a duck numpy-array.\u001b[39;00m\n\u001b[0;32m    710\u001b[0m \u001b[38;5;124;03m\"\"\"\u001b[39;00m\n\u001b[0;32m    711\u001b[0m raw_key, numpy_indices \u001b[38;5;241m=\u001b[39m decompose_indexer(key, shape, indexing_support)\n\u001b[1;32m--> 712\u001b[0m result \u001b[38;5;241m=\u001b[39m \u001b[43mraw_indexing_method\u001b[49m\u001b[43m(\u001b[49m\u001b[43mraw_key\u001b[49m\u001b[38;5;241;43m.\u001b[39;49m\u001b[43mtuple\u001b[49m\u001b[43m)\u001b[49m\n\u001b[0;32m    713\u001b[0m \u001b[38;5;28;01mif\u001b[39;00m numpy_indices\u001b[38;5;241m.\u001b[39mtuple:\n\u001b[0;32m    714\u001b[0m     \u001b[38;5;66;03m# index the loaded np.ndarray\u001b[39;00m\n\u001b[0;32m    715\u001b[0m     result \u001b[38;5;241m=\u001b[39m NumpyIndexingAdapter(np\u001b[38;5;241m.\u001b[39masarray(result))[numpy_indices]\n",
      "File \u001b[1;32mC:\\ProgramData\\Anaconda3\\envs\\planetary3\\lib\\site-packages\\rioxarray\\_io.py:287\u001b[0m, in \u001b[0;36mRasterioArrayWrapper._getitem\u001b[1;34m(self, key)\u001b[0m\n\u001b[0;32m    285\u001b[0m \u001b[38;5;28;01mif\u001b[39;00m \u001b[38;5;28mself\u001b[39m\u001b[38;5;241m.\u001b[39mvrt_params \u001b[38;5;129;01mis\u001b[39;00m \u001b[38;5;129;01mnot\u001b[39;00m \u001b[38;5;28;01mNone\u001b[39;00m:\n\u001b[0;32m    286\u001b[0m     riods \u001b[38;5;241m=\u001b[39m WarpedVRT(riods, \u001b[38;5;241m*\u001b[39m\u001b[38;5;241m*\u001b[39m\u001b[38;5;28mself\u001b[39m\u001b[38;5;241m.\u001b[39mvrt_params)\n\u001b[1;32m--> 287\u001b[0m out \u001b[38;5;241m=\u001b[39m \u001b[43mriods\u001b[49m\u001b[38;5;241;43m.\u001b[39;49m\u001b[43mread\u001b[49m\u001b[43m(\u001b[49m\u001b[43mband_key\u001b[49m\u001b[43m,\u001b[49m\u001b[43m \u001b[49m\u001b[43mwindow\u001b[49m\u001b[38;5;241;43m=\u001b[39;49m\u001b[43mwindow\u001b[49m\u001b[43m,\u001b[49m\u001b[43m \u001b[49m\u001b[43mmasked\u001b[49m\u001b[38;5;241;43m=\u001b[39;49m\u001b[38;5;28;43mself\u001b[39;49m\u001b[38;5;241;43m.\u001b[39;49m\u001b[43mmasked\u001b[49m\u001b[43m)\u001b[49m\n\u001b[0;32m    288\u001b[0m \u001b[38;5;28;01mif\u001b[39;00m \u001b[38;5;28mself\u001b[39m\u001b[38;5;241m.\u001b[39mmasked:\n\u001b[0;32m    289\u001b[0m     out \u001b[38;5;241m=\u001b[39m np\u001b[38;5;241m.\u001b[39mma\u001b[38;5;241m.\u001b[39mfilled(out\u001b[38;5;241m.\u001b[39mastype(\u001b[38;5;28mself\u001b[39m\u001b[38;5;241m.\u001b[39mdtype), \u001b[38;5;28mself\u001b[39m\u001b[38;5;241m.\u001b[39mfill_value)\n",
      "File \u001b[1;32mrasterio\\_io.pyx:367\u001b[0m, in \u001b[0;36mrasterio._io.DatasetReaderBase.read\u001b[1;34m()\u001b[0m\n",
      "File \u001b[1;32mrasterio\\_io.pyx:704\u001b[0m, in \u001b[0;36mrasterio._io.DatasetReaderBase._read\u001b[1;34m()\u001b[0m\n",
      "\u001b[1;31mRasterioIOError\u001b[0m: Read or write failed. IReadBlock failed at X offset 6, Y offset 7: TIFFReadEncodedTile() failed."
     ]
    }
   ],
   "source": [
    "import gc\n",
    "from datetime import datetime\n",
    "\n",
    "cluster_bands = ['mndwi', 'ndwi', 'B12']\n",
    "\n",
    "lap = datetime.now()\n",
    "\n",
    "for tile in tiles:\n",
    "    clear_output(wait=True)\n",
    "        \n",
    "    print(datetime.now() - lap)\n",
    "    lap = datetime.now()\n",
    "    \n",
    "    # tr.create_snapshot()\n",
    "    # tr.stats.print_summary()\n",
    "    \n",
    "    print('*'*50)\n",
    "    print(f'Processing tile {tile}')\n",
    "    wd = WaterDetect(tile, cluster_bands, s2clouds=True, n_jobs=7)\n",
    "    wd.run_detect_water()\n",
    "    \n",
    "    # save thumbnails\n",
    "    wd.plot_thumbs(cols=3, thumbs=['rgb', 'watermask', 'mndwi', 'mask', 'glint', 'ndwi'],  save_folder='./tmp')\n",
    "    \n",
    "    # save graphs\n",
    "    wd.plot_graphs([['ndwi', 'mndwi'], ['B12', 'mndwi']], cols=2, save_folder='./tmp')\n",
    "    \n",
    "    # save the watermask\n",
    "    wd.save_geotiff('nodata_watermask', Path('./tmp')/f'{wd.img_item.id[:38]}_watermask.tif')\n",
    "\n",
    "    # del wd\n",
    "    # gc.collect()"
   ]
  },
  {
   "cell_type": "code",
   "execution_count": null,
   "id": "7d973552-d9ad-4f34-9414-d7b4ba7d5ece",
   "metadata": {},
   "outputs": [],
   "source": []
  }
 ],
 "metadata": {
  "kernelspec": {
   "display_name": "Python 3",
   "language": "python",
   "name": "python3"
  },
  "language_info": {
   "codemirror_mode": {
    "name": "ipython",
    "version": 3
   },
   "file_extension": ".py",
   "mimetype": "text/x-python",
   "name": "python",
   "nbconvert_exporter": "python",
   "pygments_lexer": "ipython3",
   "version": "3.8.10"
  }
 },
 "nbformat": 4,
 "nbformat_minor": 5
}
